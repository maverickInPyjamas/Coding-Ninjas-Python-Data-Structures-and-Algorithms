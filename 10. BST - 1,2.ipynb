{
 "cells": [
  {
   "cell_type": "markdown",
   "metadata": {},
   "source": [
    "# This Contains :-\n",
    "\n",
    "1. __NOTE : run this cell__ Binary Tree Node class\n",
    "2. __NOTE : run this cell__ Binary Tree Class\n",
    "3. Search in BST\n",
    "4. Elements Between K1 and K2\n",
    "5. Construct BST\n"
   ]
  },
  {
   "cell_type": "markdown",
   "metadata": {},
   "source": [
    "## Binary Tree Node class"
   ]
  },
  {
   "cell_type": "code",
   "execution_count": 5,
   "metadata": {},
   "outputs": [],
   "source": [
    "class BinaryTreeNode():\n",
    "    def __init__(self, data):\n",
    "        self.data = data\n",
    "        self.left = None\n",
    "        self.right = None"
   ]
  },
  {
   "cell_type": "markdown",
   "metadata": {},
   "source": [
    "## Binary Tree Class"
   ]
  },
  {
   "cell_type": "code",
   "execution_count": 6,
   "metadata": {},
   "outputs": [],
   "source": [
    "import queue\n",
    "\n",
    "class BinaryTree():\n",
    "    \n",
    "    def __init__(self):\n",
    "        pass\n",
    "    \n",
    "    def take_input(self):\n",
    "        \n",
    "        arr = [int(i) for i in input().strip().split()]\n",
    "        \n",
    "        if len(arr) is 0 or arr[0] is -1:\n",
    "            return None\n",
    "        \n",
    "        root = BinaryTreeNode(arr[0])\n",
    "        i = 1\n",
    "        q = queue.Queue()\n",
    "        q.put(root)\n",
    "        \n",
    "        while not q.empty():\n",
    "            currNode = q.get()\n",
    "            \n",
    "            # inserting left child\n",
    "            leftChildData = arr[i]\n",
    "            i+=1\n",
    "            if leftChildData != -1:\n",
    "                leftNode = BinaryTreeNode(leftChildData)\n",
    "                currNode.left = leftNode\n",
    "                q.put(leftNode)\n",
    "            \n",
    "            #inserting right child\n",
    "            rightChildData = arr[i]\n",
    "            i+=1\n",
    "            if rightChildData != -1:\n",
    "                rightNode = BinaryTreeNode(rightChildData)\n",
    "                currNode.right = rightNode\n",
    "                q.put(rightNode)\n",
    "            \n",
    "        return root\n",
    "    \n",
    "    \n",
    "    def print_tree(self, root):\n",
    "        if root is None:\n",
    "            print(\"-1\")\n",
    "            \n",
    "        q = queue.Queue()\n",
    "        q.put(root)\n",
    "        \n",
    "        while not q.empty():\n",
    "            currNode = q.get()\n",
    "            \n",
    "            print(\"{a} : \".format(a = currNode.data), end = \"\")\n",
    "            \n",
    "            if currNode.left is not None:\n",
    "                q.put(currNode.left)\n",
    "                print(\"L : {a}, \".format(a = currNode.left.data), end = \"\")\n",
    "            else :\n",
    "                print(\"L : -1,\", end = \"\")\n",
    "                \n",
    "            if currNode.right is not None:\n",
    "                q.put(currNode.right)\n",
    "                print(\"R : {a} \".format(a = currNode.right.data), end = \"\")\n",
    "            else :\n",
    "                print(\"R : -1\", end = \"\")\n",
    "                \n",
    "            print()"
   ]
  },
  {
   "cell_type": "code",
   "execution_count": 7,
   "metadata": {},
   "outputs": [
    {
     "name": "stdout",
     "output_type": "stream",
     "text": [
      "8 3 10 1 6 -1 14 -1 -1 4 7 13 -1 -1 -1 -1 -1 -1 -1\n",
      "8 : L : 3, R : 10 \n",
      "3 : L : 1, R : 6 \n",
      "10 : L : -1,R : 14 \n",
      "1 : L : -1,R : -1\n",
      "6 : L : 4, R : 7 \n",
      "14 : L : 13, R : -1\n",
      "4 : L : -1,R : -1\n",
      "7 : L : -1,R : -1\n",
      "13 : L : -1,R : -1\n"
     ]
    }
   ],
   "source": [
    "bt = BinaryTree()\n",
    "root = bt.take_input()\n",
    "bt.print_tree(root)"
   ]
  },
  {
   "cell_type": "markdown",
   "metadata": {},
   "source": [
    "# Search Node in BST"
   ]
  },
  {
   "cell_type": "raw",
   "metadata": {},
   "source": [
    "Given a BST and an integer k. Find if the integer k is present in given BST or not. You have to return true, if node with data k is present, return false otherwise.\n",
    "\n",
    "Note: Assume that BST contains all unique elements.\n",
    "\n",
    "Input Format:\n",
    "The first line of input contains data of the nodes of the tree in level order form. The data of the nodes of the tree is separated by space. If any node does not have left or right child, take -1 in its place. Since -1 is used as an indication whether the left or right nodes exist, therefore, it will not be a part of the data of any node.   \n",
    "The following line of input contains an integer, that denotes the value of k.\n",
    "\n",
    "Output Format:\n",
    "The first and only line of output contains a boolean value. Print true, if node with data k is present, print false otherwise. \n",
    "\n",
    "Constraints:\n",
    "\n",
    "Time Limit: 1 second\n",
    "\n",
    "Sample Input 1 :\n",
    "8 5 10 2 6 -1 -1 -1 -1 -1 7 -1 -1\n",
    "2\n",
    "Sample Output 1 :\n",
    "true\n",
    "\n",
    "Sample Input 2 :\n",
    "8 5 10 2 6 -1 -1 -1 -1 -1 7 -1 -1\n",
    "12\n",
    "Sample Output 2 :\n",
    "false"
   ]
  },
  {
   "cell_type": "code",
   "execution_count": 12,
   "metadata": {},
   "outputs": [],
   "source": [
    "def searchBST(root, k):\n",
    "    if root is None:\n",
    "        return False\n",
    "    \n",
    "    if root.data is k:\n",
    "        return True\n",
    "    \n",
    "    if root.data < k:\n",
    "        return searchBST(root.right, k)\n",
    "    else:\n",
    "        return searchBST(root.left, k)"
   ]
  },
  {
   "cell_type": "code",
   "execution_count": 13,
   "metadata": {},
   "outputs": [
    {
     "name": "stdout",
     "output_type": "stream",
     "text": [
      "8 5 10 2 6 -1 -1 -1 -1 -1 7 -1 -1\n",
      "2\n",
      "True\n"
     ]
    }
   ],
   "source": [
    "root = bt.take_input()\n",
    "k = int(input())\n",
    "print(searchBST(root, k))"
   ]
  },
  {
   "cell_type": "markdown",
   "metadata": {},
   "source": [
    "# Elements Between K1 and K2"
   ]
  },
  {
   "cell_type": "raw",
   "metadata": {},
   "source": [
    "Given a Binary Search Tree and two integers k1 and k2, find and print the elements which are in range k1 and k2 (both inclusive).\n",
    "Print the elements in increasing order.\n",
    "\n",
    "Input format:\n",
    "The first line of input contains data of the nodes of the tree in level order form. The data of the nodes of the tree is separated by space. If any node does not have left or right child, take -1 in its place. Since -1 is used as an indication whether the left or right nodes exist, therefore, it will not be a part of the data of any node.\n",
    "The following line contains two integers, that denote the value of k1 and k2.\n",
    "\n",
    "Output Format:\n",
    "The first and only line of output prints the elements which are in range k1 and k2 (both inclusive). Print the elements in increasing order.\n",
    "\n",
    "Constraints:\n",
    "\n",
    "Time Limit: 1 second\n",
    "\n",
    "Sample Input 1:\n",
    "8 5 10 2 6 -1 -1 -1 -1 -1 7 -1 -1\n",
    "6 10\n",
    "Sample Output 1:\n",
    "6 7 8 10"
   ]
  },
  {
   "cell_type": "code",
   "execution_count": 14,
   "metadata": {},
   "outputs": [],
   "source": [
    "def elements_between_k1_k2(root, k1, k2):\n",
    "    if root is None:\n",
    "        return\n",
    "    elements_between_k1_k2(root.left, k1, k2)\n",
    "    \n",
    "    if k1 <= root.data <= k2:\n",
    "        print(root.data, end = \" \")\n",
    "        \n",
    "    elements_between_k1_k2(root.right, k1, k2)"
   ]
  },
  {
   "cell_type": "code",
   "execution_count": 15,
   "metadata": {},
   "outputs": [
    {
     "name": "stdout",
     "output_type": "stream",
     "text": [
      "8 5 10 2 6 -1 -1 -1 -1 -1 7 -1 -1\n",
      "6 10\n",
      "6 7 8 10 "
     ]
    }
   ],
   "source": [
    "root = bt.take_input()\n",
    "k1, k2 = [int(i) for i in input().strip().split()]\n",
    "elements_between_k1_k2(root, k1, k2)"
   ]
  },
  {
   "cell_type": "markdown",
   "metadata": {},
   "source": [
    "# Construct BST"
   ]
  },
  {
   "cell_type": "raw",
   "metadata": {},
   "source": [
    "Given a sorted integer array A of size n, which contains all unique elements. You need to construct a balanced BST from this input array. Return the root of constructed BST.\n",
    "Note: If array size is even, take first mid as root.\n",
    "\n",
    "Input format:\n",
    "The first line of input contains an integer, which denotes the value of n. The following line contains n space separated integers, that denote the values of array.\n",
    "\n",
    "Output Format:\n",
    "The first and only line of output contains values of BST nodes, printed in pre order traversal.\n",
    "\n",
    "Constraints:\n",
    "\n",
    "Time Limit: 1 second\n",
    "\n",
    "Sample Input 1:\n",
    "7\n",
    "1 2 3 4 5 6 7\n",
    "Sample Output 1:\n",
    "4 2 1 3 6 5 7 "
   ]
  },
  {
   "cell_type": "code",
   "execution_count": 23,
   "metadata": {},
   "outputs": [],
   "source": [
    "def preorder(root):\n",
    "    if root is None:\n",
    "        return\n",
    "    print(root.data, end=\" \")\n",
    "    preorder(root.left)\n",
    "    preorder(root.right)"
   ]
  },
  {
   "cell_type": "code",
   "execution_count": 24,
   "metadata": {},
   "outputs": [],
   "source": [
    "def constructBST(arr):\n",
    "    if len(arr) is 0:\n",
    "        return None\n",
    "    mid = len(arr)//2\n",
    "    root = BinaryTreeNode(arr[mid])\n",
    "    root.left = constructBST(arr[:mid])\n",
    "    root.right = constructBST(arr[mid+1:])\n",
    "    return root"
   ]
  },
  {
   "cell_type": "code",
   "execution_count": 25,
   "metadata": {},
   "outputs": [
    {
     "name": "stdout",
     "output_type": "stream",
     "text": [
      "1 2 3 4 5 6 7\n",
      "4 2 1 3 6 5 7 "
     ]
    }
   ],
   "source": [
    "arr = [int(i) for i in input().strip().split()]\n",
    "root = constructBST(arr)\n",
    "preorder(root)"
   ]
  },
  {
   "cell_type": "markdown",
   "metadata": {},
   "source": [
    "# check BST"
   ]
  },
  {
   "cell_type": "code",
   "execution_count": 37,
   "metadata": {},
   "outputs": [
    {
     "name": "stdout",
     "output_type": "stream",
     "text": [
      "-9223372036854775807 9223372036854775807\n"
     ]
    }
   ],
   "source": [
    "import sys\n",
    "\n",
    "max_value = sys.maxsize\n",
    "min_value = -max_value\n",
    "print(min_value, max_value)"
   ]
  },
  {
   "cell_type": "code",
   "execution_count": 46,
   "metadata": {},
   "outputs": [],
   "source": [
    "def isBST(root, min_value = min_value, max_value = max_value):\n",
    "    if root is None:\n",
    "        return True\n",
    "    \n",
    "    if root.data < min_value or root.data >= max_value:\n",
    "        return False\n",
    "    \n",
    "    isLeftBalanced = isBST(root.left, min_value, root.data-1)\n",
    "    isRightBalanced = isBST(root.right, root.data, max_value)\n",
    "    \n",
    "    return isLeftBalanced and isRightBalanced"
   ]
  },
  {
   "cell_type": "code",
   "execution_count": 39,
   "metadata": {},
   "outputs": [
    {
     "name": "stdout",
     "output_type": "stream",
     "text": [
      "True\n"
     ]
    }
   ],
   "source": [
    "print(isBST(root))"
   ]
  },
  {
   "cell_type": "code",
   "execution_count": 47,
   "metadata": {},
   "outputs": [
    {
     "name": "stdout",
     "output_type": "stream",
     "text": [
      "1 2 3 4 5 6 7 -1 -1 -1 -1 -1 -1 -1 -1 \n",
      "False\n"
     ]
    }
   ],
   "source": [
    "root = bt.take_input()\n",
    "print(isBST(root))"
   ]
  },
  {
   "cell_type": "code",
   "execution_count": null,
   "metadata": {},
   "outputs": [],
   "source": []
  }
 ],
 "metadata": {
  "kernelspec": {
   "display_name": "Python 3",
   "language": "python",
   "name": "python3"
  },
  "language_info": {
   "codemirror_mode": {
    "name": "ipython",
    "version": 3
   },
   "file_extension": ".py",
   "mimetype": "text/x-python",
   "name": "python",
   "nbconvert_exporter": "python",
   "pygments_lexer": "ipython3",
   "version": "3.7.2"
  }
 },
 "nbformat": 4,
 "nbformat_minor": 4
}
