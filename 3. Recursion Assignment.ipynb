{
 "cells": [
  {
   "cell_type": "markdown",
   "metadata": {},
   "source": [
    "# This contains :-\n",
    "\n",
    "1. Geometric Sum\n",
    "2. Check Palindrome\n",
    "3. Sum of digits - Recursive\n",
    "4. Multiplication - Recursive\n",
    "5. Count Zeros\n",
    "6. String to Integer\n",
    "7. Pair Star\n",
    "8. Check AB\n",
    "9. Staircase"
   ]
  },
  {
   "cell_type": "markdown",
   "metadata": {},
   "source": [
    "## Geometric Sum"
   ]
  },
  {
   "cell_type": "markdown",
   "metadata": {},
   "source": [
    "Geometric Sum\n",
    "\n",
    "Given k, find the geometric sum i.e.\n",
    "1 + 1/2 + 1/4 + 1/8 + ... + 1/(2^k) \n",
    "using recursion.\n",
    "\n",
    "Input format :\n",
    "Integer k\n",
    "\n",
    "Output format :\n",
    "Geometric sum\n",
    "\n",
    "Constraints :\n",
    "0 <= k <= 1000\n",
    "\n",
    "Sample Input 1 :\n",
    "3\n",
    "\n",
    "Sample Output 1 :\n",
    "1.875\n",
    "\n",
    "Sample Input 2 :\n",
    "4\n",
    "\n",
    "Sample Output 2 :\n",
    "1.93750"
   ]
  },
  {
   "cell_type": "code",
   "execution_count": 6,
   "metadata": {},
   "outputs": [
    {
     "name": "stdout",
     "output_type": "stream",
     "text": [
      "5\n",
      "1.96875\n"
     ]
    }
   ],
   "source": [
    "def geometricSum(n):\n",
    "    if n is 0:\n",
    "        return 1\n",
    "    \n",
    "    return 1/pow(2, n) + geometricSum(n-1)\n",
    "\n",
    "n = int(input())\n",
    "print(geometricSum(n))"
   ]
  },
  {
   "cell_type": "markdown",
   "metadata": {},
   "source": [
    "## Check Palindrome"
   ]
  },
  {
   "cell_type": "markdown",
   "metadata": {},
   "source": [
    "Check whether a given String S is a palindrome using recursion. Return true or false.\n",
    "\n",
    "Input Format :\n",
    "String S\n",
    "\n",
    "Output Format :\n",
    "'true' or 'false'\n",
    "\n",
    "Constraints :\n",
    "0 <= |S| <= 1000\n",
    "where |S| represents length of string S.\n",
    "\n",
    "Sample Input 1 :\n",
    "racecar\n",
    "\n",
    "Sample Output 1:\n",
    "true\n",
    "\n",
    "Sample Input 2 :\n",
    "ninja\n",
    "\n",
    "Sample Output 2:\n",
    "false"
   ]
  },
  {
   "cell_type": "code",
   "execution_count": 8,
   "metadata": {},
   "outputs": [
    {
     "name": "stdout",
     "output_type": "stream",
     "text": [
      "ninja\n",
      "false\n"
     ]
    }
   ],
   "source": [
    "\n",
    "def helper(s, i, j):\n",
    "    if i > j:\n",
    "        return True\n",
    "    if s[i] is not s[j]:\n",
    "        return False\n",
    "    return helper(s, i+1, j-1)\n",
    "\n",
    "\n",
    "def checkPalindrome(s):\n",
    "    i = 0\n",
    "    j = len(s)-1\n",
    "    return helper(s, i, j)\n",
    "\n",
    "\n",
    "s = input()\n",
    "if checkPalindrome(s):\n",
    "    print(\"true\")\n",
    "else :\n",
    "    print(\"false\")"
   ]
  },
  {
   "cell_type": "markdown",
   "metadata": {},
   "source": [
    "## Sum of digits - Recursive"
   ]
  },
  {
   "cell_type": "markdown",
   "metadata": {},
   "source": [
    "Write a recursive function that returns the sum of the digits of a given integer.\n",
    "\n",
    "Input format :\n",
    "Integer N\n",
    "\n",
    "Output format :\n",
    "Sum of digits of N\n",
    "\n",
    "Constraints :\n",
    "0 <= N <= 10^9\n",
    "\n",
    "Sample Input 1 :\n",
    "12345\n",
    "\n",
    "Sample Output 1 :\n",
    "15\n",
    "\n",
    "Sample Input 2 :\n",
    "9\n",
    "\n",
    "Sample Output 2 :\n",
    "9"
   ]
  },
  {
   "cell_type": "code",
   "execution_count": 10,
   "metadata": {},
   "outputs": [
    {
     "name": "stdout",
     "output_type": "stream",
     "text": [
      "123\n",
      "6\n"
     ]
    }
   ],
   "source": [
    "def sumOfDigits(n):\n",
    "    if n is 0:\n",
    "        return 0\n",
    "    \n",
    "    return n%10 + sumOfDigits(n//10)\n",
    "\n",
    "n = int(input())\n",
    "print(sumOfDigits(n))"
   ]
  },
  {
   "cell_type": "markdown",
   "metadata": {},
   "source": [
    "## Multiplication - Recursive"
   ]
  },
  {
   "cell_type": "markdown",
   "metadata": {},
   "source": [
    "Given two integers M & N, calculate and return their multiplication using recursion. You can only use subtraction and addition for your calculation. No other operators are allowed.\n",
    "\n",
    "Input format :\n",
    "Line 1 : Integer M\n",
    "Line 2 : Integer N\n",
    "\n",
    "Output format :\n",
    "M x N\n",
    "\n",
    "Constraints :\n",
    "0 <= M <= 1000\n",
    "0 <= N <= 1000\n",
    "\n",
    "Sample Input 1 :\n",
    "3 \n",
    "5\n",
    "\n",
    "Sample Output 1 :\n",
    "15\n",
    "\n",
    "Sample Input 2 :\n",
    "4 \n",
    "0\n",
    "\n",
    "Sample Output 2 :\n",
    "0"
   ]
  },
  {
   "cell_type": "code",
   "execution_count": 14,
   "metadata": {},
   "outputs": [
    {
     "name": "stdout",
     "output_type": "stream",
     "text": [
      "3 4\n",
      "12\n"
     ]
    }
   ],
   "source": [
    "\n",
    "def mulRecursive(m, n):\n",
    "    if n is 0:\n",
    "        return 0\n",
    "    return m + mulRecursive(m, n-1)\n",
    "\n",
    "m, n = [int(i) for i in input().strip().split()]\n",
    "print(mulRecursive(m, n))"
   ]
  },
  {
   "cell_type": "markdown",
   "metadata": {},
   "source": [
    "## Count Zeros"
   ]
  },
  {
   "cell_type": "markdown",
   "metadata": {},
   "source": [
    "Given an integer N, count and return the number of zeros that are present in the given integer using recursion.\n",
    "\n",
    "Input Format :\n",
    "Integer N\n",
    "\n",
    "Output Format :\n",
    "Number of zeros in N\n",
    "\n",
    "Constraints :\n",
    "0 <= N <= 10^9\n",
    "\n",
    "Sample Input 1 :\n",
    "10204\n",
    "\n",
    "Sample Output 1 :\n",
    "2\n",
    "\n",
    "Sample Input 2 :\n",
    "708000\n",
    "\n",
    "Sample Output 2 :\n",
    "4"
   ]
  },
  {
   "cell_type": "code",
   "execution_count": 17,
   "metadata": {},
   "outputs": [
    {
     "name": "stdout",
     "output_type": "stream",
     "text": [
      "708000\n",
      "4\n"
     ]
    }
   ],
   "source": [
    "\n",
    "def countZeros(n):\n",
    "    if n is 0:\n",
    "        return 0\n",
    "    \n",
    "    ans = 0\n",
    "    if n%10 is 0:\n",
    "        ans+=1\n",
    "    return ans + countZeros(n//10)\n",
    "    \n",
    "\n",
    "n = int(input())\n",
    "print(countZeros(n))"
   ]
  },
  {
   "cell_type": "markdown",
   "metadata": {},
   "source": [
    "## String to integer"
   ]
  },
  {
   "cell_type": "markdown",
   "metadata": {},
   "source": [
    "Write a recursive function to convert a given string into the number it represents. That is input will be a numeric string that contains only numbers, you need to convert the string into corresponding integer and return the answer.\n",
    "\n",
    "Input format :\n",
    "Numeric string S (string, Eg. \"1234\")\n",
    "\n",
    "Output format :\n",
    "Corresponding integer N (int, Eg. 1234)\n",
    "\n",
    "Constraints :\n",
    "0 <= |S| <= 9\n",
    "where |S| represents length of string S.\n",
    "\n",
    "Sample Input 1 :\n",
    "1231\n",
    "\n",
    "Sample Output 1 :\n",
    "1231\n",
    "\n",
    "Sample Input 2 :\n",
    "12567\n",
    "\n",
    "Sample Output 2 :\n",
    "12567"
   ]
  },
  {
   "cell_type": "code",
   "execution_count": 18,
   "metadata": {},
   "outputs": [
    {
     "name": "stdout",
     "output_type": "stream",
     "text": [
      "1234\n",
      "1234\n"
     ]
    }
   ],
   "source": [
    "n = input()\n",
    "n = int(n)\n",
    "print(n)"
   ]
  },
  {
   "cell_type": "markdown",
   "metadata": {},
   "source": [
    "## Pair Star"
   ]
  },
  {
   "cell_type": "markdown",
   "metadata": {},
   "source": [
    "Given a string S, compute recursively a new string where identical chars that are adjacent in the original string are separated from each other by a \"*\".\n",
    "\n",
    "Input format :\n",
    "String S\n",
    "\n",
    "Output format :\n",
    "Modified string\n",
    "\n",
    "Constraints :\n",
    "0 <= |S| <= 1000\n",
    "where |S| represents length of string S.\n",
    "\n",
    "Sample Input 1 :\n",
    "hello\n",
    "\n",
    "Sample Output 1:\n",
    "hel*lo\n",
    "\n",
    "Sample Input 2 :\n",
    "aaaa\n",
    "\n",
    "Sample Output 2 :\n",
    "a*a*a*a"
   ]
  },
  {
   "cell_type": "code",
   "execution_count": 22,
   "metadata": {},
   "outputs": [
    {
     "name": "stdout",
     "output_type": "stream",
     "text": [
      "aaaa\n",
      "a*a*a*a\n"
     ]
    }
   ],
   "source": [
    "\n",
    "def pairStar(s):\n",
    "    if len(s) is 1:\n",
    "        return s\n",
    "    \n",
    "    ans = pairStar(s[1:])\n",
    "    \n",
    "    if s[0] is s[1]:\n",
    "        ans = s[0] + \"*\" + ans\n",
    "    else :\n",
    "        ans = s[0] + ans\n",
    "    return ans\n",
    "\n",
    "\n",
    "s = input()\n",
    "print(pairStar(s))"
   ]
  },
  {
   "cell_type": "markdown",
   "metadata": {},
   "source": [
    "## Check AB"
   ]
  },
  {
   "cell_type": "markdown",
   "metadata": {},
   "source": [
    "Suppose you have a string, S, made up of only 'a's and 'b's. Write a recursive function that checks if the string was generated using the following rules:\n",
    "a. The string begins with an 'a'\n",
    "b. Each 'a' is followed by nothing or an 'a' or \"bb\"\n",
    "c. Each \"bb\" is followed by nothing or an 'a'\n",
    "If all the rules are followed by the given string, return true otherwise return false.\n",
    "\n",
    "Input format :\n",
    "String S\n",
    "\n",
    "Output format :\n",
    "'true' or 'false'\n",
    "\n",
    "Constraints :\n",
    "0 <= |S| <= 1000\n",
    "where |S| represents length of string S.\n",
    "\n",
    "Sample Input 1 :\n",
    "abb\n",
    "\n",
    "Sample Output 1 :\n",
    "true\n",
    "\n",
    "Sample Input 2 :\n",
    "abababa\n",
    "\n",
    "Sample Output 2 :\n",
    "false"
   ]
  },
  {
   "cell_type": "code",
   "execution_count": 24,
   "metadata": {},
   "outputs": [
    {
     "name": "stdout",
     "output_type": "stream",
     "text": [
      "ababa\n",
      "false\n"
     ]
    }
   ],
   "source": [
    "\n",
    "def checkAB(s):\n",
    "    if len(s) is 0:\n",
    "        return True\n",
    "    \n",
    "    if s[0] == \"a\":\n",
    "        if len(s) > 1 and s[1:3] == \"bb\":\n",
    "            return checkAB(s[3:])\n",
    "        else:\n",
    "            return checkAB(s[1:])\n",
    "    \n",
    "    return False\n",
    "\n",
    "s = input()\n",
    "if checkAB(s):\n",
    "    print(\"true\")\n",
    "else :\n",
    "    print(\"false\")"
   ]
  },
  {
   "cell_type": "markdown",
   "metadata": {},
   "source": [
    "## Staircase"
   ]
  },
  {
   "cell_type": "markdown",
   "metadata": {},
   "source": [
    "A child is running up a staircase with N steps, and can hop either 1 step, 2 steps or 3 steps at a time. Implement a method to count how many possible ways the child can run up to the stairs. You need to return number of possible ways W.\n",
    "\n",
    "Input format :\n",
    "Integer N\n",
    "\n",
    "Output Format :\n",
    "Integer W\n",
    "\n",
    "Constraints :\n",
    "1 <= N <= 30\n",
    "\n",
    "Sample Input 1 :\n",
    "4\n",
    "\n",
    "Sample Output 1 :\n",
    "7\n",
    "\n",
    "Sample Input 2 :\n",
    "5\n",
    "\n",
    "Sample Output 2 :\n",
    "13"
   ]
  },
  {
   "cell_type": "code",
   "execution_count": 27,
   "metadata": {},
   "outputs": [
    {
     "name": "stdout",
     "output_type": "stream",
     "text": [
      "3\n",
      "4\n"
     ]
    }
   ],
   "source": [
    "\n",
    "def staircase(n):\n",
    "    if n<3:\n",
    "        return n\n",
    "    if n == 3:\n",
    "        return 4\n",
    "    \n",
    "    return staircase(n-1) + staircase(n-2) + staircase(n-3)\n",
    "\n",
    "n = int(input())\n",
    "print(staircase(n))"
   ]
  },
  {
   "cell_type": "code",
   "execution_count": null,
   "metadata": {},
   "outputs": [],
   "source": []
  }
 ],
 "metadata": {
  "kernelspec": {
   "display_name": "Python 3",
   "language": "python",
   "name": "python3"
  },
  "language_info": {
   "codemirror_mode": {
    "name": "ipython",
    "version": 3
   },
   "file_extension": ".py",
   "mimetype": "text/x-python",
   "name": "python",
   "nbconvert_exporter": "python",
   "pygments_lexer": "ipython3",
   "version": "3.7.2"
  }
 },
 "nbformat": 4,
 "nbformat_minor": 4
}
