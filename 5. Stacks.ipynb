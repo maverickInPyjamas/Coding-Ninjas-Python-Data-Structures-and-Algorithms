{
 "cells": [
  {
   "cell_type": "markdown",
   "metadata": {},
   "source": [
    "# This Contains :-\n",
    "\n",
    "1. Stack Using Arrays\n",
    "2. Stack using Linked List\n",
    "3. Inbuil Stacks and Queues\n",
    "4. Balanced parenthesis\n",
    "5. Reverse Stack\n",
    "6. Check redundant Brackets\n",
    "7. Stock Span\n",
    "8. Minimum Bracket Reversal"
   ]
  },
  {
   "cell_type": "markdown",
   "metadata": {},
   "source": [
    "# Stack Using Arrays"
   ]
  },
  {
   "cell_type": "code",
   "execution_count": 5,
   "metadata": {},
   "outputs": [],
   "source": [
    "class Stack():\n",
    "    def __init__(self):\n",
    "        self.__data = []\n",
    "        \n",
    "    def push(self, item):\n",
    "        self.__data.append(item)\n",
    "    \n",
    "    def pop(self):\n",
    "        if self.isEmpty():\n",
    "            print(\"hey! Stack is Empty\")\n",
    "            return\n",
    "        return self.__data.pop()\n",
    "        \n",
    "    def top(self):\n",
    "        if self.isEmpty():\n",
    "            print(\"hey! Stack is Empty\")\n",
    "            return\n",
    "        return self.__data(len(self.__data)-1)\n",
    "    \n",
    "    def size(self):\n",
    "        return len(self.__data)\n",
    "    \n",
    "    def isEmpty(self):\n",
    "        return self.size() == 0"
   ]
  },
  {
   "cell_type": "code",
   "execution_count": 6,
   "metadata": {},
   "outputs": [],
   "source": [
    "s = Stack()"
   ]
  },
  {
   "cell_type": "code",
   "execution_count": 7,
   "metadata": {},
   "outputs": [],
   "source": [
    "s.push(1)\n",
    "s.push(2)\n",
    "s.push(3)\n",
    "s.push(4)\n",
    "s.push(5)\n",
    "s.push(6)\n"
   ]
  },
  {
   "cell_type": "code",
   "execution_count": 8,
   "metadata": {},
   "outputs": [
    {
     "name": "stdout",
     "output_type": "stream",
     "text": [
      "6\n",
      "5\n",
      "4\n",
      "3\n",
      "2\n",
      "1\n"
     ]
    }
   ],
   "source": [
    "while s.isEmpty() is False:\n",
    "    print(s.pop())"
   ]
  },
  {
   "cell_type": "markdown",
   "metadata": {},
   "source": [
    "# Stack Using LL"
   ]
  },
  {
   "cell_type": "code",
   "execution_count": 9,
   "metadata": {},
   "outputs": [],
   "source": [
    "\n",
    "class Node:\n",
    "    def __init__(self,data):\n",
    "        self.data = data\n",
    "        self.next = None\n",
    "        \n",
    "class StackUsingLL:\n",
    "    # Implement all these functions here\n",
    "    \n",
    "    def __init__(self):\n",
    "        self.__head = None\n",
    "        self.__count = 0\n",
    "\n",
    "    def push(self,data):\n",
    "        newNode = Node(data)\n",
    "        newNode.next = self.__head\n",
    "        self.__head = newNode\n",
    "        self.__count = self.__count + 1\n",
    "        \n",
    "    def pop(self):\n",
    "        if self.isEmpty():\n",
    "            return 0\n",
    "        data = self.__head.data\n",
    "        self.__head = self.__head.next\n",
    "        self.__count = self.__count - 1\n",
    "        return data\n",
    "    \n",
    "    # Return 0 if stack is empty. Don't display any other message\n",
    "    def top(self):\n",
    "        if self.isEmpty():\n",
    "            return 0\n",
    "        return self.__head.data\n",
    "    \n",
    "    # Return 0 if stack is empty. Don't display any other message\n",
    "    def isEmpty(self):\n",
    "        return self.getSize() == 0\n",
    "        \n",
    "    def getSize(self):\n",
    "        return self.__count"
   ]
  },
  {
   "cell_type": "markdown",
   "metadata": {},
   "source": [
    "# Inbuilt Stacks and Queues\n",
    "\n",
    "the methods are \"put\" as PUSH, \"get\" as POP, \"empty\""
   ]
  },
  {
   "cell_type": "code",
   "execution_count": 1,
   "metadata": {},
   "outputs": [
    {
     "name": "stdout",
     "output_type": "stream",
     "text": [
      "1\n",
      "2\n",
      "3\n",
      "4\n",
      "5\n"
     ]
    }
   ],
   "source": [
    "import queue\n",
    "\n",
    "#Inbuilt Queue\n",
    "q = queue.Queue()\n",
    "\n",
    "q.put(1)\n",
    "q.put(2)\n",
    "q.put(3)\n",
    "q.put(4)\n",
    "q.put(5)\n",
    "\n",
    "while q.empty() is False:\n",
    "    x = q.get()\n",
    "    print(x)\n",
    "\n"
   ]
  },
  {
   "cell_type": "code",
   "execution_count": 14,
   "metadata": {},
   "outputs": [
    {
     "name": "stdout",
     "output_type": "stream",
     "text": [
      "e\n",
      "d\n",
      "c\n",
      "b\n",
      "a\n"
     ]
    }
   ],
   "source": [
    "#Inbuilt Stack\n",
    "s = queue.LifoQueue()\n",
    "\n",
    "s.put(\"a\")\n",
    "s.put(\"b\")\n",
    "s.put(\"c\")\n",
    "s.put(\"d\")\n",
    "s.put(\"e\")\n",
    "\n",
    "while s.empty() is False:\n",
    "    print(s.get())\n"
   ]
  },
  {
   "cell_type": "markdown",
   "metadata": {},
   "source": [
    "# Balanced Parenthesis"
   ]
  },
  {
   "cell_type": "code",
   "execution_count": 17,
   "metadata": {},
   "outputs": [
    {
     "name": "stdout",
     "output_type": "stream",
     "text": [
      "Enter a String : }a+b\n",
      "False\n"
     ]
    }
   ],
   "source": [
    "def isBalanced(string):\n",
    "    s = []\n",
    "    for char in string:\n",
    "        if char in \"({[\":\n",
    "            s.append(char)\n",
    "        elif char == \")\":\n",
    "            if not s or s[-1]!=\"(\":\n",
    "                return False\n",
    "            s.pop()\n",
    "        elif char == \"}\":\n",
    "            if not s or s[-1]!=\"{\":\n",
    "                return False\n",
    "            s.pop()\n",
    "        elif char == \"]\":\n",
    "            if not s or s[-1]!=\"[\":\n",
    "                return False\n",
    "            s.pop()\n",
    "    if not s:\n",
    "        return True\n",
    "    return False\n",
    "\n",
    "string = input(\"Enter a String : \")\n",
    "print(isBalanced(string))\n",
    "        "
   ]
  },
  {
   "cell_type": "markdown",
   "metadata": {},
   "source": [
    "# Reverse Stack"
   ]
  },
  {
   "cell_type": "code",
   "execution_count": 34,
   "metadata": {},
   "outputs": [
    {
     "name": "stdout",
     "output_type": "stream",
     "text": [
      "5\n",
      "1 2 3 4 5\n",
      "1 2 3 4 5 "
     ]
    }
   ],
   "source": [
    "# def reverseStack(s1,s2):\n",
    "#     return s1[::-1]\n",
    "\n",
    "def reverseStack(s1, s2):\n",
    "    if len(s1) <=0:\n",
    "        return\n",
    "    \n",
    "    while len(s1)!=1:\n",
    "        s2.append(s1.pop())\n",
    "        \n",
    "    le = s1.pop()\n",
    "    \n",
    "    while len(s2)!=0:\n",
    "        s1.append(s2.pop())\n",
    "    \n",
    "    reverseStack(s1,s2)\n",
    "    s1.append(le)\n",
    "\n",
    "\n",
    "from sys import setrecursionlimit\n",
    "setrecursionlimit(11000)\n",
    "n = int(input())\n",
    "s1 = [int(ele) for ele in input().split()]\n",
    "s2 = []\n",
    "reverseStack(s1,s2)\n",
    "while(len(s1) !=0):\n",
    "    print(s1.pop(),end= ' ')"
   ]
  },
  {
   "cell_type": "markdown",
   "metadata": {},
   "source": [
    "# Check Redundant Brackets"
   ]
  },
  {
   "cell_type": "code",
   "execution_count": 1,
   "metadata": {},
   "outputs": [],
   "source": [
    "def checkRedundant(string):\n",
    "    s = []\n",
    "    count = 0\n",
    "    \n",
    "    for char in string:\n",
    "        if char is not \")\":\n",
    "            s.append(char)\n",
    "        else :\n",
    "            while s[-1] is not \"(\":\n",
    "                s.pop()\n",
    "                count+=1\n",
    "                if not s:\n",
    "                    break\n",
    "            \n",
    "            if not s:\n",
    "                continue\n",
    "                \n",
    "            if count > 0:\n",
    "                count = 0\n",
    "                s.pop()\n",
    "            else :\n",
    "                return True\n",
    "    return False\n",
    "\n",
    "string = input()\n",
    "ans = checkRedundant(string)\n",
    "if ans is True:\n",
    "    print('true')\n",
    "else:\n",
    "    print('false')"
   ]
  },
  {
   "cell_type": "markdown",
   "metadata": {},
   "source": [
    "# Stock Span"
   ]
  },
  {
   "cell_type": "markdown",
   "metadata": {},
   "source": [
    "# Layman Approach"
   ]
  },
  {
   "cell_type": "code",
   "execution_count": 10,
   "metadata": {},
   "outputs": [],
   "source": [
    "def stockSpan(a):\n",
    "    s = []\n",
    "    count = 1\n",
    "    for i in range(0, len(a)):\n",
    "        count = 1\n",
    "        for j in range(0, i):\n",
    "            if a[j]<a[i]:\n",
    "                count+=1\n",
    "            else:\n",
    "                count = 1\n",
    "        s.append(count)\n",
    "    return s"
   ]
  },
  {
   "cell_type": "code",
   "execution_count": 11,
   "metadata": {},
   "outputs": [
    {
     "name": "stdout",
     "output_type": "stream",
     "text": [
      " 1 1 1 1\n",
      "[1, 1, 1, 1]\n"
     ]
    }
   ],
   "source": [
    "a = [int(i) for i in input().split()]\n",
    "print(stockSpan(a))"
   ]
  },
  {
   "cell_type": "code",
   "execution_count": 48,
   "metadata": {},
   "outputs": [],
   "source": [
    "class Stack():\n",
    "    def __init__(self):\n",
    "        self.__data = []\n",
    "        \n",
    "    def push(self, item):\n",
    "        self.__data.append(item)\n",
    "    \n",
    "    def pop(self):\n",
    "        if self.isEmpty():\n",
    "            print(\"hey! Stack is Empty\")\n",
    "            return\n",
    "        return self.__data.pop()\n",
    "        \n",
    "    def top(self):\n",
    "        if self.isEmpty():\n",
    "            print(\"hey! Stack is Empty\")\n",
    "            return\n",
    "        return self.__data[len(self.__data)-1]\n",
    "    \n",
    "    def size(self):\n",
    "        return len(self.__data)\n",
    "    \n",
    "    def isEmpty(self):\n",
    "        return self.size() == 0"
   ]
  },
  {
   "cell_type": "code",
   "execution_count": 54,
   "metadata": {},
   "outputs": [],
   "source": [
    "def stockSpan2(a, n):\n",
    "    ans = [1]\n",
    "    s = Stack()\n",
    "    s.push(0)\n",
    "    \n",
    "    for i in range(1, len(a)):\n",
    "        while not s.isEmpty() and a[i] > a[s.top()]:\n",
    "            s.pop()\n",
    "        if s.isEmpty():\n",
    "            ans.append(i+1)\n",
    "        else:\n",
    "            ans.append(i-s.top())\n",
    "        s.push(i)\n",
    "    return ans"
   ]
  },
  {
   "cell_type": "code",
   "execution_count": 55,
   "metadata": {},
   "outputs": [
    {
     "name": "stdout",
     "output_type": "stream",
     "text": [
      "8\n",
      "60 70 80 100 90 75 80 120\n",
      "1 2 3 4 1 1 2 8 "
     ]
    }
   ],
   "source": [
    "n = int(input())\n",
    "price = [int(ele) for ele in input().split()]\n",
    "spans = stockSpan2(price, n)\n",
    "for ele in spans:\n",
    "    print(ele,end= ' ')"
   ]
  },
  {
   "cell_type": "markdown",
   "metadata": {},
   "source": [
    "# Minimum Bracket Reversal"
   ]
  },
  {
   "cell_type": "code",
   "execution_count": 56,
   "metadata": {},
   "outputs": [],
   "source": [
    "def countBracketReversals(string):\n",
    "    if len(string) == 0:\n",
    "        return 0\n",
    "    if len(string)%2!=0:\n",
    "        return -1\n",
    "    \n",
    "    s = []\n",
    "    \n",
    "    for i in string:\n",
    "        if i==\"{\":\n",
    "            s.append(i)\n",
    "        else:\n",
    "            if len(s)>0 and s[-1] == \"{\":\n",
    "                s.pop()\n",
    "            else:\n",
    "                s.append(i)\n",
    "    count = 0\n",
    "    \n",
    "    while len(s)!=0:\n",
    "        c1 = s.pop()\n",
    "        c2 = s.pop()\n",
    "        if c1!=c2:\n",
    "            count+=2\n",
    "        else:\n",
    "            count+=1\n",
    "    return count"
   ]
  },
  {
   "cell_type": "code",
   "execution_count": 57,
   "metadata": {},
   "outputs": [
    {
     "name": "stdout",
     "output_type": "stream",
     "text": [
      "{{{{}}\n",
      "1\n"
     ]
    }
   ],
   "source": [
    "string = input()\n",
    "ans = countBracketReversals(string)\n",
    "print(ans)\n"
   ]
  },
  {
   "cell_type": "code",
   "execution_count": null,
   "metadata": {},
   "outputs": [],
   "source": []
  }
 ],
 "metadata": {
  "kernelspec": {
   "display_name": "Python 3",
   "language": "python",
   "name": "python3"
  },
  "language_info": {
   "codemirror_mode": {
    "name": "ipython",
    "version": 3
   },
   "file_extension": ".py",
   "mimetype": "text/x-python",
   "name": "python",
   "nbconvert_exporter": "python",
   "pygments_lexer": "ipython3",
   "version": "3.7.2"
  }
 },
 "nbformat": 4,
 "nbformat_minor": 2
}
