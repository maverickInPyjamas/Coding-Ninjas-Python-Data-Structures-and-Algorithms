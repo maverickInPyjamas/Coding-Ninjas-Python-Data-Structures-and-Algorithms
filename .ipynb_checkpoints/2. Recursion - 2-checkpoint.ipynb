{
 "cells": [
  {
   "cell_type": "markdown",
   "metadata": {},
   "source": [
    "# This contains :-\n",
    "\n",
    "1. Remove X\n",
    "2. Remove Duplicates Recur"
   ]
  },
  {
   "cell_type": "markdown",
   "metadata": {},
   "source": [
    "## Remove X"
   ]
  },
  {
   "cell_type": "markdown",
   "metadata": {},
   "source": [
    "Given a string, compute recursively a new string where all 'x' chars have been removed.\n",
    "\n",
    "Input format :\n",
    "\n",
    "String S\n",
    "\n",
    "Output format :\n",
    "\n",
    "Modified String\n",
    "\n",
    "Constraints :\n",
    "\n",
    "1 <= |S| <= 10^3\n",
    "\n",
    "where |S| represents the length of string S. \n",
    "\n",
    "Sample Input 1 :\n",
    "\n",
    "xaxb\n",
    "\n",
    "Sample Output 1:\n",
    "\n",
    "ab\n",
    "\n",
    "Sample Input 2 :\n",
    "\n",
    "abc\n",
    "\n",
    "Sample Output 2:\n",
    "\n",
    "abc\n",
    "\n",
    "Sample Input 3 :\n",
    "\n",
    "xx\n",
    "\n",
    "Sample Output 3:"
   ]
  },
  {
   "cell_type": "code",
   "execution_count": 1,
   "metadata": {},
   "outputs": [
    {
     "name": "stdout",
     "output_type": "stream",
     "text": [
      "axbx\n",
      "ab\n"
     ]
    }
   ],
   "source": [
    "def removeX(string): \n",
    "    if len(string) is 1:\n",
    "        if string[0] is \"x\":\n",
    "            return \"\"\n",
    "        else :\n",
    "            return string\n",
    "    \n",
    "    ans = removeX(string[1:])\n",
    "    if string[0] is \"x\":\n",
    "        return ans\n",
    "    else :\n",
    "        return string[0] + ans\n",
    "\n",
    "\n",
    "string = input()\n",
    "print(removeX(string))"
   ]
  },
  {
   "cell_type": "markdown",
   "metadata": {},
   "source": [
    "## Remove Duplicates Recursively"
   ]
  },
  {
   "cell_type": "markdown",
   "metadata": {},
   "source": [
    "Given a string S, remove consecutive duplicates from it recursively.\n",
    "\n",
    "Input Format :\n",
    "\n",
    "String S\n",
    "\n",
    "Output Format :\n",
    "\n",
    "Output string\n",
    "\n",
    "Constraints :\n",
    "\n",
    "1 <= |S| <= 10^3\n",
    "\n",
    "where |S| represents the length of string\n",
    "\n",
    "Sample Input 1 :\n",
    "\n",
    "aabccba\n",
    "\n",
    "Sample Output 1 :\n",
    "\n",
    "abcba\n",
    "\n",
    "Sample Input 2 :\n",
    "\n",
    "xxxyyyzwwzzz\n",
    "\n",
    "Sample Output 2 :\n",
    "\n",
    "xyzwz"
   ]
  },
  {
   "cell_type": "code",
   "execution_count": 2,
   "metadata": {},
   "outputs": [
    {
     "name": "stdout",
     "output_type": "stream",
     "text": [
      "xxxyyyzwwzzz\n",
      "xyzwz\n"
     ]
    }
   ],
   "source": [
    "def removeConsecutiveDuplicates(string):\n",
    "    if len(string) is 1:\n",
    "        return string\n",
    "    \n",
    "    ans = removeConsecutiveDuplicates(string[1:])\n",
    "    if string[0] is ans[0]:\n",
    "        return ans\n",
    "    else :\n",
    "        return string[0] + ans\n",
    "    \n",
    "string = input().strip()\n",
    "print(removeConsecutiveDuplicates(string))"
   ]
  },
  {
   "cell_type": "markdown",
   "metadata": {},
   "source": [
    "## Merge Sot Code"
   ]
  },
  {
   "cell_type": "markdown",
   "metadata": {},
   "source": [
    "Sort an array A using Merge Sort.\n",
    "\n",
    "Change in the input array itself. So no need to return or print anything.\n",
    "\n",
    "Input format :\n",
    "\n",
    "Line 1 : Integer n i.e. Array size\n",
    "\n",
    "Line 2 : Array elements (separated by space)\n",
    "\n",
    "Output format :\n",
    "\n",
    "Array elements in increasing order (separated by space)\n",
    "\n",
    "Constraints :\n",
    "\n",
    "1 <= n <= 10^3\n",
    "\n",
    "Sample Input 1 :\n",
    "\n",
    "6 \n",
    "\n",
    "2 6 8 5 4 3\n",
    "\n",
    "Sample Output 1 :\n",
    "\n",
    "2 3 4 5 6 8\n",
    "\n",
    "Sample Input 2 :\n",
    "\n",
    "5\n",
    "\n",
    "2 1 5 2 3\n",
    "\n",
    "Sample Output 2 :\n",
    "\n",
    "1 2 2 3 5 "
   ]
  },
  {
   "cell_type": "code",
   "execution_count": 3,
   "metadata": {},
   "outputs": [
    {
     "name": "stdout",
     "output_type": "stream",
     "text": [
      "6\n",
      "2 6 8 5 4 3\n",
      "2 3 4 5 6 8\n"
     ]
    }
   ],
   "source": [
    "\n",
    "def merge(a1, a2, a):\n",
    "    i=0\n",
    "    j=0\n",
    "    k=0\n",
    "    \n",
    "    while i<len(a1) and j<len(a2):\n",
    "        if a1[i] < a2[j]:\n",
    "            a[k] = a1[i]\n",
    "            i=i+1\n",
    "            k=k+1\n",
    "        else:\n",
    "            a[k] = a2[j]\n",
    "            j=j+1\n",
    "            k=k+1\n",
    "    \n",
    "    while i<len(a1):\n",
    "        a[k] = a1[i]\n",
    "        i=i+1\n",
    "        k=k+1\n",
    "        \n",
    "    while j<len(a2):\n",
    "        a[k] = a2[j]\n",
    "        k=k+1\n",
    "        j=j+1\n",
    "        \n",
    "def mergeSort_1(arr):\n",
    "    if len(arr) <= 1:\n",
    "        return\n",
    "    mid = len(arr)//2\n",
    "    a = arr[:mid]\n",
    "    b = arr[mid:]\n",
    "    mergeSort_1(a)\n",
    "    mergeSort_1(b)\n",
    "    merge(a, b, arr)\n",
    "    \n",
    "\n",
    "def mergeSort(arr, start, end):\n",
    "    if len(arr) <= 1:\n",
    "        return\n",
    "    mergeSort_1(arr)\n",
    "\n",
    "n=int(input())\n",
    "arr=list(int(i) for i in input().strip().split(' '))\n",
    "mergeSort(arr, 0, n)\n",
    "print(*arr)"
   ]
  },
  {
   "cell_type": "markdown",
   "metadata": {},
   "source": [
    "## Quick Sort Code"
   ]
  },
  {
   "cell_type": "markdown",
   "metadata": {},
   "source": [
    "Sort an array A using Quick Sort.\n",
    "\n",
    "Change in the input array itself. So no need to return or print anything.\n",
    "\n",
    "Input format :\n",
    "\n",
    "Line 1 : Integer n i.e. Array size\n",
    "\n",
    "Line 2 : Array elements (separated by space)\n",
    "\n",
    "Output format :\n",
    "\n",
    "Array elements in increasing order (separated by space)\n",
    "\n",
    "Constraints :\n",
    "\n",
    "1 <= n <= 10^3\n",
    "\n",
    "Sample Input 1 :\n",
    "\n",
    "6 \n",
    "\n",
    "2 6 8 5 4 3\n",
    "\n",
    "Sample Output 1 :\n",
    "\n",
    "2 3 4 5 6 8\n",
    "\n",
    "Sample Input 2 :\n",
    "\n",
    "5\n",
    "\n",
    "1 5 2 7 3\n",
    "\n",
    "Sample Output 2 :\n",
    "\n",
    "1 2 3 5 7 "
   ]
  },
  {
   "cell_type": "code",
   "execution_count": 4,
   "metadata": {},
   "outputs": [
    {
     "name": "stdout",
     "output_type": "stream",
     "text": [
      "5\n",
      "1 5 2 7 3\n",
      "1 2 3 5 7\n"
     ]
    }
   ],
   "source": [
    "def partition(arr, start, end):\n",
    "    pivot = arr[start]\n",
    "    \n",
    "    x = 0\n",
    "    for i in range(start+1, end+1):\n",
    "        if pivot >= arr[i]:\n",
    "            x+=1\n",
    "            \n",
    "    pi = start + x\n",
    "    arr[start], arr[pi] = arr[pi], arr[start]\n",
    "    \n",
    "    i = start\n",
    "    j = end\n",
    "    \n",
    "    while i<=pi and j>=pi:\n",
    "        while i<=end and arr[i] <= pivot:\n",
    "            i+=1\n",
    "        while arr[j] > pivot:\n",
    "            j-=1\n",
    "        if i < pi and j > pi:\n",
    "            arr[i], arr[j] = arr[j], arr[i]\n",
    "            i+=1\n",
    "            j-=1\n",
    "            \n",
    "    return pi\n",
    "\n",
    "\n",
    "def quickSort(arr, start, end):\n",
    "    if start >= end:\n",
    "        return\n",
    "    pi = partition(arr, start, end)\n",
    "    quickSort(arr, start, pi-1)\n",
    "    quickSort(arr, pi+1, end)\n",
    "    \n",
    "n=int(input())\n",
    "arr=list(int(i) for i in input().strip().split(' '))\n",
    "quickSort(arr, 0, n-1)\n",
    "print(*arr)"
   ]
  },
  {
   "cell_type": "markdown",
   "metadata": {},
   "source": [
    "## Tower Of Hanoi - Problem"
   ]
  },
  {
   "cell_type": "markdown",
   "metadata": {},
   "source": [
    "Tower of Hanoi is a mathematical puzzle where we have three rods and n disks. The objective of the puzzle is to move all disks from source rod to destination rod using third rod (say auxiliary). The rules are :\n",
    "\n",
    "1) Only one disk can be moved at a time.\n",
    "\n",
    "2) A disk can be moved only if it is on the top of a rod.\n",
    "\n",
    "3) No disk can be placed on the top of a smaller disk.\n",
    "\n",
    "Print the steps required to move n disks from source rod to destination rod.\n",
    "\n",
    "Source Rod is named as 'a', auxiliary rod as 'b' and destination rod as 'c'.\n",
    "\n",
    "Input Format :\n",
    "\n",
    "Integer n\n",
    "\n",
    "Output Format :\n",
    "\n",
    "Steps in different lines (in one line print source and destination rod name separated by space)\n",
    "\n",
    "Constraints :\n",
    "\n",
    "0 <= n <= 20\n",
    "\n",
    "Sample Input 1 :\n",
    "\n",
    "2\n",
    "\n",
    "Sample Output 1 :\n",
    "\n",
    "a b\n",
    "\n",
    "a c\n",
    "\n",
    "b c\n",
    "\n",
    "Sample Input 2 :\n",
    "\n",
    "3\n",
    "\n",
    "Sample Output 2 :\n",
    "\n",
    "a c\n",
    "\n",
    "a b\n",
    "\n",
    "c b\n",
    "\n",
    "a c\n",
    "\n",
    "b a\n",
    "\n",
    "b c\n",
    "\n",
    "a c"
   ]
  },
  {
   "cell_type": "code",
   "execution_count": 5,
   "metadata": {},
   "outputs": [
    {
     "name": "stdout",
     "output_type": "stream",
     "text": [
      "3\n",
      "a c\n",
      "a b\n",
      "c b\n",
      "a c\n",
      "b a\n",
      "b c\n",
      "a c\n"
     ]
    }
   ],
   "source": [
    "def towerofhanoi(n, source, aux, dest):\n",
    "    if n <= 0:\n",
    "        return \n",
    "    towerofhanoi(n-1, source, dest, aux)\n",
    "    print(source + \" \" + dest)\n",
    "    towerofhanoi(n-1, aux, source, dest)\n",
    "\n",
    "n=int(input())\n",
    "towerofhanoi(n, 'a', 'b', 'c')"
   ]
  }
 ],
 "metadata": {
  "kernelspec": {
   "display_name": "Python 3",
   "language": "python",
   "name": "python3"
  },
  "language_info": {
   "codemirror_mode": {
    "name": "ipython",
    "version": 3
   },
   "file_extension": ".py",
   "mimetype": "text/x-python",
   "name": "python",
   "nbconvert_exporter": "python",
   "pygments_lexer": "ipython3",
   "version": "3.7.2"
  }
 },
 "nbformat": 4,
 "nbformat_minor": 4
}
