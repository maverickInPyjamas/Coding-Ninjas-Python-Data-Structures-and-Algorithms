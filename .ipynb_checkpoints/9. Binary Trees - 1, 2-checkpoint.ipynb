{
 "cells": [
  {
   "cell_type": "markdown",
   "metadata": {},
   "source": [
    "# This contains :-\n",
    "\n",
    "1. __NOTE : run this cell__ Binary Tree Node class\n",
    "2. __NOTE : run this cell__ Binary Tree Class\n",
    "3. Sum of Nodes\n",
    "4. Preorder Binary Tree\n",
    "5. Postorder Binary Tree\n",
    "6. Nodes greater than X\n",
    "7. Height of Tree\n",
    "8. Replace node with Depth\n",
    "9. is node present ?\n",
    "10. Nodes without a sibling \n",
    "11. Print Nodes with depth K\n",
    "12. Number of Leaf Nodes\n",
    "13. Nodes with largest Data\n",
    "14. Number of Nodes in a Tree\n",
    "15. Remove Leaf Nodes\n",
    "16. Mirror Binary Tree\n",
    "17. Check if a Binary Tree is Balanced\n",
    "18. Diameter of a Binary Tree\n",
    "19. Build Tree using Inorder and Preorder\n",
    "20. Construct Tree from Inorder and Postorder\n",
    "21. Create and insert Duplicate Node\n",
    "22. Minimum and Maximum in a Binary Tree\n",
    "23. Level Order Traversal\n",
    "24. Path Sum Root to Leaf\n",
    "25. Print nodes at distance k from node"
   ]
  },
  {
   "cell_type": "markdown",
   "metadata": {},
   "source": [
    "## Binary Tree Node class"
   ]
  },
  {
   "cell_type": "code",
   "execution_count": 1,
   "metadata": {},
   "outputs": [],
   "source": [
    "class BinaryTreeNode():\n",
    "    def __init__(self, data):\n",
    "        self.data = data\n",
    "        self.left = None\n",
    "        self.right = None"
   ]
  },
  {
   "cell_type": "markdown",
   "metadata": {},
   "source": [
    "## Binary Tree Class"
   ]
  },
  {
   "cell_type": "code",
   "execution_count": 2,
   "metadata": {},
   "outputs": [],
   "source": [
    "import queue\n",
    "\n",
    "class BinaryTree():\n",
    "    \n",
    "    def __init__(self):\n",
    "        pass\n",
    "    \n",
    "    def take_input(self):\n",
    "        \n",
    "        arr = [int(i) for i in input().strip().split()]\n",
    "        \n",
    "        if len(arr) is 0 or arr[0] is -1:\n",
    "            return None\n",
    "        \n",
    "        root = BinaryTreeNode(arr[0])\n",
    "        i = 1\n",
    "        q = queue.Queue()\n",
    "        q.put(root)\n",
    "        \n",
    "        while not q.empty():\n",
    "            currNode = q.get()\n",
    "            \n",
    "            # inserting left child\n",
    "            leftChildData = arr[i]\n",
    "            i+=1\n",
    "            if leftChildData != -1:\n",
    "                leftNode = BinaryTreeNode(leftChildData)\n",
    "                currNode.left = leftNode\n",
    "                q.put(leftNode)\n",
    "            \n",
    "            #inserting right child\n",
    "            rightChildData = arr[i]\n",
    "            i+=1\n",
    "            if rightChildData != -1:\n",
    "                rightNode = BinaryTreeNode(rightChildData)\n",
    "                currNode.right = rightNode\n",
    "                q.put(rightNode)\n",
    "            \n",
    "        return root\n",
    "    \n",
    "    \n",
    "    def print_tree(self, root):\n",
    "        if root is None:\n",
    "            print(\"-1\")\n",
    "            \n",
    "        q = queue.Queue()\n",
    "        q.put(root)\n",
    "        \n",
    "        while not q.empty():\n",
    "            currNode = q.get()\n",
    "            \n",
    "            print(\"{a} : \".format(a = currNode.data), end = \"\")\n",
    "            \n",
    "            if currNode.left is not None:\n",
    "                q.put(currNode.left)\n",
    "                print(\"L : {a}, \".format(a = currNode.left.data), end = \"\")\n",
    "            else :\n",
    "                print(\"L : -1,\", end = \"\")\n",
    "                \n",
    "            if currNode.right is not None:\n",
    "                q.put(currNode.right)\n",
    "                print(\"R : {a} \".format(a = currNode.right.data), end = \"\")\n",
    "            else :\n",
    "                print(\"R : -1\", end = \"\")\n",
    "                \n",
    "            print()"
   ]
  },
  {
   "cell_type": "code",
   "execution_count": 3,
   "metadata": {},
   "outputs": [
    {
     "name": "stdout",
     "output_type": "stream",
     "text": [
      "8 3 10 1 6 -1 14 -1 -1 4 7 13 -1 -1 -1 -1 -1 -1 -1\n",
      "8 : L : 3, R : 10 \n",
      "3 : L : 1, R : 6 \n",
      "10 : L : -1,R : 14 \n",
      "1 : L : -1,R : -1\n",
      "6 : L : 4, R : 7 \n",
      "14 : L : 13, R : -1\n",
      "4 : L : -1,R : -1\n",
      "7 : L : -1,R : -1\n",
      "13 : L : -1,R : -1\n"
     ]
    }
   ],
   "source": [
    "bt = BinaryTree()\n",
    "root = bt.take_input()\n",
    "bt.print_tree(root)"
   ]
  },
  {
   "cell_type": "markdown",
   "metadata": {},
   "source": [
    "# Sum of Nodes"
   ]
  },
  {
   "cell_type": "raw",
   "metadata": {},
   "source": [
    "For a given Binary Tree of integers, find and return the sum of all the nodes data.\n",
    "\n",
    "Example:\n",
    "                        10\n",
    "                      /    \\\n",
    "                    20      30\n",
    "                   /    \\\n",
    "                 40    50\n",
    "\n",
    "When we sum up all the nodes data together, [10, 20, 30, 40 50] we get 150. Hence, the output will be 150.\n",
    "\n",
    "Input Format:\n",
    "The first and the only line of input will contain the nodes data, all separated by a single space. Since -1 is used as an indication whether the left or right node data exist for root, it will not be a part of the node data.\n",
    "\n",
    "Output Format:\n",
    "The first and the only line of output prints the sum of all the nodes data present in the binary tree.\n",
    "\n",
    "Note:\n",
    "You are not required to print anything explicitly. It has already been taken care of.\n",
    "\n",
    "Constraints:\n",
    "1 <= N <= 10^6\n",
    "Where N is the total number of nodes in the binary tree.\n",
    "\n",
    "Time Limit: 1 sec\n",
    "\n",
    "Sample Input 1:\n",
    "2 3 4 6 -1 -1 -1 -1 -1\n",
    "Sample Output 1:\n",
    "15\n",
    "\n",
    "Sample Input 2:\n",
    "1 2 3 4 5 6 7 -1 -1 -1 -1 -1 -1 -1 -1\n",
    "Sample Output 2:\n",
    " 28"
   ]
  },
  {
   "cell_type": "code",
   "execution_count": 10,
   "metadata": {},
   "outputs": [
    {
     "name": "stdout",
     "output_type": "stream",
     "text": [
      "1 2 3 4 5 6 7 -1 -1 -1 -1 -1 -1 -1 -1\n",
      "28\n"
     ]
    }
   ],
   "source": [
    "def sum_of_nodes(root):\n",
    "    if root is None :\n",
    "        return 0\n",
    "    return root.data + sum_of_nodes(root.left) + sum_of_nodes(root.right)\n",
    "\n",
    "bt = BinaryTree()\n",
    "root = bt.take_input()\n",
    "ans = sum_of_nodes(root)\n",
    "print(ans)"
   ]
  },
  {
   "cell_type": "markdown",
   "metadata": {},
   "source": [
    "# Preorder Binary Tree"
   ]
  },
  {
   "cell_type": "raw",
   "metadata": {},
   "source": [
    "For a given Binary Tree of integers, print the pre-order traversal.\n",
    "\n",
    "Input Format:\n",
    "The first and the only line of input will contain the nodes data, all separated by a single space. Since -1 is used as an indication whether the left or right node data exist for root, it will not be a part of the node data.\n",
    "\n",
    "Output Format:\n",
    "The only line of output prints the pre-order traversal of the given binary tree.\n",
    "\n",
    "Constraints:\n",
    "1 <= N <= 10^6\n",
    "Where N is the total number of nodes in the binary tree.\n",
    "\n",
    "Time Limit: 1 sec\n",
    "\n",
    "Sample Input 1:\n",
    "5 6 10 2 3 -1 -1 -1 -1 -1 9 -1 -1\n",
    "Sample Ouptut 1:\n",
    "5 6 2 3 9 10 \n",
    "\n",
    "Sample Input 2:\n",
    "1 2 3 4 5 6 7 -1 -1 -1 -1 -1 -1 -1 -1\n",
    "Sample Ouptut 2:\n",
    "1 2 4 5 3 6 7 "
   ]
  },
  {
   "cell_type": "code",
   "execution_count": 11,
   "metadata": {},
   "outputs": [
    {
     "name": "stdout",
     "output_type": "stream",
     "text": [
      "1 2 3 4 5 6 7 -1 -1 -1 -1 -1 -1 -1 -1\n",
      "1 2 4 5 3 6 7 "
     ]
    }
   ],
   "source": [
    "def preorder(root):\n",
    "    if root is None:\n",
    "        return\n",
    "    print(root.data, end= \" \")\n",
    "    preorder(root.left)\n",
    "    preorder(root.right)\n",
    "\n",
    "bt = BinaryTree()\n",
    "root = bt.take_input()\n",
    "preorder(root)"
   ]
  },
  {
   "cell_type": "markdown",
   "metadata": {},
   "source": [
    "# Postorder Binary Tree"
   ]
  },
  {
   "cell_type": "raw",
   "metadata": {},
   "source": [
    "For a given Binary Tree of integers, print the post-order traversal.\n",
    "\n",
    "Input Format:\n",
    "The first and the only line of input will contain the node data, all separated by a single space. Since -1 is used as an indication whether the left or right node data exist for root, it will not be a part of the node data.\n",
    "\n",
    "Output Format:\n",
    "The only line of output prints the post-order traversal of the given binary tree.\n",
    "\n",
    "Constraints:\n",
    "1 <= N <= 10^6\n",
    "Where N is the total number of nodes in the binary tree.\n",
    "\n",
    "Time Limit: 1 sec\n",
    "\n",
    "Sample Input 1:\n",
    "1 2 3 4 5 6 7 -1 -1 -1 -1 -1 -1 -1 -1\n",
    "Sample Output 1:\n",
    "4 5 2 6 7 3 1 \n",
    "\n",
    "Sample Input 2:\n",
    "5 6 10 2 3 -1 -1 -1 -1 -1 9 -1 -1\n",
    "Sample Output 1:\n",
    "2 9 3 6 10 5 "
   ]
  },
  {
   "cell_type": "code",
   "execution_count": 12,
   "metadata": {},
   "outputs": [
    {
     "name": "stdout",
     "output_type": "stream",
     "text": [
      "5 6 10 2 3 -1 -1 -1 -1 -1 9 -1 -1\n",
      "2 9 3 6 10 5 "
     ]
    }
   ],
   "source": [
    "def postorder(root):\n",
    "    if root is None:\n",
    "        return\n",
    "    postorder(root.left)\n",
    "    postorder(root.right)\n",
    "    print(root.data, end = \" \")\n",
    "    \n",
    "bt = BinaryTree()\n",
    "root = bt.take_input()\n",
    "postorder(root)"
   ]
  },
  {
   "cell_type": "markdown",
   "metadata": {},
   "source": [
    "# Nodes greater than X"
   ]
  },
  {
   "cell_type": "raw",
   "metadata": {},
   "source": [
    "For a given a binary tree of integers and an integer X, find and return the total number of nodes of the given binary tree which are having data greater than X.\n",
    "\n",
    "Input Format:\n",
    "The first line of input will contain the node data, all separated by a single space. Since -1 is used as an indication whether the left or right node data exist for root, it will not be a part of the node data.\n",
    "\n",
    "The second line of input contains an integer, denoting the value of X.\n",
    "\n",
    "Note:\n",
    "You are not required to print anything explicitly. It has already been taken care of.\n",
    "\n",
    "Output Format:\n",
    "The only line of output prints the total number of nodes where the node data is greater than X.\n",
    "\n",
    "Constraints:\n",
    "1 <= N <= 10^5\n",
    "Where N is the total number of nodes in the binary tree.\n",
    "\n",
    "Time Limit: 1 sec\n",
    "\n",
    "Sample Input 1:\n",
    "1 4 2 3 -1 -1 -1\n",
    "2\n",
    "Sample Output 1:\n",
    "2\n",
    "Explanation for Sample Input 1:\n",
    "Out of the four nodes of the given binary tree, [3, 4] are the node data that are greater than X = 2.\n",
    "\n",
    "Sample Input 2:\n",
    "5 6 10 2 3 -1 -1 -1 -1 -1 9 -1 -1\n",
    "5\n",
    "Sample Output 2:\n",
    "3"
   ]
  },
  {
   "cell_type": "code",
   "execution_count": 17,
   "metadata": {},
   "outputs": [
    {
     "name": "stdout",
     "output_type": "stream",
     "text": [
      "5 6 10 2 3 -1 -1 -1 -1 -1 9 -1 -1\n",
      "5\n",
      "3\n"
     ]
    }
   ],
   "source": [
    "def nodes_greater_than_x(root, x):\n",
    "    if root is None:\n",
    "        return 0\n",
    "    ans = 0\n",
    "    if root.data > x :\n",
    "        ans = 1\n",
    "    return ans + nodes_greater_than_x(root.left, x) + nodes_greater_than_x(root.right, x)\n",
    "\n",
    "bt = BinaryTree()\n",
    "root = bt.take_input()\n",
    "x = int(input())\n",
    "print(nodes_greater_than_x(root, x))"
   ]
  },
  {
   "cell_type": "markdown",
   "metadata": {},
   "source": [
    "# Height of Tree"
   ]
  },
  {
   "cell_type": "raw",
   "metadata": {},
   "source": [
    "For a given Binary Tree of integers, find and return the height of the tree.\n",
    "\n",
    "Example:\n",
    "                        10\n",
    "                      /    \\\n",
    "                    20      30\n",
    "                   /    \\\n",
    "                 40    50\n",
    "\n",
    "Height of the given tree is 3. \n",
    "\n",
    "Height is defined as the total number of nodes along the longest path from the root to any of the leaf node.\n",
    "\n",
    "Input Format:\n",
    "The first and the only line of input will contain the node data, all separated by a single space. Since -1 is used as an indication whether the left or right node data exist for root, it will not be a part of the node data.\n",
    "Output Format:\n",
    "The first and the only line of output prints the height of the given binary tree.\n",
    "\n",
    "Note:\n",
    "You are not required to print anything explicitly. It has already been taken care of.\n",
    "\n",
    "Constraints:\n",
    "0 <= N <= 10^5\n",
    "Where N is the total number of nodes in the binary tree.\n",
    "\n",
    "Time Limit: 1 sec\n",
    "\n",
    "Sample Input 1:\n",
    "10 20 30 40 50 -1 -1 -1 -1 -1 -1\n",
    "Sample Output 1:\n",
    "3\n",
    "\n",
    "Sample Input 2:\n",
    "3 -1 -1\n",
    "Sample Output 2:\n",
    "1"
   ]
  },
  {
   "cell_type": "code",
   "execution_count": 18,
   "metadata": {},
   "outputs": [
    {
     "name": "stdout",
     "output_type": "stream",
     "text": [
      "10 20 30 40 50 -1 -1 -1 -1 -1 -1\n",
      "3\n"
     ]
    }
   ],
   "source": [
    "def height(root):\n",
    "    if root is None:\n",
    "        return 0\n",
    "    \n",
    "    return 1 + max(height(root.left), height(root.right))\n",
    "\n",
    "bt = BinaryTree()\n",
    "root = bt.take_input()\n",
    "print(height(root))"
   ]
  },
  {
   "cell_type": "markdown",
   "metadata": {},
   "source": [
    "# Replace node with Depth"
   ]
  },
  {
   "cell_type": "raw",
   "metadata": {},
   "source": [
    "For a given a Binary Tree of integers, replace each of its data with the depth of the tree.\n",
    "Root is at depth 0, hence the root data is updated with 0. Replicate the same further going down the in the depth of the given tree.\n",
    "The modified tree will be printed in the in-order fashion.\n",
    "\n",
    "Input Format:\n",
    "The first and the only line of input will contain the node data, all separated by a single space. Since -1 is used as an indication whether the left or right node data exist for root, it will not be a part of the node data.\n",
    "\n",
    "Output Format:\n",
    "The first and the only line of output prints the updated tree in the in-order fashion.\n",
    "\n",
    "Note:\n",
    "You are not required to print anything explicitly. It has already been taken care of.\n",
    "\n",
    "Constraints:\n",
    "1 <= N <= 10^5\n",
    "Where N is the total number of nodes in the binary tree.\n",
    "\n",
    "Time Limit: 1sec\n",
    "\n",
    "Sample Input 1:\n",
    "2 35 10 2 3 5 2 -1 -1 -1 -1 -1 -1 -1 -1 \n",
    "Sample Output 1:\n",
    "2 1 2 0 2 1 2 \n",
    "\n",
    "Sample Input 2:\n",
    "1 2 3 4 5 6 7 -1 -1 -1 -1 -1 -1 -1 -1\n",
    "Sample Output 2:\n",
    "2 1 2 0 2 1 2 "
   ]
  },
  {
   "cell_type": "code",
   "execution_count": 19,
   "metadata": {},
   "outputs": [
    {
     "name": "stdout",
     "output_type": "stream",
     "text": [
      "2 35 10 2 3 5 2 -1 -1 -1 -1 -1 -1 -1 -1 \n",
      "0 : L : 1, R : 1 \n",
      "1 : L : 2, R : 2 \n",
      "1 : L : 2, R : 2 \n",
      "2 : L : -1,R : -1\n",
      "2 : L : -1,R : -1\n",
      "2 : L : -1,R : -1\n",
      "2 : L : -1,R : -1\n"
     ]
    }
   ],
   "source": [
    "def replace_with_depth(root, d):\n",
    "    if root is None:\n",
    "        return\n",
    "    root.data = d\n",
    "    replace_with_depth(root.left, d+1)\n",
    "    replace_with_depth(root.right, d+1)\n",
    "    \n",
    "bt = BinaryTree()\n",
    "root = bt.take_input()\n",
    "replace_with_depth(root, 0)\n",
    "bt.print_tree(root)"
   ]
  },
  {
   "cell_type": "markdown",
   "metadata": {},
   "source": [
    "# is Node present ?"
   ]
  },
  {
   "cell_type": "raw",
   "metadata": {},
   "source": [
    "For a given Binary Tree of type integer and a number X, find whether a node exists in the tree with data X or not.\n",
    "\n",
    "Input Format:\n",
    "The first and the only line of input will contain the node data, all separated by a single space. Since -1 is used as an indication whether the left or right node data exist for root, it will not be a part of the node data.\n",
    "\n",
    "Output Format:\n",
    "The only line of output prints 'true' or 'false'.\n",
    "\n",
    "Note:\n",
    "You are not required to print anything explicitly. It has already been taken care of.\n",
    "\n",
    "Constraints:\n",
    "1 <= N <= 10^5\n",
    "Where N is the total number of nodes in the binary tree.\n",
    "\n",
    "Time Limit: 1 sec\n",
    "\n",
    "Sample Input 1:\n",
    "8 3 10 1 6 -1 14 -1 -1 4 7 13 -1 -1 -1 -1 -1 -1 -1\n",
    "7\n",
    "Sample Output 1:\n",
    "true\n",
    "\n",
    "Sample Input 2:\n",
    "2 3 4 -1 -1 -1 -1\n",
    "10\n",
    "Sample Output 2:\n",
    "false"
   ]
  },
  {
   "cell_type": "code",
   "execution_count": 21,
   "metadata": {},
   "outputs": [
    {
     "name": "stdout",
     "output_type": "stream",
     "text": [
      "8 3 10 1 6 -1 14 -1 -1 4 7 13 -1 -1 -1 -1 -1 -1 -1\n",
      "7\n",
      "true\n"
     ]
    }
   ],
   "source": [
    "def is_present(root, x):\n",
    "    if root is None:\n",
    "        return False\n",
    "    if root.data is x:\n",
    "        return True\n",
    "    \n",
    "    return is_present(root.left, x) or is_present(root.right, x)\n",
    "\n",
    "bt = BinaryTree()\n",
    "root = bt.take_input()\n",
    "x = int(input())\n",
    "\n",
    "if is_present(root, x):\n",
    "    print(\"true\")\n",
    "else:\n",
    "    print(\"false\")"
   ]
  },
  {
   "cell_type": "markdown",
   "metadata": {},
   "source": [
    "# Nodes without a sibling"
   ]
  },
  {
   "cell_type": "raw",
   "metadata": {},
   "source": [
    "For a given Binary Tree of type integer, print all the nodes without any siblings.\n",
    "\n",
    "Input Format:\n",
    "The first and the only line of input will contain the node data, all separated by a single space. Since -1 is used as an indication whether the left or right node data exist for root, it will not be a part of the node data.\n",
    "\n",
    "Output Format:\n",
    "The only line of output prints the node data in a top to down fashion with reference to the root. \n",
    "Node data in the left subtree will be printed first and then the right subtree.\n",
    "A single space will separate them all.\n",
    "\n",
    "Constraints:\n",
    "1 <= N <= 10^5\n",
    "Where N is the total number of nodes in the binary tree.\n",
    "\n",
    "Time Limit: 1 second\n",
    "\n",
    "Sample Input 1:\n",
    "5 6 10 2 3 -1 -1 -1 -1 -1 9 -1 -1\n",
    "Sample Output 1:\n",
    "9    \n",
    "\n",
    "Sample Input 2:\n",
    "2 4 5 6 -1 -1 7 20 30 80 90 -1 8 9 -1 -1 -1 -1 -1 -1 -1 -1 -1 \n",
    "Sample Output 2:\n",
    "6 8 7 9 "
   ]
  },
  {
   "cell_type": "code",
   "execution_count": 23,
   "metadata": {},
   "outputs": [
    {
     "name": "stdout",
     "output_type": "stream",
     "text": [
      "2 4 5 6 -1 -1 7 20 30 80 90 -1 8 9 -1 -1 -1 -1 -1 -1 -1 -1 -1 \n",
      "6 8 9 7 "
     ]
    }
   ],
   "source": [
    "def nodes_without_a_sibling(root):\n",
    "    if root is None:\n",
    "        return \n",
    "    \n",
    "    # left child is present\n",
    "    if root.left is not None and root.right is None:\n",
    "        print(root.left.data, end = \" \")\n",
    "    \n",
    "    # right child is present\n",
    "    if root.left is None and root.right is not None:\n",
    "        print(root.right.data, end = \" \")\n",
    "    \n",
    "    nodes_without_a_sibling(root.left)\n",
    "    nodes_without_a_sibling(root.right)\n",
    "    \n",
    "bt = BinaryTree()\n",
    "root = bt.take_input()\n",
    "nodes_without_a_sibling(root)\n",
    "    "
   ]
  },
  {
   "cell_type": "markdown",
   "metadata": {},
   "source": [
    "# print Nodes at Depth K"
   ]
  },
  {
   "cell_type": "code",
   "execution_count": 24,
   "metadata": {},
   "outputs": [
    {
     "name": "stdout",
     "output_type": "stream",
     "text": [
      "2 4 5 6 -1 -1 7 20 30 80 90 -1 8 9 -1 -1 -1 -1 -1 -1 -1 -1 -1 \n",
      "2\n",
      "6 7 "
     ]
    }
   ],
   "source": [
    "def printDepthK(root, k):\n",
    "    if root is None:\n",
    "        return\n",
    "    if k==0:\n",
    "        print(root.data, end =\" \")\n",
    "        return\n",
    "    printDepthK(root.left, k-1)\n",
    "    printDepthK(root.right, k-1)\n",
    "    \n",
    "bt = BinaryTree()\n",
    "root = bt.take_input()\n",
    "k = int(input())\n",
    "printDepthK(root, k)"
   ]
  },
  {
   "cell_type": "markdown",
   "metadata": {},
   "source": [
    "# Number of Leaf Nodes"
   ]
  },
  {
   "cell_type": "code",
   "execution_count": 25,
   "metadata": {},
   "outputs": [
    {
     "name": "stdout",
     "output_type": "stream",
     "text": [
      "2 4 5 6 -1 -1 7 20 30 80 90 -1 8 9 -1 -1 -1 -1 -1 -1 -1 -1 -1 \n",
      "4\n"
     ]
    }
   ],
   "source": [
    "def numLeafNodes(root):\n",
    "    if root is None:\n",
    "        return 0\n",
    "    if root.right is None and root.left is None:\n",
    "        return 1\n",
    "    return numLeafNodes(root.right) + numLeafNodes(root.left)\n",
    "\n",
    "bt = BinaryTree()\n",
    "root = bt.take_input()\n",
    "print(numLeafNodes(root))"
   ]
  },
  {
   "cell_type": "markdown",
   "metadata": {},
   "source": [
    "# Nodes with Largest Data"
   ]
  },
  {
   "cell_type": "code",
   "execution_count": 26,
   "metadata": {},
   "outputs": [
    {
     "name": "stdout",
     "output_type": "stream",
     "text": [
      "2 4 5 6 -1 -1 7 20 30 80 90 -1 8 9 -1 -1 -1 -1 -1 -1 -1 -1 -1 \n",
      "90\n"
     ]
    }
   ],
   "source": [
    "def largestData(root):\n",
    "    if root is None:\n",
    "        return -1\n",
    "    return max(root.data, largestData(root.left), largestData(root.right))\n",
    "\n",
    "bt = BinaryTree()\n",
    "root = bt.take_input()\n",
    "print(largestData(root))"
   ]
  },
  {
   "cell_type": "markdown",
   "metadata": {},
   "source": [
    "# Number of Nodes in a Tree"
   ]
  },
  {
   "cell_type": "code",
   "execution_count": 27,
   "metadata": {},
   "outputs": [
    {
     "name": "stdout",
     "output_type": "stream",
     "text": [
      "2 4 5 6 -1 -1 7 20 30 80 90 -1 8 9 -1 -1 -1 -1 -1 -1 -1 -1 -1 \n",
      "11\n"
     ]
    }
   ],
   "source": [
    "def numNodes(root):\n",
    "    if root is None:\n",
    "        return 0\n",
    "    return 1 + numNodes(root.left) + numNodes(root.right)\n",
    "\n",
    "bt = BinaryTree()\n",
    "root = bt.take_input()\n",
    "print(numNodes(root))"
   ]
  },
  {
   "cell_type": "markdown",
   "metadata": {},
   "source": [
    "# Remove Leaf Nodes"
   ]
  },
  {
   "cell_type": "code",
   "execution_count": 4,
   "metadata": {},
   "outputs": [],
   "source": [
    "def removeLeaf(root):\n",
    "    if root is None:\n",
    "        return None\n",
    "    if root.left is None and root.right is None:\n",
    "        return None\n",
    "    root.left = removeLeaf(root.left)\n",
    "    root.right = removeLeaf(root.right)\n",
    "    return root"
   ]
  },
  {
   "cell_type": "code",
   "execution_count": 6,
   "metadata": {},
   "outputs": [
    {
     "name": "stdout",
     "output_type": "stream",
     "text": [
      "2 4 5 6 -1 -1 7 20 30 80 90 -1 8 9 -1 -1 -1 -1 -1 -1 -1 -1 -1 \n",
      "Tree before leaf Nodes are removed\n",
      "2 : L : 4, R : 5 \n",
      "4 : L : 6, R : -1\n",
      "5 : L : -1,R : 7 \n",
      "6 : L : 20, R : 30 \n",
      "7 : L : 80, R : 90 \n",
      "20 : L : -1,R : 8 \n",
      "30 : L : 9, R : -1\n",
      "80 : L : -1,R : -1\n",
      "90 : L : -1,R : -1\n",
      "8 : L : -1,R : -1\n",
      "9 : L : -1,R : -1\n",
      "Tree after Leaf Nodes are removed\n",
      "2 : L : 4, R : 5 \n",
      "4 : L : 6, R : -1\n",
      "5 : L : -1,R : 7 \n",
      "6 : L : 20, R : 30 \n",
      "7 : L : -1,R : -1\n",
      "20 : L : -1,R : -1\n",
      "30 : L : -1,R : -1\n"
     ]
    }
   ],
   "source": [
    "root = bt.take_input()\n",
    "print(\"Tree before leaf Nodes are removed\")\n",
    "bt.print_tree(root)\n",
    "newRoot = removeLeaf(root)\n",
    "print(\"Tree after Leaf Nodes are removed\")\n",
    "bt.print_tree(newRoot)"
   ]
  },
  {
   "cell_type": "markdown",
   "metadata": {},
   "source": [
    "# Mirror Binary Tree"
   ]
  },
  {
   "cell_type": "raw",
   "metadata": {},
   "source": [
    "For a given Binary Tree of type integer, update it with its corresponding mirror image.\n",
    "\n",
    "Input Format:\n",
    "The first and the only line of input will contain the node data, all separated by a single space. Since -1 is used as an indication whether the left or right node data exist for root, it will not be a part of the node data.\n",
    "\n",
    "Output Format:\n",
    "The only line of output prints the mirrored tree in a level-wise order. \n",
    "Each level will be printed on a new line. Elements printed at each level will be separated by a single line.\n",
    "\n",
    "Note:\n",
    "You are not required to print anything explicitly. It has already been taken care of.\n",
    "\n",
    "Constraints:\n",
    "1 <= N <= 10^5\n",
    "Where N is the total number of nodes in the binary tree.\n",
    "\n",
    "Time Limit: 1 sec\n",
    "\n",
    "Sample Input 1:\n",
    "1 2 3 4 5 6 7 -1 -1 -1 -1 -1 -1 -1 -1\n",
    "Sample Output 1:\n",
    "1 \n",
    "3 2 \n",
    "7 6 5 4\n",
    "\n",
    "Sample Input 2:\n",
    "5 10 6 2 3 -1 -1 -1 -1 -1 9 -1 -1\n",
    "Sample Output 2:\n",
    "5 \n",
    "6 10 \n",
    "3 2 \n",
    "9"
   ]
  },
  {
   "cell_type": "code",
   "execution_count": 7,
   "metadata": {},
   "outputs": [],
   "source": [
    "def mirrorBinaryTree(root):\n",
    "    if root is None:\n",
    "        return root\n",
    "    root.left = mirrorBinaryTree(root.left)\n",
    "    root.right = mirrorBinaryTree(root.right)\n",
    "    root.left, root.right = root.right, root.left\n",
    "    return root"
   ]
  },
  {
   "cell_type": "code",
   "execution_count": 8,
   "metadata": {},
   "outputs": [
    {
     "name": "stdout",
     "output_type": "stream",
     "text": [
      "5 10 6 2 3 -1 -1 -1 -1 -1 9 -1 -1\n",
      "5 : L : 6, R : 10 \n",
      "6 : L : -1,R : -1\n",
      "10 : L : 3, R : 2 \n",
      "3 : L : 9, R : -1\n",
      "2 : L : -1,R : -1\n",
      "9 : L : -1,R : -1\n"
     ]
    }
   ],
   "source": [
    "root = bt.take_input()\n",
    "newRoot = mirrorBinaryTree(root)\n",
    "bt.print_tree(newRoot)"
   ]
  },
  {
   "cell_type": "markdown",
   "metadata": {},
   "source": [
    "# Check if a Binary Tree is Balanced"
   ]
  },
  {
   "cell_type": "code",
   "execution_count": 14,
   "metadata": {},
   "outputs": [],
   "source": [
    "def isBalanced(root):\n",
    "    if root is None:\n",
    "        return 0, True\n",
    "    \n",
    "    lh, isLeftBalanced = isBalanced(root.left)\n",
    "    rh, isRightBalanced = isBalanced(root.right)\n",
    "    \n",
    "    h = 1 + max(lh, rh)\n",
    "    \n",
    "    if lh-rh > 1 or rh-lh > 1:\n",
    "        return h, False\n",
    "    \n",
    "    if isLeftBalanced and isRightBalanced :\n",
    "        return h, True\n",
    "    else :\n",
    "        return h, False"
   ]
  },
  {
   "cell_type": "code",
   "execution_count": 16,
   "metadata": {},
   "outputs": [
    {
     "name": "stdout",
     "output_type": "stream",
     "text": [
      "5 10 6 2 3 -1 -1 -1 -1 -1 9 -1 -1\n",
      "4 False\n"
     ]
    }
   ],
   "source": [
    "root = bt.take_input()\n",
    "h, ans = isBalanced(root)\n",
    "print(h, ans)"
   ]
  },
  {
   "cell_type": "markdown",
   "metadata": {},
   "source": [
    "# Diameter of a Binary Tree"
   ]
  },
  {
   "cell_type": "raw",
   "metadata": {},
   "source": [
    "For a given Binary of type integer, find and return the ‘Diameter’.\n",
    "\n",
    "Diameter of a Tree\n",
    "The diameter of a tree can be defined as the maximum distance between two leaf nodes.\n",
    "Here, the distance is measured in terms of the total number of nodes present along the path of the two leaf nodes, including both the leaves.\n",
    "\n",
    "Input Format:\n",
    "The first and the only line of input will contain the node data, all separated by a single space. Since -1 is used as an indication whether the left or right node data exist for root, it will not be a part of the node data.\n",
    "\n",
    "Output Format:\n",
    "The only line of output prints an integer, representing the diameter of the tree.\n",
    "\n",
    "Note:\n",
    "You are not required to print anything explicitly. It has already been taken care of.\n",
    "\n",
    "Constraints:\n",
    "1 <= N <= 10^5\n",
    "Where N is the total number of nodes in the binary tree.\n",
    "\n",
    "Time Limit: 1 sec\n",
    "\n",
    "Sample Input 1:\n",
    "2 4 5 6 -1 -1 7 20 30 80 90 -1 -1 8 -1 -1 9 -1 -1 -1 -1 -1 -1 \n",
    "Sample Output 1:\n",
    "9\n",
    "\n",
    "Sample Input 2:\n",
    "1 2 3 4 5 6 7 -1 -1 -1 -1 -1 -1 -1 -1\n",
    "Sample Output 2:\n",
    "5"
   ]
  },
  {
   "cell_type": "code",
   "execution_count": 17,
   "metadata": {},
   "outputs": [],
   "source": [
    "def height(root):\n",
    "    if root is None:\n",
    "        return 0\n",
    "    return 1 + max(height(root.left), height(root.right))"
   ]
  },
  {
   "cell_type": "code",
   "execution_count": 18,
   "metadata": {},
   "outputs": [],
   "source": [
    "def diameter(root):\n",
    "    if root is None:\n",
    "        return 0\n",
    "    lh, ld = height(root.left), diameter(root.left)\n",
    "    rh, rd = height(root.right), diameter(root.right)\n",
    "    return max(lh+rh+1, ld, rd)"
   ]
  },
  {
   "cell_type": "code",
   "execution_count": 19,
   "metadata": {},
   "outputs": [
    {
     "name": "stdout",
     "output_type": "stream",
     "text": [
      "2 4 5 6 -1 -1 7 20 30 80 90 -1 -1 8 -1 -1 9 -1 -1 -1 -1 -1 -1 \n",
      "9\n"
     ]
    }
   ],
   "source": [
    "root = bt.take_input()\n",
    "d = diameter(root)\n",
    "print(d)"
   ]
  },
  {
   "cell_type": "markdown",
   "metadata": {},
   "source": [
    "# Construct Tree using Inorder and Preorder"
   ]
  },
  {
   "cell_type": "raw",
   "metadata": {},
   "source": [
    "For a given preorder and inorder traversal of a Binary Tree of type integer stored in an array/list, create the binary tree using the given two arrays/lists. You just need to construct the tree and return the root.\n",
    "\n",
    "Note:\n",
    "Assume that the Binary Tree contains only unique elements. \n",
    "\n",
    "Input Format:\n",
    "The first line of input contains an integer N denoting the size of the list/array. It can also be said that N is the total number of nodes the binary tree would have.\n",
    "\n",
    "The second line of input contains N integers, all separated by a single space. It represents the preorder-traversal of the binary tree.\n",
    "\n",
    "The third line of input contains N integers, all separated by a single space. It represents the inorder-traversal of the binary tree.\n",
    "\n",
    "Output Format:\n",
    "The given input tree will be printed in a level order fashion where each level will be printed on a new line. \n",
    "Elements on every level will be printed in a linear fashion. A single space will separate them.\n",
    "\n",
    "Constraints:\n",
    "1 <= N <= 10^4\n",
    "Where N is the total number of nodes in the binary tree.\n",
    "\n",
    "Time Limit: 1 sec\n",
    "\n",
    "Sample Input 1:\n",
    "7\n",
    "1 2 4 5 3 6 7 \n",
    "4 2 5 1 6 3 7 \n",
    "Sample Output 1:\n",
    "1 \n",
    "2 3 \n",
    "4 5 6 7 \n",
    "\n",
    "Sample Input 2:\n",
    "6\n",
    "5 6 2 3 9 10 \n",
    "2 6 3 9 5 10 \n",
    "Sample Output 2:\n",
    "5 \n",
    "6 10 \n",
    "2 3 \n",
    "9 "
   ]
  },
  {
   "cell_type": "code",
   "execution_count": 23,
   "metadata": {},
   "outputs": [],
   "source": [
    "def construct_from_preorder_inorder(preorder, inorder):\n",
    "    if len(preorder) is 0:\n",
    "        return None\n",
    "    \n",
    "    rootData = preorder[0]\n",
    "    root = BinaryTreeNode(rootData)\n",
    "    \n",
    "    ri = inorder.index(rootData)\n",
    "    \n",
    "    leftinorder = inorder[ : ri]\n",
    "    rightinorder = inorder[ri+1 : ]\n",
    "    \n",
    "    leftpreorder = preorder[1 : len(leftinorder)+1]\n",
    "    rightpreorder = preorder[1+len(leftinorder) : ]\n",
    "    \n",
    "    root.left = construct_from_preorder_inorder(leftpreorder, leftinorder)\n",
    "    root.right = construct_from_preorder_inorder(rightpreorder, rightinorder)\n",
    "    return root"
   ]
  },
  {
   "cell_type": "code",
   "execution_count": 24,
   "metadata": {},
   "outputs": [
    {
     "name": "stdout",
     "output_type": "stream",
     "text": [
      "7\n",
      "1 2 4 5 3 6 7 \n",
      "4 2 5 1 6 3 7\n",
      "1 : L : 2, R : 3 \n",
      "2 : L : 4, R : 5 \n",
      "3 : L : 6, R : 7 \n",
      "4 : L : -1,R : -1\n",
      "5 : L : -1,R : -1\n",
      "6 : L : -1,R : -1\n",
      "7 : L : -1,R : -1\n"
     ]
    }
   ],
   "source": [
    "n = int(input())\n",
    "preorder = [int(i) for i in input().strip().split()]\n",
    "inorder = [int(i) for i in input().strip().split()]\n",
    "root = construct_from_preorder_inorder(preorder, inorder)\n",
    "bt.print_tree(root)"
   ]
  },
  {
   "cell_type": "markdown",
   "metadata": {},
   "source": [
    "# Construct Tree from Inorder and Postorder"
   ]
  },
  {
   "cell_type": "raw",
   "metadata": {},
   "source": [
    "For a given postorder and inorder traversal of a Binary Tree of type integer stored in an array/list, create the binary tree using the given two arrays/lists. You just need to construct the tree and return the root.\n",
    "\n",
    "Note:\n",
    "Assume that the Binary Tree contains only unique elements. \n",
    "\n",
    "Input Format:\n",
    "The first line of input contains an integer N denoting the size of the list/array. It can also be said that N is the total number of nodes the binary tree would have.\n",
    "\n",
    "The second line of input contains N integers, all separated by a single space. It represents the Postorder-traversal of the binary tree.\n",
    "\n",
    "The third line of input contains N integers, all separated by a single space. It represents the inorder-traversal of the binary tree.\n",
    "\n",
    "Output Format:\n",
    "The given input tree will be printed in a level order fashion where each level will be printed on a new line. \n",
    "Elements on every level will be printed in a linear fashion. A single space will separate them.\n",
    "\n",
    "Constraints:\n",
    "1 <= N <= 10^4\n",
    "Where N is the total number of nodes in the binary tree.\n",
    "\n",
    "Time Limit: 1 sec\n",
    "\n",
    "Sample Input 1:\n",
    "7\n",
    "4 5 2 6 7 3 1 \n",
    "4 2 5 1 6 3 7 \n",
    "Sample Output 1:\n",
    "1 \n",
    "2 3 \n",
    "4 5 6 7 \n",
    "\n",
    "Sample Input 2:\n",
    "6\n",
    "2 9 3 6 10 5 \n",
    "2 6 3 9 5 10 \n",
    "Sample Output 2:\n",
    "5 \n",
    "6 10 \n",
    "2 3 \n",
    "9 "
   ]
  },
  {
   "cell_type": "code",
   "execution_count": 25,
   "metadata": {},
   "outputs": [],
   "source": [
    "def construct_from_postorder_inorder(postorder, inorder):\n",
    "    if len(postorder) is 0:\n",
    "        return None\n",
    "    \n",
    "    rootData = postorder[-1]\n",
    "    root = BinaryTreeNode(rootData)\n",
    "    ri = inorder.index(rootData)\n",
    "    \n",
    "    leftinorder = inorder[0 : ri]\n",
    "    rightinorder = inorder[ri+1 : ]\n",
    "    \n",
    "    leftpostorder = postorder[0 : len(leftinorder)]\n",
    "    rightpostorder = postorder[len(leftinorder) : len(postorder) -1]\n",
    "    \n",
    "    root.left = construct_from_postorder_inorder(leftpostorder, leftinorder)\n",
    "    root.right = construct_from_postorder_inorder(rightpostorder, rightinorder)\n",
    "    return root"
   ]
  },
  {
   "cell_type": "code",
   "execution_count": 26,
   "metadata": {},
   "outputs": [
    {
     "name": "stdout",
     "output_type": "stream",
     "text": [
      "6\n",
      "2 9 3 6 10 5 \n",
      "2 6 3 9 5 10\n",
      "5 : L : 6, R : 10 \n",
      "6 : L : 2, R : 3 \n",
      "10 : L : -1,R : -1\n",
      "2 : L : -1,R : -1\n",
      "3 : L : -1,R : 9 \n",
      "9 : L : -1,R : -1\n"
     ]
    }
   ],
   "source": [
    "n = int(input())\n",
    "postorder = [int(i) for i in input().strip().split()]\n",
    "inorder = [int(i) for i in input().strip().split()]\n",
    "root = construct_from_postorder_inorder(postorder, inorder)\n",
    "bt.print_tree(root)"
   ]
  },
  {
   "cell_type": "markdown",
   "metadata": {},
   "source": [
    "# Create and Insert Duplicate Node"
   ]
  },
  {
   "cell_type": "raw",
   "metadata": {},
   "source": [
    "For a given a Binary Tree of type integer, duplicate every node of the tree and attach it to the left of itself.\n",
    "The root will remain the same. So you just need to insert nodes in the given Binary Tree.\n",
    "\n",
    "Input format :\n",
    "The first and the only line of input will contain the node data, all separated by a single space. Since -1 is used as an indication whether the left or right node data exist for root, it will not be a part of the node data.\n",
    "\n",
    "Output Format :\n",
    "The updated tree will be printed in a level order fashion where each level will be printed on a new line. \n",
    "Elements on every level will be printed in a linear fashion. A single space will separate them.\n",
    "\n",
    "Note:\n",
    "You are not required to print anything explicitly. It has already been taken care of. Just implement the function to achieve the desired structure of the tree.\n",
    "\n",
    "Constraints :\n",
    "1 <= N <= 10^5\n",
    "Where N is the total number of nodes in the binary tree.\n",
    "\n",
    "Time Limit: 1 sec\n",
    "\n",
    "Sample Input 1:\n",
    "10 20 30 40 50 -1 60 -1 -1 -1 -1 -1 -1\n",
    "Sample Output 1:\n",
    "10 \n",
    "10 30 \n",
    "20 30 60 \n",
    "20 50 60 \n",
    "40 50 \n",
    "40 \n",
    "\n",
    "Sample Input 2:\n",
    "8 5 10 2 6 -1 -1 -1 -1 -1 7 -1 -1\n",
    "Sample Output 2:\n",
    "8 \n",
    "8 10 \n",
    "5 10 \n",
    "5 6 \n",
    "2 6 7 \n",
    "2 7"
   ]
  },
  {
   "cell_type": "code",
   "execution_count": 27,
   "metadata": {},
   "outputs": [],
   "source": [
    "def insert_duplicate_node(root):\n",
    "    if root is None:\n",
    "        return root\n",
    "    \n",
    "    tempNode = BinaryTreeNode(root.data)\n",
    "    tempNode.left = root.left\n",
    "    root.left = tempNode\n",
    "    insert_duplicate_node(tempNode.left)\n",
    "    insert_duplicate_node(root.right)"
   ]
  },
  {
   "cell_type": "code",
   "execution_count": 28,
   "metadata": {},
   "outputs": [
    {
     "name": "stdout",
     "output_type": "stream",
     "text": [
      "10 20 30 40 50 -1 60 -1 -1 -1 -1 -1 -1\n",
      "10 : L : 10, R : 30 \n",
      "10 : L : 20, R : -1\n",
      "30 : L : 30, R : 60 \n",
      "20 : L : 20, R : 50 \n",
      "30 : L : -1,R : -1\n",
      "60 : L : 60, R : -1\n",
      "20 : L : 40, R : -1\n",
      "50 : L : 50, R : -1\n",
      "60 : L : -1,R : -1\n",
      "40 : L : 40, R : -1\n",
      "50 : L : -1,R : -1\n",
      "40 : L : -1,R : -1\n"
     ]
    }
   ],
   "source": [
    "root = bt.take_input()\n",
    "insert_duplicate_node(root)\n",
    "bt.print_tree(root)"
   ]
  },
  {
   "cell_type": "markdown",
   "metadata": {},
   "source": [
    "# Minimum and Maximum in a Binary Tree"
   ]
  },
  {
   "cell_type": "raw",
   "metadata": {},
   "source": [
    "For a given a Binary Tree of type integer, find and return the minimum and the maximum data values.\n",
    "Return the output as an object of Pair class, which is already created.\n",
    "\n",
    "Note:\n",
    "All the node data will be unique and hence there will always exist a minimum and maximum node data.\n",
    "\n",
    "Input Format:\n",
    "The first and the only line of input will contain the node data, all separated by a single space. Since -1 is used as an indication whether the left or right node data exist for root, it will not be a part of the node data.\n",
    "\n",
    "Output Format:\n",
    "The only line of output prints two integers denoting the minimum and the maximum data values respectively. A single line will separate them both.\n",
    "\n",
    "Constraints:\n",
    "2 <= N <= 10^5\n",
    "Where N is the total number of nodes in the binary tree.\n",
    "\n",
    "Time Limit: 1 sec\n",
    "\n",
    "Sample Input 1:\n",
    "8 3 10 1 6 -1 14 -1 -1 4 7 13 -1 -1 -1 -1 -1 -1 -1\n",
    "Sample Output 1:\n",
    "1 14\n",
    "\n",
    "Sample Input 2:\n",
    "10 20 60 -1 -1 3 50 -1 -1 -1 -1 \n",
    "Sample Output 2:\n",
    "3 60"
   ]
  },
  {
   "cell_type": "code",
   "execution_count": 32,
   "metadata": {},
   "outputs": [
    {
     "name": "stdout",
     "output_type": "stream",
     "text": [
      "9223372036854775807 -9223372036854775807\n"
     ]
    }
   ],
   "source": [
    "import sys\n",
    "\n",
    "max_value = sys.maxsize\n",
    "min_value = -sys.maxsize\n",
    "print(max_value, min_value)"
   ]
  },
  {
   "cell_type": "code",
   "execution_count": 33,
   "metadata": {},
   "outputs": [],
   "source": [
    "def min_and_max(root):\n",
    "    if root is None:\n",
    "        return max_value, min_value\n",
    "    \n",
    "    leftMin, leftMax = min_and_max(root.left)\n",
    "    rightMin, rightMax = min_and_max(root.right)\n",
    "    \n",
    "    currMin = min(leftMin, rightMin, root.data)\n",
    "    currMax = max(leftMax, rightMax, root.data)\n",
    "    return currMin, currMax"
   ]
  },
  {
   "cell_type": "code",
   "execution_count": 35,
   "metadata": {},
   "outputs": [
    {
     "name": "stdout",
     "output_type": "stream",
     "text": [
      "8 3 10 1 6 -1 14 -1 -1 4 7 13 -1 -1 -1 -1 -1 -1 -1\n",
      "1 14\n"
     ]
    }
   ],
   "source": [
    "root = bt.take_input()\n",
    "ans_min, ans_max = min_and_max(root)\n",
    "print(ans_min, ans_max)"
   ]
  },
  {
   "cell_type": "markdown",
   "metadata": {},
   "source": [
    "# Level Order Traversal"
   ]
  },
  {
   "cell_type": "raw",
   "metadata": {},
   "source": [
    "For a given a Binary Tree of type integer, print it in a level order fashion where each level will be printed on a new line. Elements on every level will be printed in a linear fashion and a single space will separate them.\n",
    "\n",
    "Input Format:\n",
    "The first and the only line of input will contain the node data, all separated by a single space. Since -1 is used as an indication whether the left or right node data exist for root, it will not be a part of the node data.\n",
    "\n",
    "Output Format:\n",
    "The given input tree will be printed in a level order fashion where each level will be printed on a new line. \n",
    "Elements on every level will be printed in a linear fashion. A single space will separate them.\n",
    "\n",
    "Constraints:\n",
    "1 <= N <= 10^5\n",
    "Where N is the total number of nodes in the binary tree.\n",
    "\n",
    "Time Limit: 1 sec\n",
    "\n",
    "Sample Input 1:\n",
    "10 20 30 40 50 -1 60 -1 -1 -1 -1 -1 -1 \n",
    "Sample Output 1:\n",
    "10 \n",
    "20 30 \n",
    "40 50 60 \n",
    "\n",
    "Sample Input 2:\n",
    "8 3 10 1 6 -1 14 -1 -1 4 7 13 -1 -1 -1 -1 -1 -1 -1\n",
    "Sample Output 2:\n",
    "8 \n",
    "3 10 \n",
    "1 6 14 \n",
    "4 7 13 "
   ]
  },
  {
   "cell_type": "code",
   "execution_count": 4,
   "metadata": {},
   "outputs": [],
   "source": [
    "import queue"
   ]
  },
  {
   "cell_type": "code",
   "execution_count": 6,
   "metadata": {},
   "outputs": [],
   "source": [
    "def level_order(root):\n",
    "    if root is None:\n",
    "        return\n",
    "    \n",
    "    q = queue.Queue()\n",
    "    q.put(root)\n",
    "    q.put(None)\n",
    "    \n",
    "    while not q.empty():\n",
    "        \n",
    "        currNode = q.get()\n",
    "        \n",
    "        if currNode is None:\n",
    "            if q.empty():\n",
    "                break\n",
    "            q.put(None)\n",
    "            print()\n",
    "            continue\n",
    "        else:\n",
    "            print(currNode.data, end = \" \")\n",
    "        \n",
    "        if currNode.left is not None:\n",
    "            q.put(currNode.left)\n",
    "        \n",
    "        if currNode.right is not None:\n",
    "            q.put(currNode.right)"
   ]
  },
  {
   "cell_type": "code",
   "execution_count": 7,
   "metadata": {},
   "outputs": [
    {
     "name": "stdout",
     "output_type": "stream",
     "text": [
      "8 3 10 1 6 -1 14 -1 -1 4 7 13 -1 -1 -1 -1 -1 -1 -1\n",
      "8 \n",
      "3 10 \n",
      "1 6 14 \n",
      "4 7 13 "
     ]
    }
   ],
   "source": [
    "root = bt.take_input()\n",
    "level_order(root)"
   ]
  },
  {
   "cell_type": "markdown",
   "metadata": {},
   "source": [
    "# Path Sum Root to Leaf"
   ]
  },
  {
   "cell_type": "raw",
   "metadata": {},
   "source": [
    "For a given Binary Tree of type integer and a number K, print out all root-to-leaf paths where the sum of all the node data along the path is equal to K.\n",
    "\n",
    "Input Format:\n",
    "The first line of input will contain the node data, all separated by a single space. Since -1 is used as an indication whether the left or right node data exist for root, it will not be a part of the node data.\n",
    "\n",
    "The second line of input contains an integer value K.\n",
    "\n",
    "Output Format:\n",
    "Lines equal to the total number of paths will be printed. All the node data in every path will be printed in a linear fashion taken in the order they appear from top to down bottom in the tree. A single space will separate them all.\n",
    "\n",
    "Constriants:\n",
    "1 <= N <= 10^5\n",
    "0 <= K <= 10^8\n",
    "Where N is the total number of nodes in the binary tree.\n",
    "\n",
    "Time Limit: 1 second\n",
    "\n",
    "Sample Input 1:\n",
    "2 3 9 4 8 -1 2 4 -1 -1 -1 6 -1 -1 -1 -1 -1\n",
    "13\n",
    "Sample Output 1:\n",
    "2 3 4 4 \n",
    "2 3 8\n",
    "\n",
    "Sample Input 2:\n",
    "5 6 7 2 3 -1 1 -1 -1 -1 9 -1 -1 -1 -1\n",
    "13\n",
    "Sample Output 2:\n",
    "5 6 2\n",
    "5 7 1"
   ]
  },
  {
   "cell_type": "code",
   "execution_count": 10,
   "metadata": {},
   "outputs": [],
   "source": [
    "def path_sum_root_to_leaf(root, path, k):\n",
    "    if root is None:\n",
    "        return\n",
    "    k = k - root.data\n",
    "    \n",
    "    if k < 0 :\n",
    "        return\n",
    "    \n",
    "    path.append(root.data)\n",
    "    \n",
    "    if root.left is None and root.right is None:\n",
    "        if k is 0:\n",
    "            for ele in path:\n",
    "                print(ele, end = \" \")\n",
    "            print()\n",
    "        path.pop()\n",
    "        return\n",
    "    \n",
    "    path_sum_root_to_leaf(root.left, path, k)\n",
    "    path_sum_root_to_leaf(root.right, path, k)\n",
    "    path.pop()"
   ]
  },
  {
   "cell_type": "code",
   "execution_count": 11,
   "metadata": {},
   "outputs": [
    {
     "name": "stdout",
     "output_type": "stream",
     "text": [
      "5 6 7 2 3 -1 1 -1 -1 -1 9 -1 -1 -1 -1\n",
      "13\n",
      "5 6 2 \n",
      "5 7 1 \n"
     ]
    }
   ],
   "source": [
    "root = bt.take_input()\n",
    "k = int(input())\n",
    "path_sum_root_to_leaf(root, [], k)"
   ]
  },
  {
   "cell_type": "markdown",
   "metadata": {},
   "source": [
    "# Print nodes at distance k from node"
   ]
  },
  {
   "cell_type": "raw",
   "metadata": {},
   "source": [
    "You are given a Binary Tree of type integer, a target node, and an integer value K.\n",
    "Print the data of all nodes that have a distance K from the target node. The order in which they would be printed will not matter.\n",
    "\n",
    "Input Format:\n",
    "The first line of input will contain the node data, all separated by a single space. Since -1 is used as an indication whether the left or right node data exist for root, it will not be a part of the node data.\n",
    "\n",
    "The second line of input contains two integers separated by a single space, representing the value of the target node and K, respectively.\n",
    "\n",
    "Output Format:\n",
    "All the node data at distance K from the target node will be printed on a new line.\n",
    "\n",
    "The order in which the data is printed doesn't matter.\n",
    "\n",
    "Constraints:\n",
    "1 <= N <= 10^5\n",
    "Where N is the total number of nodes in the binary tree.\n",
    "\n",
    "Time Limit: 1 sec\n",
    "\n",
    "Sample Input 1:\n",
    "5 6 10 2 3 -1 -1 -1 -1 -1 9 -1 -1\n",
    "3 1\n",
    "Sample Output 1:\n",
    "9\n",
    "6\n",
    "\n",
    "Sample Input 2:\n",
    "1 2 3 4 5 6 7 -1 -1 -1 -1 -1 -1 -1 -1\n",
    "3 3\n",
    "Sample Output 2:\n",
    "4\n",
    "5"
   ]
  },
  {
   "cell_type": "code",
   "execution_count": null,
   "metadata": {},
   "outputs": [],
   "source": []
  }
 ],
 "metadata": {
  "kernelspec": {
   "display_name": "Python 3",
   "language": "python",
   "name": "python3"
  },
  "language_info": {
   "codemirror_mode": {
    "name": "ipython",
    "version": 3
   },
   "file_extension": ".py",
   "mimetype": "text/x-python",
   "name": "python",
   "nbconvert_exporter": "python",
   "pygments_lexer": "ipython3",
   "version": "3.7.2"
  }
 },
 "nbformat": 4,
 "nbformat_minor": 4
}
