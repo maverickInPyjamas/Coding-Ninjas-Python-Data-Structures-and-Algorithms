{
 "cells": [
  {
   "cell_type": "markdown",
   "metadata": {},
   "source": [
    "# This Contains :-\n",
    "\n",
    "1. __NOTE : run this cell__ Binary Tree Node class\n",
    "2. __NOTE : run this cell__ Binary Tree Class\n",
    "3. Search in BST\n",
    "4. Elements Between K1 and K2\n",
    "5. Construct BST\n",
    "6. check BST\n",
    "7. Root to Node Path in Binary Tree\n",
    "8. Find path in BST"
   ]
  },
  {
   "cell_type": "markdown",
   "metadata": {},
   "source": [
    "## Binary Tree Node class"
   ]
  },
  {
   "cell_type": "code",
   "execution_count": 1,
   "metadata": {},
   "outputs": [],
   "source": [
    "class BinaryTreeNode():\n",
    "    def __init__(self, data):\n",
    "        self.data = data\n",
    "        self.left = None\n",
    "        self.right = None"
   ]
  },
  {
   "cell_type": "markdown",
   "metadata": {},
   "source": [
    "## Binary Tree Class"
   ]
  },
  {
   "cell_type": "code",
   "execution_count": 3,
   "metadata": {},
   "outputs": [],
   "source": [
    "import queue\n",
    "\n",
    "class BinaryTree():\n",
    "    \n",
    "    def __init__(self):\n",
    "        pass\n",
    "    \n",
    "    def take_input(self):\n",
    "        \n",
    "        arr = [int(i) for i in input().strip().split()]\n",
    "        \n",
    "        if len(arr) is 0 or arr[0] is -1:\n",
    "            return None\n",
    "        \n",
    "        root = BinaryTreeNode(arr[0])\n",
    "        i = 1\n",
    "        q = queue.Queue()\n",
    "        q.put(root)\n",
    "        \n",
    "        while not q.empty():\n",
    "            currNode = q.get()\n",
    "            \n",
    "            # inserting left child\n",
    "            leftChildData = arr[i]\n",
    "            i+=1\n",
    "            if leftChildData != -1:\n",
    "                leftNode = BinaryTreeNode(leftChildData)\n",
    "                currNode.left = leftNode\n",
    "                q.put(leftNode)\n",
    "            \n",
    "            #inserting right child\n",
    "            rightChildData = arr[i]\n",
    "            i+=1\n",
    "            if rightChildData != -1:\n",
    "                rightNode = BinaryTreeNode(rightChildData)\n",
    "                currNode.right = rightNode\n",
    "                q.put(rightNode)\n",
    "            \n",
    "        return root\n",
    "    \n",
    "    \n",
    "    def print_tree(self, root):\n",
    "        if root is None:\n",
    "            print(\"-1\")\n",
    "            \n",
    "        q = queue.Queue()\n",
    "        q.put(root)\n",
    "        \n",
    "        while not q.empty():\n",
    "            currNode = q.get()\n",
    "            \n",
    "            print(\"{a} : \".format(a = currNode.data), end = \"\")\n",
    "            \n",
    "            if currNode.left is not None:\n",
    "                q.put(currNode.left)\n",
    "                print(\"L : {a}, \".format(a = currNode.left.data), end = \"\")\n",
    "            else :\n",
    "                print(\"L : -1,\", end = \"\")\n",
    "                \n",
    "            if currNode.right is not None:\n",
    "                q.put(currNode.right)\n",
    "                print(\"R : {a} \".format(a = currNode.right.data), end = \"\")\n",
    "            else :\n",
    "                print(\"R : -1\", end = \"\")\n",
    "                \n",
    "            print()"
   ]
  },
  {
   "cell_type": "code",
   "execution_count": 4,
   "metadata": {},
   "outputs": [
    {
     "name": "stdout",
     "output_type": "stream",
     "text": [
      "8 3 10 1 6 -1 14 -1 -1 4 7 13 -1 -1 -1 -1 -1 -1 -1\n",
      "8 : L : 3, R : 10 \n",
      "3 : L : 1, R : 6 \n",
      "10 : L : -1,R : 14 \n",
      "1 : L : -1,R : -1\n",
      "6 : L : 4, R : 7 \n",
      "14 : L : 13, R : -1\n",
      "4 : L : -1,R : -1\n",
      "7 : L : -1,R : -1\n",
      "13 : L : -1,R : -1\n"
     ]
    }
   ],
   "source": [
    "bt = BinaryTree()\n",
    "root = bt.take_input()\n",
    "bt.print_tree(root)"
   ]
  },
  {
   "cell_type": "markdown",
   "metadata": {},
   "source": [
    "# Search Node in BST"
   ]
  },
  {
   "cell_type": "raw",
   "metadata": {},
   "source": [
    "Given a BST and an integer k. Find if the integer k is present in given BST or not. You have to return true, if node with data k is present, return false otherwise.\n",
    "\n",
    "Note: Assume that BST contains all unique elements.\n",
    "\n",
    "Input Format:\n",
    "The first line of input contains data of the nodes of the tree in level order form. The data of the nodes of the tree is separated by space. If any node does not have left or right child, take -1 in its place. Since -1 is used as an indication whether the left or right nodes exist, therefore, it will not be a part of the data of any node.   \n",
    "The following line of input contains an integer, that denotes the value of k.\n",
    "\n",
    "Output Format:\n",
    "The first and only line of output contains a boolean value. Print true, if node with data k is present, print false otherwise. \n",
    "\n",
    "Constraints:\n",
    "\n",
    "Time Limit: 1 second\n",
    "\n",
    "Sample Input 1 :\n",
    "8 5 10 2 6 -1 -1 -1 -1 -1 7 -1 -1\n",
    "2\n",
    "Sample Output 1 :\n",
    "true\n",
    "\n",
    "Sample Input 2 :\n",
    "8 5 10 2 6 -1 -1 -1 -1 -1 7 -1 -1\n",
    "12\n",
    "Sample Output 2 :\n",
    "false"
   ]
  },
  {
   "cell_type": "code",
   "execution_count": 12,
   "metadata": {},
   "outputs": [],
   "source": [
    "def searchBST(root, k):\n",
    "    if root is None:\n",
    "        return False\n",
    "    \n",
    "    if root.data is k:\n",
    "        return True\n",
    "    \n",
    "    if root.data < k:\n",
    "        return searchBST(root.right, k)\n",
    "    else:\n",
    "        return searchBST(root.left, k)"
   ]
  },
  {
   "cell_type": "code",
   "execution_count": 13,
   "metadata": {},
   "outputs": [
    {
     "name": "stdout",
     "output_type": "stream",
     "text": [
      "8 5 10 2 6 -1 -1 -1 -1 -1 7 -1 -1\n",
      "2\n",
      "True\n"
     ]
    }
   ],
   "source": [
    "root = bt.take_input()\n",
    "k = int(input())\n",
    "print(searchBST(root, k))"
   ]
  },
  {
   "cell_type": "markdown",
   "metadata": {},
   "source": [
    "# Elements Between K1 and K2"
   ]
  },
  {
   "cell_type": "raw",
   "metadata": {},
   "source": [
    "Given a Binary Search Tree and two integers k1 and k2, find and print the elements which are in range k1 and k2 (both inclusive).\n",
    "Print the elements in increasing order.\n",
    "\n",
    "Input format:\n",
    "The first line of input contains data of the nodes of the tree in level order form. The data of the nodes of the tree is separated by space. If any node does not have left or right child, take -1 in its place. Since -1 is used as an indication whether the left or right nodes exist, therefore, it will not be a part of the data of any node.\n",
    "The following line contains two integers, that denote the value of k1 and k2.\n",
    "\n",
    "Output Format:\n",
    "The first and only line of output prints the elements which are in range k1 and k2 (both inclusive). Print the elements in increasing order.\n",
    "\n",
    "Constraints:\n",
    "\n",
    "Time Limit: 1 second\n",
    "\n",
    "Sample Input 1:\n",
    "8 5 10 2 6 -1 -1 -1 -1 -1 7 -1 -1\n",
    "6 10\n",
    "Sample Output 1:\n",
    "6 7 8 10"
   ]
  },
  {
   "cell_type": "code",
   "execution_count": 14,
   "metadata": {},
   "outputs": [],
   "source": [
    "def elements_between_k1_k2(root, k1, k2):\n",
    "    if root is None:\n",
    "        return\n",
    "    elements_between_k1_k2(root.left, k1, k2)\n",
    "    \n",
    "    if k1 <= root.data <= k2:\n",
    "        print(root.data, end = \" \")\n",
    "        \n",
    "    elements_between_k1_k2(root.right, k1, k2)"
   ]
  },
  {
   "cell_type": "code",
   "execution_count": 15,
   "metadata": {},
   "outputs": [
    {
     "name": "stdout",
     "output_type": "stream",
     "text": [
      "8 5 10 2 6 -1 -1 -1 -1 -1 7 -1 -1\n",
      "6 10\n",
      "6 7 8 10 "
     ]
    }
   ],
   "source": [
    "root = bt.take_input()\n",
    "k1, k2 = [int(i) for i in input().strip().split()]\n",
    "elements_between_k1_k2(root, k1, k2)"
   ]
  },
  {
   "cell_type": "markdown",
   "metadata": {},
   "source": [
    "# Construct BST"
   ]
  },
  {
   "cell_type": "raw",
   "metadata": {},
   "source": [
    "Given a sorted integer array A of size n, which contains all unique elements. You need to construct a balanced BST from this input array. Return the root of constructed BST.\n",
    "Note: If array size is even, take first mid as root.\n",
    "\n",
    "Input format:\n",
    "The first line of input contains an integer, which denotes the value of n. The following line contains n space separated integers, that denote the values of array.\n",
    "\n",
    "Output Format:\n",
    "The first and only line of output contains values of BST nodes, printed in pre order traversal.\n",
    "\n",
    "Constraints:\n",
    "\n",
    "Time Limit: 1 second\n",
    "\n",
    "Sample Input 1:\n",
    "7\n",
    "1 2 3 4 5 6 7\n",
    "Sample Output 1:\n",
    "4 2 1 3 6 5 7 "
   ]
  },
  {
   "cell_type": "code",
   "execution_count": 23,
   "metadata": {},
   "outputs": [],
   "source": [
    "def preorder(root):\n",
    "    if root is None:\n",
    "        return\n",
    "    print(root.data, end=\" \")\n",
    "    preorder(root.left)\n",
    "    preorder(root.right)"
   ]
  },
  {
   "cell_type": "code",
   "execution_count": 24,
   "metadata": {},
   "outputs": [],
   "source": [
    "def constructBST(arr):\n",
    "    if len(arr) is 0:\n",
    "        return None\n",
    "    mid = len(arr)//2\n",
    "    root = BinaryTreeNode(arr[mid])\n",
    "    root.left = constructBST(arr[:mid])\n",
    "    root.right = constructBST(arr[mid+1:])\n",
    "    return root"
   ]
  },
  {
   "cell_type": "code",
   "execution_count": 25,
   "metadata": {},
   "outputs": [
    {
     "name": "stdout",
     "output_type": "stream",
     "text": [
      "1 2 3 4 5 6 7\n",
      "4 2 1 3 6 5 7 "
     ]
    }
   ],
   "source": [
    "arr = [int(i) for i in input().strip().split()]\n",
    "root = constructBST(arr)\n",
    "preorder(root)"
   ]
  },
  {
   "cell_type": "markdown",
   "metadata": {},
   "source": [
    "# check BST"
   ]
  },
  {
   "cell_type": "code",
   "execution_count": 37,
   "metadata": {},
   "outputs": [
    {
     "name": "stdout",
     "output_type": "stream",
     "text": [
      "-9223372036854775807 9223372036854775807\n"
     ]
    }
   ],
   "source": [
    "import sys\n",
    "\n",
    "max_value = sys.maxsize\n",
    "min_value = -max_value\n",
    "print(min_value, max_value)"
   ]
  },
  {
   "cell_type": "code",
   "execution_count": 46,
   "metadata": {},
   "outputs": [],
   "source": [
    "def isBST(root, min_value = min_value, max_value = max_value):\n",
    "    if root is None:\n",
    "        return True\n",
    "    \n",
    "    if root.data < min_value or root.data >= max_value:\n",
    "        return False\n",
    "    \n",
    "    isLeftBalanced = isBST(root.left, min_value, root.data-1)\n",
    "    isRightBalanced = isBST(root.right, root.data, max_value)\n",
    "    \n",
    "    return isLeftBalanced and isRightBalanced"
   ]
  },
  {
   "cell_type": "code",
   "execution_count": 39,
   "metadata": {},
   "outputs": [
    {
     "name": "stdout",
     "output_type": "stream",
     "text": [
      "True\n"
     ]
    }
   ],
   "source": [
    "print(isBST(root))"
   ]
  },
  {
   "cell_type": "code",
   "execution_count": 47,
   "metadata": {},
   "outputs": [
    {
     "name": "stdout",
     "output_type": "stream",
     "text": [
      "1 2 3 4 5 6 7 -1 -1 -1 -1 -1 -1 -1 -1 \n",
      "False\n"
     ]
    }
   ],
   "source": [
    "root = bt.take_input()\n",
    "print(isBST(root))"
   ]
  },
  {
   "cell_type": "markdown",
   "metadata": {},
   "source": [
    "# Root to Node Path in Binary Tree"
   ]
  },
  {
   "cell_type": "code",
   "execution_count": 5,
   "metadata": {},
   "outputs": [],
   "source": [
    "def root_to_node_path(root, data):\n",
    "    if root is None:\n",
    "        return None\n",
    "    \n",
    "    if root.data is data:\n",
    "        l = []\n",
    "        l.append(root.data)\n",
    "        return l\n",
    "    \n",
    "    left_output = root_to_node_path(root.left, data)\n",
    "    \n",
    "    if left_output is not None:\n",
    "        left_output.append(root.data)\n",
    "        return left_output\n",
    "    \n",
    "    right_output = root_to_node_path(root.right, data)\n",
    "    \n",
    "    if right_output is not None:\n",
    "        right_output.append(root.data)\n",
    "        return right_output\n",
    "    \n",
    "    return None"
   ]
  },
  {
   "cell_type": "code",
   "execution_count": 6,
   "metadata": {},
   "outputs": [
    {
     "name": "stdout",
     "output_type": "stream",
     "text": [
      "8 3 10 1 6 -1 14 -1 -1 4 7 13 -1 -1 -1 -1 -1 -1 -1\n",
      "6\n",
      "6 3 8\n"
     ]
    }
   ],
   "source": [
    "root = bt.take_input()\n",
    "data = int(input())\n",
    "path = root_to_node_path(root, data)\n",
    "print(*path)"
   ]
  },
  {
   "cell_type": "markdown",
   "metadata": {},
   "source": [
    "# Find path in BST"
   ]
  },
  {
   "cell_type": "raw",
   "metadata": {},
   "source": [
    "Given a BST and an integer k. Find and return the path from the node with data k and root (if a node with data k is present in given BST) in a list. Return empty list otherwise.\n",
    "\n",
    "Note: Assume that BST contains all unique elements.\n",
    "\n",
    "Input Format :\n",
    "The first line of input contains data of the nodes of the tree in level order form. The data of the nodes of the tree is separated by space. If any node does not have left or right child, take -1 in its place. Since -1 is used as an indication whether the left or right nodes exist, therefore, it will not be a part of the data of any node.   \n",
    "The following line of input contains an integer, that denotes the value of k.\n",
    "\n",
    "Output Format :\n",
    "The first line and only line of output prints the data of the nodes in the path from node k to root. The data of the nodes is separated by single space.\n",
    "\n",
    "Constraints:\n",
    "Time Limit: 1 second   \n",
    "\n",
    "Sample Input 1:\n",
    "8 5 10 2 6 -1 -1 -1 -1 -1 7 -1 -1\n",
    "2\n",
    "Sample Output 1:\n",
    "2 5 8"
   ]
  },
  {
   "cell_type": "code",
   "execution_count": 8,
   "metadata": {},
   "outputs": [],
   "source": [
    "def find_path_BST(root, data):\n",
    "    \n",
    "    if root is None:\n",
    "        return None\n",
    "    \n",
    "    if root.data is data:\n",
    "        l = []\n",
    "        l.append(root.data)\n",
    "        return l\n",
    "    \n",
    "    if data < root.data :\n",
    "        left_output = find_path_BST(root.left, data)\n",
    "        \n",
    "        if left_output is not None:\n",
    "            left_output.append(root.data)\n",
    "            return left_output\n",
    "        \n",
    "    if data > root.data :\n",
    "        right_output = find_path_BST(root.right, data)\n",
    "        \n",
    "        if right_output is not None:\n",
    "            right_output.append(root.data)\n",
    "            return right_output"
   ]
  },
  {
   "cell_type": "code",
   "execution_count": 9,
   "metadata": {},
   "outputs": [
    {
     "name": "stdout",
     "output_type": "stream",
     "text": [
      "8 5 10 2 6 -1 -1 -1 -1 -1 7 -1 -1\n",
      "2\n",
      "2 5 8\n"
     ]
    }
   ],
   "source": [
    "root = bt.take_input()\n",
    "data = int(input())\n",
    "path = find_path_BST(root, data)\n",
    "print(*path)"
   ]
  },
  {
   "cell_type": "markdown",
   "metadata": {},
   "source": [
    "# BST Class"
   ]
  },
  {
   "cell_type": "raw",
   "metadata": {},
   "source": [
    "Implement the BST class which includes following functions -\n",
    "\n",
    "1. search\n",
    "Given an element, find if that is present in BST or not. Return true or false.\n",
    "\n",
    "2. insert -\n",
    "Given an element, insert that element in the BST at the correct position. Assume unique elements will be given.\n",
    "\n",
    "3. delete -\n",
    "Given an element, remove that element from the BST. If the element which is to be deleted has both children, replace that with the minimum element from right sub-tree.\n",
    "\n",
    "4. printTree (recursive) -\n",
    "Print the BST in ithe following format -\n",
    "For printing a node with data N, you need to follow the exact format -\n",
    "N:L:x,R:y\n",
    "wherer, N is data of any node present in the binary tree. x and y are the values of left and right child of node N. Print the children only if it is not null.\n",
    "There is no space in between.\n",
    "You need to print all nodes in the recursive format in different lines."
   ]
  },
  {
   "cell_type": "code",
   "execution_count": null,
   "metadata": {},
   "outputs": [],
   "source": [
    "class BST:\n",
    "    \n",
    "    def __init__(self):\n",
    "        self.root = None\n",
    "        self.numNodes = 0\n",
    "    \n",
    "#     Printing the Tree\n",
    "    \n",
    "    def printTreeHelper(self, root):\n",
    "        if root is None:\n",
    "            return\n",
    "        \n",
    "        print(root.data, end = \" : \")\n",
    "        if root.left is not None:\n",
    "            print(\"L : \",root.left.data, end=\",\")\n",
    "        if root.right is not None:\n",
    "            print(\"R : \",root.right.data, end=\"\")\n",
    "        print()\n",
    "        self.printTreeHelper(root.left)\n",
    "        self.printTreeHelper(root.right)\n",
    "        \n",
    "    def printTree(self):\n",
    "        self.printTreeHelper(self.root)\n",
    "        \n",
    "#     search in a Tree\n",
    "    \n",
    "    def searchDataHelper(self, root, data):\n",
    "        if root is None:\n",
    "            return False\n",
    "        \n",
    "        if root.data is data:\n",
    "            return True\n",
    "        \n",
    "        if data < root.data :\n",
    "            return self.searchDataHelper(root.left, data)\n",
    "        else:\n",
    "            return self.searchDataHelper(root.right, data)\n",
    "    \n",
    "    def search(self,data):\n",
    "        return self.searchDataHelper(self.root, data)\n",
    "    \n",
    "#     insert in a Tree\n",
    "    \n",
    "    def insertDataHelper(self,root, data):\n",
    "        if root is None:\n",
    "            node = BinaryTreeNode(data)\n",
    "            return node\n",
    "        \n",
    "        if root.data > data :\n",
    "            root.left = self.insertDataHelper(root.left, data)\n",
    "            return root\n",
    "        else:\n",
    "            root.right = self.insertDataHelper(root.right, data)\n",
    "            return root\n",
    "    # Insertion in BST : O(n)\n",
    "    \n",
    "    def insert(self, data):\n",
    "        self.numNodes+=1\n",
    "        self.root = self.insertDataHelper(self.root, data)\n",
    "        \n",
    "#     delete data from the Tree\n",
    "    \n",
    "    def minimum(self, root):\n",
    "        if root is None:\n",
    "            return 10000\n",
    "        \n",
    "        if root.left is None:\n",
    "            return root.data\n",
    "        \n",
    "        return self.minimum(root.left)\n",
    "    \n",
    "    def deleteDataHelper(self, root, data):\n",
    "        if root is None:\n",
    "            return False, None\n",
    "        \n",
    "        if root.data < data :\n",
    "            deleted, newRightNode = self.deleteDataHelper(root.right, data)\n",
    "            root.right = newRightNode\n",
    "            return deleted, root\n",
    "        \n",
    "        if root.data > data :\n",
    "            deleted, newLeftNode = self.deleteDataHelper(root.left, data)\n",
    "            root.left = newLeftNode\n",
    "            return deleted, root\n",
    "        \n",
    "        #We have touched the condition that \"root.data is data\"\n",
    "        \n",
    "        #When it is a leaf node\n",
    "        if root.left is None and root.right is None:\n",
    "            return True, None\n",
    "        \n",
    "        #only one child\n",
    "        if root.left is None :\n",
    "            return True, root.right\n",
    "        \n",
    "        if root.right is None:\n",
    "            return True, root.left\n",
    "        \n",
    "        #Root has 2 children\n",
    "        rep = self.minimum(root.right)\n",
    "        root.data = rep\n",
    "        deleted, newRightNode = self.deleteDataHelper(root.right, rep)\n",
    "        root.right = newRightNode\n",
    "        return True, root\n",
    "    \n",
    "    def delete(self, data):\n",
    "        deleted, newRoot = self.deleteDataHelper(self.root, data)\n",
    "        if deleted :\n",
    "            self.numNodes-=1\n",
    "        self.root = newRoot\n",
    "        return deleted\n",
    "    \n",
    "    ##############################################################\n",
    "    \n",
    "    def count(self):\n",
    "        return self.numNodes"
   ]
  }
 ],
 "metadata": {
  "kernelspec": {
   "display_name": "Python 3",
   "language": "python",
   "name": "python3"
  },
  "language_info": {
   "codemirror_mode": {
    "name": "ipython",
    "version": 3
   },
   "file_extension": ".py",
   "mimetype": "text/x-python",
   "name": "python",
   "nbconvert_exporter": "python",
   "pygments_lexer": "ipython3",
   "version": "3.7.2"
  }
 },
 "nbformat": 4,
 "nbformat_minor": 4
}
