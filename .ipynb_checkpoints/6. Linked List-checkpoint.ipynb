{
 "cells": [
  {
   "cell_type": "markdown",
   "metadata": {},
   "source": [
    "# This contains :-\n",
    "\n",
    "1. A linked list Node Class\n",
    "2. A Linked List Class\n",
    "3. Length of LL\n",
    "4. Print ith Node\n",
    "5. Delete Node\n",
    "6. Length of LL (recursive)\n",
    "7. Find a Node in a LL\n",
    "8. Append Last N to First\n",
    "9. Eliminate duplicates from a LL\n",
    "10. Print reverse LL\n",
    "11. palindrome LL"
   ]
  },
  {
   "cell_type": "markdown",
   "metadata": {},
   "source": [
    "### A Linked List Node class"
   ]
  },
  {
   "cell_type": "code",
   "execution_count": 1,
   "metadata": {},
   "outputs": [],
   "source": [
    "class LinkedListNode():\n",
    "    def __init__(self, data):\n",
    "        self.data = data\n",
    "        self.next = None"
   ]
  },
  {
   "cell_type": "markdown",
   "metadata": {},
   "source": [
    "### A Linked List class"
   ]
  },
  {
   "cell_type": "code",
   "execution_count": 2,
   "metadata": {},
   "outputs": [],
   "source": [
    "class LinkedList():\n",
    "    \n",
    "    def __init__(self):\n",
    "        pass\n",
    "        \n",
    "    def createLL(self):\n",
    "        \n",
    "        arr = [int(i) for i in input().strip().split()]\n",
    "        \n",
    "        head = None\n",
    "        tail = None\n",
    "        \n",
    "        for ele in arr:\n",
    "            if head is None and tail is None:\n",
    "                temp = LinkedListNode(ele)\n",
    "                head, tail = temp, temp\n",
    "            elif ele is not -1 :\n",
    "                temp = LinkedListNode(ele)\n",
    "                tail.next = temp\n",
    "                tail = temp\n",
    "            else :\n",
    "                tail.next = None\n",
    "        return head\n",
    "        \n",
    "    def printLL(self, head):\n",
    "        while head is not None:\n",
    "            print(head.data, end = \" \")\n",
    "            head = head.next"
   ]
  },
  {
   "cell_type": "code",
   "execution_count": 3,
   "metadata": {},
   "outputs": [
    {
     "name": "stdout",
     "output_type": "stream",
     "text": [
      "1 2 3 4 -1\n",
      "1 2 3 4 "
     ]
    }
   ],
   "source": [
    "ll = LinkedList()\n",
    "head = ll.createLL()\n",
    "ll.printLL(head)"
   ]
  },
  {
   "cell_type": "markdown",
   "metadata": {},
   "source": [
    "# Length of LL"
   ]
  },
  {
   "cell_type": "raw",
   "metadata": {},
   "source": [
    "For a given singly linked list of integers, find and return its length. Do it using an iterative method.\n",
    "\n",
    "Input format :\n",
    "The first line contains an Integer 't' which denotes the number of test cases or queries to be run. Then the test cases follow.\n",
    "First and the only line of each test case or query contains elements of the singly linked list separated by a single space. \n",
    "\n",
    "Remember/Consider :\n",
    "While specifying the list elements for input, -1 indicates the end of the singly linked list and hence, would never be a list element.\n",
    "\n",
    "Output format :\n",
    "For each test case, print the length of the linked list.\n",
    "Output for every test case will be printed in a separate line.\n",
    "\n",
    "Constraints :\n",
    "1 <= t <= 10^2\n",
    "0 <= N <= 10^5\n",
    "\n",
    "Time Limit: 1 sec\n",
    "\n",
    "Sample Input 1 :\n",
    "1\n",
    "3 4 5 2 6 1 9 -1\n",
    "Sample Output 1 :\n",
    "7\n",
    "\n",
    "Sample Input 2 :\n",
    "2\n",
    "10 76 39 -3 2 9 -23 9 -1\n",
    "-1\n",
    "Sample Output 2 :\n",
    "8\n",
    "0"
   ]
  },
  {
   "cell_type": "code",
   "execution_count": 4,
   "metadata": {},
   "outputs": [
    {
     "name": "stdout",
     "output_type": "stream",
     "text": [
      "1 2 3 4 5 6 -1\n",
      "6\n"
     ]
    }
   ],
   "source": [
    "def lengthLL(head):\n",
    "    ans = 0\n",
    "    while head is not None:\n",
    "        head = head.next\n",
    "        ans+=1\n",
    "    return ans\n",
    "\n",
    "head1 = ll.createLL()\n",
    "print(lengthLL(head1))"
   ]
  },
  {
   "cell_type": "markdown",
   "metadata": {},
   "source": [
    "# Print ith Node"
   ]
  },
  {
   "cell_type": "raw",
   "metadata": {},
   "source": [
    "For a given a singly linked list of integers and a position 'i', print the node data at the 'i-th' position.\n",
    "\n",
    "Note :\n",
    "Assume that the Indexing for the singly linked list always starts from 0.\n",
    "If the given position 'i',  is greater than the length of the given singly linked list, then don't print anything.\n",
    "\n",
    "Input format :\n",
    "The first line contains an Integer 't' which denotes the number of test cases or queries to be run. Then the test cases follow.\n",
    "The first line of each test case or query contains the elements of the singly linked list separated by a single space.\n",
    "The second line contains the value of 'i'. It denotes the position in the given singly linked list.\n",
    "\n",
    "Remember/Consider :\n",
    "While specifying the list elements for input, -1 indicates the end of the singly linked list and hence, would never be a list element.\n",
    "\n",
    "Output format :\n",
    "For each test case, print the node data at the 'i-th' position of the linked list(if exists).\n",
    "Output for every test case will be printed in a seperate line.\n",
    "\n",
    "Constraints :\n",
    "1 <= t <= 10^2\n",
    "0 <= N <= 10^5\n",
    "i  >= 0\n",
    "\n",
    "Time Limit: 1sec\n",
    "\n",
    "Sample Input 1 :\n",
    "1\n",
    "3 4 5 2 6 1 9 -1\n",
    "3\n",
    "Sample Output 1 :\n",
    "2\n",
    "\n",
    "Sample Input 2 :\n",
    "2\n",
    "3 4 5 2 6 1 9 -1\n",
    "0\n",
    "9 8 4 0 7 8 -1\n",
    "3\n",
    "Sample Output 2 :\n",
    "3\n",
    "0"
   ]
  },
  {
   "cell_type": "code",
   "execution_count": 33,
   "metadata": {},
   "outputs": [
    {
     "name": "stdout",
     "output_type": "stream",
     "text": [
      "2\n",
      "3 4 5 2 6 1 9 -1\n",
      "0\n",
      "3\n",
      "None\n",
      "9 8 4 0 7 8 -1\n",
      "3\n",
      "0\n",
      "None\n"
     ]
    }
   ],
   "source": [
    "def print_i_node(head, pos):\n",
    "    ind = 0\n",
    "    while ind < pos :\n",
    "        head = head.next\n",
    "        ind+=1\n",
    "    print(head.data)\n",
    "    \n",
    "t = int(input())\n",
    "\n",
    "for i in range(t):\n",
    "    head2 = ll.createLL()\n",
    "    pos = int(input())\n",
    "    print(print_i_node(head2, pos))"
   ]
  },
  {
   "cell_type": "markdown",
   "metadata": {},
   "source": [
    "# Delete Node"
   ]
  },
  {
   "cell_type": "raw",
   "metadata": {},
   "source": [
    "You have been given a linked list of integers. Your task is to write a function that deletes a node from a given position, 'pos'.\n",
    "\n",
    "Note :\n",
    "Assume that the Indexing for the linked list always starts from 0.\n",
    "If the position is greater than or equal to the length of the linked list, you should return the same linked list without any change.\n",
    "\n",
    "Input format :\n",
    "The first line contains an Integer 't' which denotes the number of test cases or queries to be run. Then the test cases follow.\n",
    "The first line of each test case or query contains the elements of the linked list separated by a single space. \n",
    "The second line of each test case contains the integer value of 'pos'. It denotes the position in the linked list from where the node has to be deleted.\n",
    "\n",
    "Remember/Consider :\n",
    "While specifying the list elements for input, -1 indicates the end of the singly linked list and hence, would never be a list element\n",
    "\n",
    "Output format :\n",
    "For each test case/query, print the resulting linked list of integers in a row, separated by a single space.\n",
    "Output for every test case will be printed in a separate line.\n",
    "You don't need to print explicitly, it has been taken care of.\n",
    "\n",
    "Constraints :\n",
    "1 <= t <= 10^2\n",
    "0 <= N <= 10^5\n",
    "pos >= 0\n",
    "\n",
    "Time Limit: 1sec\n",
    "\n",
    "Where 'N' is the size of the singly linked list.\n",
    "\n",
    "Sample Input 1 :\n",
    "1 \n",
    "3 4 5 2 6 1 9 -1\n",
    "3\n",
    "Sample Output 1 :\n",
    "3 4 5 6 1 9\n",
    "\n",
    "Sample Input 2 :\n",
    "2\n",
    "3 4 5 2 6 1 9 -1\n",
    "0\n",
    "10 20 30 40 50 60 -1\n",
    "7\n",
    "Sample Output 2 :\n",
    "4 5 2 6 1 9\n",
    "10 20 30 40 50 60"
   ]
  },
  {
   "cell_type": "code",
   "execution_count": 35,
   "metadata": {},
   "outputs": [
    {
     "name": "stdout",
     "output_type": "stream",
     "text": [
      "2\n",
      "3 4 5 2 6 1 9 -1\n",
      "0\n",
      "4 5 2 6 1 9 10 20 30 40 50 60 -1\n",
      "7\n",
      "10 20 30 40 50 60 "
     ]
    }
   ],
   "source": [
    "\n",
    "def delete_node(head, pos):\n",
    "    if head is None:\n",
    "        return\n",
    "    if pos is 0:\n",
    "        return head.next\n",
    "    \n",
    "    head.next = delete_node(head.next, pos-1)\n",
    "    return head\n",
    "\n",
    "\n",
    "t = int(input())\n",
    "\n",
    "for i in range(t):\n",
    "    head2 = ll.createLL()\n",
    "    pos = int(input())\n",
    "    head2 = delete_node(head2, pos)\n",
    "    ll.printLL(head2)"
   ]
  },
  {
   "cell_type": "markdown",
   "metadata": {},
   "source": [
    "# Length of a Linked List (recursive)"
   ]
  },
  {
   "cell_type": "raw",
   "metadata": {},
   "source": [
    "Given a linked list, find and return the length of the given linked list recursively.\n",
    "\n",
    "Input format :\n",
    "The first line contains an Integer 't' which denotes the number of test cases or queries to be run. Then the test cases follow.\n",
    "First and the only line of each test case or query contains elements of the singly linked list separated by a single space. \n",
    "\n",
    "Remember/Consider :\n",
    "While specifying the list elements for input, -1 indicates the end of the singly linked list and hence, would never be a list element.\n",
    "\n",
    "Output format :\n",
    "For each test case, print the length of the linked list.\n",
    "Output for every test case will be printed in a separate line.\n",
    " \n",
    "Constraints :\n",
    "1 <= t <= 20\n",
    "0 <= N <= 10^4\n",
    "\n",
    "Time Limit: 1 sec\n",
    "\n",
    "Sample Input 1:\n",
    "1 \n",
    "3 4 5 2 6 1 9 -1\n",
    "Sample Output 1:\n",
    "7"
   ]
  },
  {
   "cell_type": "code",
   "execution_count": 37,
   "metadata": {},
   "outputs": [
    {
     "name": "stdout",
     "output_type": "stream",
     "text": [
      "1\n",
      "3 4 5 2 6 1 9 -1\n",
      "7\n"
     ]
    }
   ],
   "source": [
    "def lengthLL_rec(head):\n",
    "    if head is None:\n",
    "        return 0\n",
    "    return 1 + lengthLL_rec(head.next)\n",
    "\n",
    "t = int(input())\n",
    "\n",
    "for i in range(t):\n",
    "    head2 = ll.createLL()\n",
    "    print(lengthLL_rec(head2))"
   ]
  },
  {
   "cell_type": "markdown",
   "metadata": {},
   "source": [
    "# Find a Node in a LL"
   ]
  },
  {
   "cell_type": "raw",
   "metadata": {},
   "source": [
    "You have been given a singly linked list of integers. Write a function that returns the index/position of an integer data denoted by 'N' (if it exists). Return -1 otherwise.\n",
    "\n",
    "Note :\n",
    "Assume that the Indexing for the singly linked list always starts from 0.\n",
    "\n",
    "Input format :\n",
    "The first line contains an Integer 't' which denotes the number of test cases or queries to be run. Then the test cases follow.\n",
    "The first line of each test case or query contains the elements of the singly linked list separated by a single space. \n",
    "The second line contains the integer value 'N'. It denotes the data to be searched in the given singly linked list.\n",
    "\n",
    "Remember/Consider :\n",
    "While specifying the list elements for input, -1 indicates the end of the singly linked list and hence, would never be a list element.\n",
    "\n",
    "Output format :\n",
    "For each test case/query, return the index/position of 'N' in the singly linked list. Return -1, otherwise.\n",
    "Output for every test case will be printed in a separate line.\n",
    "\n",
    "Constraints :\n",
    "1 <= t <= 10^2\n",
    "0 <= M <= 10^5\n",
    "Where 'M' is the size of the singly linked list.\n",
    "\n",
    "Time Limit: 1 sec\n",
    "\n",
    "Sample Input 1 :\n",
    "2\n",
    "3 4 5 2 6 1 9 -1\n",
    "5\n",
    "10 20 30 40 50 60 70 -1\n",
    "6\n",
    "Sample Output 1 :\n",
    "2\n",
    "-1\n",
    "\n",
    "Sample Input 2 :\n",
    "1\n",
    "3 4 5 2 6 1 9 -1\n",
    "6\n",
    "Sample Output 2 :\n",
    "4\n",
    "\n",
    "Explanation for Sample Input 2 :\n",
    "For the given singly linked list, considering the indices starting from 0, progressing in a left to right manner with a jump of 1, then the N = 6 appears at position 4."
   ]
  },
  {
   "cell_type": "code",
   "execution_count": 38,
   "metadata": {},
   "outputs": [
    {
     "name": "stdout",
     "output_type": "stream",
     "text": [
      "1\n",
      "3 4 5 2 6 1 9 -1\n",
      "6\n",
      "4\n"
     ]
    }
   ],
   "source": [
    "def find_node(head, data):\n",
    "    if head is None :\n",
    "        return -1\n",
    "    if head.data is data :\n",
    "        return 0\n",
    "    ans = find_node(head.next, data)\n",
    "    if ans is not -1:\n",
    "        return 1 + ans\n",
    "    else :\n",
    "        return ans\n",
    "    \n",
    "t = int(input())\n",
    "\n",
    "for i in range(t):\n",
    "    head2 = ll.createLL()\n",
    "    data = int(input())\n",
    "    print(find_node(head2, data))"
   ]
  },
  {
   "cell_type": "markdown",
   "metadata": {},
   "source": [
    "# Append Last N to first"
   ]
  },
  {
   "cell_type": "raw",
   "metadata": {},
   "source": [
    "You have been given a singly linked list of integers along with an integer 'N'. Write a function to append the last 'N' nodes towards the front of the singly linked list and returns the new head to the list.\n",
    "\n",
    "Input format :\n",
    "The first line contains an Integer 't' which denotes the number of test cases or queries to be run. Then the test cases follow.\n",
    "The first line of each test case or query contains the elements of the singly linked list separated by a single space. \n",
    "The second line contains the integer value 'N'. It denotes the number of nodes to be moved from last to the front of the singly linked list.\n",
    "\n",
    "Remember/Consider :\n",
    "While specifying the list elements for input, -1 indicates the end of the singly linked list and hence, would never be a list element.\n",
    "\n",
    "Output format :\n",
    "For each test case/query, print the resulting singly linked list of integers in a row, separated by a single space.\n",
    "Output for every test case will be printed in a seperate line.\n",
    "\n",
    "Constraints :\n",
    "1 <= t <= 10^2\n",
    "0 <= M <= 10^5\n",
    "0 <= N < M\n",
    "\n",
    "Time Limit: 1sec\n",
    "Where 'M' is the size of the singly linked list.\n",
    "\n",
    "Sample Input 1 :\n",
    "2\n",
    "1 2 3 4 5 -1\n",
    "3\n",
    "10 20 30 40 50 60 -1\n",
    "5\n",
    "Sample Output 1 :\n",
    "3 4 5 1 2\n",
    "20 30 40 50 60 10\n",
    "\n",
    "Sample Input 2 :\n",
    "1\n",
    "10 6 77 90 61 67 100  -1\n",
    "4\n",
    "Sample Output 2 :\n",
    "90 61 67 100 10 6 77 \n",
    "\n",
    "Explanation to Sample Input 2 :\n",
    "We have been required to move the last 4 nodes to the front of the list. Here, \"90->61->67->100\" is the list which represents the last 4 nodes. When we move this list to the front then the remaining part of the initial list which is, \"10->6->77\" is attached after 100. Hence, the new list formed with an updated head pointing to 90."
   ]
  },
  {
   "cell_type": "code",
   "execution_count": 8,
   "metadata": {},
   "outputs": [
    {
     "name": "stdout",
     "output_type": "stream",
     "text": [
      "1\n",
      "10 6 77 90 61 67 100  -1\n",
      "4\n",
      "90 61 67 100 10 6 77 "
     ]
    }
   ],
   "source": [
    "def appendLastNToFirst(head, n):\n",
    "    if head == None or n<0:\n",
    "        return None\n",
    "    curr = head\n",
    "    temp = head\n",
    "    i=0\n",
    "    while i!=lengthLL(head)-n:\n",
    "        prev = curr\n",
    "        curr = curr.next\n",
    "        i+=1\n",
    "    prev.next = None\n",
    "    head = curr\n",
    "    curr = head\n",
    "    while curr.next is not None:\n",
    "        curr = curr.next\n",
    "    curr.next = temp\n",
    "    return head\n",
    "\n",
    "t = int(input())\n",
    "\n",
    "for i in range(t):\n",
    "    head2 = ll.createLL()\n",
    "    n = int(input())\n",
    "    head2 = appendLastNToFirst(head2, n)\n",
    "    ll.printLL(head2)"
   ]
  },
  {
   "cell_type": "markdown",
   "metadata": {},
   "source": [
    "# Eliminate duplicates from LL"
   ]
  },
  {
   "cell_type": "raw",
   "metadata": {},
   "source": [
    "You have been given a singly linked list of integers where the elements are sorted in ascending order. Write a function that removes the consecutive duplicate values such that the given list only contains unique elements and returns the head to the updated list.\n",
    "\n",
    "Input format :\n",
    "The first line contains an Integer 't' which denotes the number of test cases or queries to be run. Then the test cases follow.\n",
    "The first and the only line of each test case or query contains the elements(in ascending order) of the singly linked list separated by a single space.\n",
    "\n",
    "Remember/Consider :\n",
    "While specifying the list elements for input, -1 indicates the end of the singly linked list and hence, would never be a list element.\n",
    "\n",
    "Output format :\n",
    "For each test case/query, print the resulting singly linked list of integers in a row, separated by a single space.\n",
    "Output for every test case will be printed in a seperate line.\n",
    "\n",
    "Constraints :\n",
    "1 <= t <= 10^2\n",
    "0 <= M <= 10^5\n",
    "\n",
    "Time Limit: 1sec\n",
    "Where 'M' is the size of the singly linked list.\n",
    "\n",
    "Sample Input 1 :\n",
    "1\n",
    "1 2 3 3 4 3 4 5 4 5 5 7 -1\n",
    "Sample Output 1 :\n",
    "1 2 3 4 3 4 5 4 5 7 \n",
    "\n",
    "Sample Input 2 :\n",
    "2\n",
    "10 20 30 40 50 -1\n",
    "10 10 10 10 -1\n",
    "Sample Output 2 :\n",
    "10 20 30 40 50\n",
    "10"
   ]
  },
  {
   "cell_type": "code",
   "execution_count": 10,
   "metadata": {},
   "outputs": [
    {
     "name": "stdout",
     "output_type": "stream",
     "text": [
      "1\n",
      "1 2 2 3 3 3 4 5 6 6 7 7 7 -1\n",
      "1 2 3 4 5 6 7 "
     ]
    }
   ],
   "source": [
    "\n",
    "def eliminate_duplicates(head):\n",
    "    if head is None or head.next is None:\n",
    "        return head\n",
    "    temp = head.next\n",
    "    \n",
    "    while temp is not None and temp.data is head.data :\n",
    "        temp = temp.next\n",
    "        \n",
    "    head.next = eliminate_duplicates(temp)\n",
    "    return head\n",
    "\n",
    "t = int(input())\n",
    "# 1 2 2 3 3 3 4 5 6 6 7 7 7 -1\n",
    "\n",
    "for i in range(t):\n",
    "    head2 = ll.createLL()\n",
    "    head2 = eliminate_duplicates(head2)\n",
    "    ll.printLL(head2)"
   ]
  },
  {
   "cell_type": "markdown",
   "metadata": {},
   "source": [
    "# Print Reverse LinkedList"
   ]
  },
  {
   "cell_type": "raw",
   "metadata": {},
   "source": [
    "You have been given a singly linked list of integers. Write a function to print the list in a reverse order.\n",
    "To explain it further, you need to start printing the data from the tail and move towards the head of the list, printing the head data at the end.\n",
    "\n",
    "Note :\n",
    "You can’t change any of the pointers in the linked list, just print it in the reverse order.\n",
    "\n",
    "Input format :\n",
    "The first line contains an Integer 't' which denotes the number of test cases or queries to be run. Then the test cases follow.\n",
    "The first and the only line of each test case or query contains the elements of the singly linked list separated by a single space.\n",
    "\n",
    "Remember/Constraints :\n",
    "While specifying the list elements for input, -1 indicates the end of the singly linked list and hence, would never be a list element.\n",
    "\n",
    "Output format :\n",
    "For each test case, print the singly linked list of integers in a reverse fashion, in a row, separated by a single space.\n",
    "Output for every test case will be printed in a seperate line.\n",
    "\n",
    "Constraints :\n",
    "1 <= t <= 10^2\n",
    "0 <= M <= 10^3\n",
    "\n",
    "Time Limit: 1sec\n",
    "Where 'M' is the size of the singly linked list.\n",
    "\n",
    "Sample Input 1 :\n",
    "1\n",
    "1 2 3 4 5 -1\n",
    "Sample Output 1 :\n",
    "5 4 3 2 1\n",
    "\n",
    "Sample Input 2 :\n",
    "2\n",
    "1 2 3 -1\n",
    "10 20 30 40 50 -1\n",
    "Sample Output 2 :\n",
    "3 2 1\n",
    "50 40 30 20 10"
   ]
  },
  {
   "cell_type": "code",
   "execution_count": 11,
   "metadata": {},
   "outputs": [
    {
     "name": "stdout",
     "output_type": "stream",
     "text": [
      "2\n",
      "1 2 3 -1\n",
      "3 2 1 10 20 30 40 50 -1\n",
      "50 40 30 20 10 "
     ]
    }
   ],
   "source": [
    "def printLL_reverse(head):\n",
    "    if head is None:\n",
    "        return \n",
    "    printLL_reverse(head.next)\n",
    "    print(head.data, end= \" \")\n",
    "    \n",
    "t = int(input())\n",
    "\n",
    "for i in range(t):\n",
    "    head2 = ll.createLL()\n",
    "    printLL_reverse(head2)"
   ]
  },
  {
   "cell_type": "markdown",
   "metadata": {},
   "source": [
    "# Palindrome Linked List"
   ]
  },
  {
   "cell_type": "code",
   "execution_count": 16,
   "metadata": {},
   "outputs": [
    {
     "name": "stdout",
     "output_type": "stream",
     "text": [
      "1\n",
      "0 2 3 2 5 -1\n",
      "0 2 3 2 5\n",
      "false\n"
     ]
    }
   ],
   "source": [
    "def check_palindrome_ll(head):\n",
    "    arr = []\n",
    "    while head is not None:\n",
    "        arr.append(head.data)\n",
    "        head = head.next\n",
    "    \n",
    "#     print(*arr)\n",
    "    si = 0\n",
    "    ei = len(arr)-1\n",
    "    \n",
    "    while ei > si:\n",
    "        if arr[si] is not arr[ei]:\n",
    "            return False\n",
    "        si+=1\n",
    "        ei-=1\n",
    "    return True\n",
    "\n",
    "\n",
    "t = int(input())\n",
    "\n",
    "for i in range(t):\n",
    "    head2 = ll.createLL()\n",
    "    if check_palindrome_ll(head2):\n",
    "        print(\"true\")\n",
    "    else:\n",
    "        print(\"false\")"
   ]
  },
  {
   "cell_type": "markdown",
   "metadata": {},
   "source": [
    "# Reverse LL"
   ]
  },
  {
   "cell_type": "raw",
   "metadata": {},
   "source": [
    "Given a singly linked list of integers, reverse it using recursion and return the head to the modified list.\n",
    "Note :\n",
    "No need to print the list, it has already been taken care. Only return the new head to the list.\n",
    "\n",
    "Input format :\n",
    "The first line contains an Integer 't' which denotes the number of test cases or queries to be run. Then the test cases follow.\n",
    "The first and the only line of each test case or query contains the elements of the singly linked list separated by a single space.\n",
    "\n",
    "Remember/Consider :\n",
    "While specifying the list elements for input, -1 indicates the end of the singly linked list and hence, would never be a list element\n",
    "\n",
    "Output format :\n",
    "For each test case/query, print the elements of the updated singly linked list.\n",
    "Output for every test case will be printed in a seperate line.\n",
    "\n",
    "Constraints :\n",
    "1 <= t <= 10^2\n",
    "0 <= M <= 10^4\n",
    "Where M is the size of the singly linked list.\n",
    "\n",
    "Time Limit: 1sec\n",
    "\n",
    "Sample Input 1 :\n",
    "1\n",
    "1 2 3 4 5 6 7 8 -1\n",
    "Sample Output 1 :\n",
    "8 7 6 5 4 3 2 1\n",
    "\n",
    "Sample Input 2 :\n",
    "2\n",
    "10 -1\n",
    "10 20 30 40 50 -1\n",
    "Sample Output 2 :\n",
    "10 \n",
    "50 40 30 20 10 "
   ]
  },
  {
   "cell_type": "code",
   "execution_count": 5,
   "metadata": {},
   "outputs": [
    {
     "name": "stdout",
     "output_type": "stream",
     "text": [
      "1 2 3 4 5 -1\n",
      "5 4 3 2 1 "
     ]
    }
   ],
   "source": [
    "def reverseLL_rec(head):\n",
    "    if head is None or head.next is None:\n",
    "        return head\n",
    "    \n",
    "    newHead = reverseLL_rec(head.next)\n",
    "    head.next.next = head\n",
    "    head.next = None\n",
    "    return newHead\n",
    "\n",
    "head = ll.createLL()\n",
    "newHead = reverseLL_rec(head)\n",
    "ll.printLL(newHead)"
   ]
  },
  {
   "cell_type": "markdown",
   "metadata": {},
   "source": [
    "# Midpoint of Linked List"
   ]
  },
  {
   "cell_type": "raw",
   "metadata": {},
   "source": [
    "For a given singly linked list of integers, find and return the node present at the middle of the list.\n",
    "\n",
    "Note :\n",
    "If the length of the singly linked list is even, then return the first middle node.\n",
    "Example: \n",
    "Consider, 10 -> 20 -> 30 -> 40 is the given list, then the nodes present at the middle with respective data values are, 20 and 30. We return the first node with data 20.\n",
    "\n",
    "Input format :\n",
    "The first line contains an Integer 't' which denotes the number of test cases or queries to be run. Then the test cases follow.\n",
    "The first and the only line of each test case or query contains the elements of the singly linked list separated by a single space. \n",
    "Remember/Consider :\n",
    "While specifying the list elements for input, -1 indicates the end of the singly linked list and hence, would never be a list element\n",
    " \n",
    "Output Format :\n",
    "For each test case/query, print the data value of the node at the middle of the given list.\n",
    "Output for every test case will be printed in a seperate line.\n",
    "\n",
    "Constraints :\n",
    "1 <= t <= 10^2\n",
    "0 <= M <= 10^5 \n",
    "Where M is the size of the singly linked list.\n",
    "\n",
    "Time Limit: 1sec\n",
    "\n",
    "Sample Input 1 :\n",
    "1\n",
    "1 2 3 4 5 -1\n",
    "Sample Output 1 :\n",
    "3\n",
    "\n",
    "Sample Input 2 :\n",
    "2 \n",
    "-1\n",
    "1 2 3 4 -1\n",
    "Sample Output 2 :\n",
    "2"
   ]
  },
  {
   "cell_type": "code",
   "execution_count": 11,
   "metadata": {},
   "outputs": [
    {
     "name": "stdout",
     "output_type": "stream",
     "text": [
      "1 2 3 4 5 -1\n",
      "1 2 3 4 5 "
     ]
    },
    {
     "ename": "AttributeError",
     "evalue": "'NoneType' object has no attribute 'next'",
     "output_type": "error",
     "traceback": [
      "\u001b[1;31m---------------------------------------------------------------------------\u001b[0m",
      "\u001b[1;31mAttributeError\u001b[0m                            Traceback (most recent call last)",
      "\u001b[1;32m<ipython-input-11-f6d35e05283a>\u001b[0m in \u001b[0;36m<module>\u001b[1;34m\u001b[0m\n\u001b[0;32m     11\u001b[0m \u001b[0mhead\u001b[0m \u001b[1;33m=\u001b[0m \u001b[0mll\u001b[0m\u001b[1;33m.\u001b[0m\u001b[0mcreateLL\u001b[0m\u001b[1;33m(\u001b[0m\u001b[1;33m)\u001b[0m\u001b[1;33m\u001b[0m\u001b[1;33m\u001b[0m\u001b[0m\n\u001b[0;32m     12\u001b[0m \u001b[0mll\u001b[0m\u001b[1;33m.\u001b[0m\u001b[0mprintLL\u001b[0m\u001b[1;33m(\u001b[0m\u001b[0mhead\u001b[0m\u001b[1;33m)\u001b[0m\u001b[1;33m\u001b[0m\u001b[1;33m\u001b[0m\u001b[0m\n\u001b[1;32m---> 13\u001b[1;33m \u001b[0mtemp\u001b[0m \u001b[1;33m=\u001b[0m \u001b[0mmidpointLL\u001b[0m\u001b[1;33m(\u001b[0m\u001b[0mhead\u001b[0m\u001b[1;33m)\u001b[0m\u001b[1;33m\u001b[0m\u001b[1;33m\u001b[0m\u001b[0m\n\u001b[0m\u001b[0;32m     14\u001b[0m \u001b[0mprint\u001b[0m\u001b[1;33m(\u001b[0m\u001b[0mtemp\u001b[0m\u001b[1;33m.\u001b[0m\u001b[0mdata\u001b[0m\u001b[1;33m)\u001b[0m\u001b[1;33m\u001b[0m\u001b[1;33m\u001b[0m\u001b[0m\n",
      "\u001b[1;32m<ipython-input-11-f6d35e05283a>\u001b[0m in \u001b[0;36mmidpointLL\u001b[1;34m(head)\u001b[0m\n\u001b[0;32m      4\u001b[0m     \u001b[0mfast\u001b[0m\u001b[1;33m,\u001b[0m \u001b[0mslow\u001b[0m \u001b[1;33m=\u001b[0m \u001b[0mhead\u001b[0m\u001b[1;33m,\u001b[0m \u001b[0mhead\u001b[0m\u001b[1;33m\u001b[0m\u001b[1;33m\u001b[0m\u001b[0m\n\u001b[0;32m      5\u001b[0m     \u001b[1;32mwhile\u001b[0m \u001b[0mfast\u001b[0m \u001b[1;32mis\u001b[0m \u001b[1;32mnot\u001b[0m \u001b[1;32mNone\u001b[0m \u001b[1;32mor\u001b[0m \u001b[0mfast\u001b[0m\u001b[1;33m.\u001b[0m\u001b[0mnext\u001b[0m \u001b[1;32mis\u001b[0m \u001b[1;32mnot\u001b[0m \u001b[1;32mNone\u001b[0m\u001b[1;33m:\u001b[0m\u001b[1;33m\u001b[0m\u001b[1;33m\u001b[0m\u001b[0m\n\u001b[1;32m----> 6\u001b[1;33m         \u001b[0mfast\u001b[0m \u001b[1;33m=\u001b[0m \u001b[0mfast\u001b[0m\u001b[1;33m.\u001b[0m\u001b[0mnext\u001b[0m\u001b[1;33m.\u001b[0m\u001b[0mnext\u001b[0m\u001b[1;33m\u001b[0m\u001b[1;33m\u001b[0m\u001b[0m\n\u001b[0m\u001b[0;32m      7\u001b[0m         \u001b[0mslow\u001b[0m \u001b[1;33m=\u001b[0m \u001b[0mslow\u001b[0m\u001b[1;33m.\u001b[0m\u001b[0mnext\u001b[0m\u001b[1;33m\u001b[0m\u001b[1;33m\u001b[0m\u001b[0m\n\u001b[0;32m      8\u001b[0m \u001b[1;33m\u001b[0m\u001b[0m\n",
      "\u001b[1;31mAttributeError\u001b[0m: 'NoneType' object has no attribute 'next'"
     ]
    }
   ],
   "source": [
    "def midpointLL(head):\n",
    "    if head is None :\n",
    "        return head\n",
    "    fast, slow = head, head\n",
    "    while fast is not None or fast.next is not None:\n",
    "        fast = fast.next.next\n",
    "        slow = slow.next\n",
    "    \n",
    "    print(slow.data)\n",
    "\n",
    "head = ll.createLL()\n",
    "ll.printLL(head)\n",
    "midpointLL(head)\n",
    "# print(temp.data)"
   ]
  },
  {
   "cell_type": "code",
   "execution_count": null,
   "metadata": {},
   "outputs": [],
   "source": []
  }
 ],
 "metadata": {
  "kernelspec": {
   "display_name": "Python 3",
   "language": "python",
   "name": "python3"
  },
  "language_info": {
   "codemirror_mode": {
    "name": "ipython",
    "version": 3
   },
   "file_extension": ".py",
   "mimetype": "text/x-python",
   "name": "python",
   "nbconvert_exporter": "python",
   "pygments_lexer": "ipython3",
   "version": "3.7.2"
  }
 },
 "nbformat": 4,
 "nbformat_minor": 4
}
