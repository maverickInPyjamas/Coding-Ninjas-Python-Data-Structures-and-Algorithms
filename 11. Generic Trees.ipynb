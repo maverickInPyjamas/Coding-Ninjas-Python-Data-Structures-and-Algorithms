{
 "cells": [
  {
   "cell_type": "markdown",
   "metadata": {},
   "source": [
    "# This Contains :-\n",
    "\n",
    "1. __NOTE : run this cell__ Generic Tree Class\n",
    "2. Print Tree Recursively\n",
    "3. Printing Tree in a More Detailed Format\n",
    "4. Take input recursively\n",
    "5. Number of Nodes in a Generic Tree\n",
    "6. Sum of all nodes\n",
    "7. Node with Largest Data\n",
    "8. Height of Tree\n",
    "9. Taking Input Level Wis\n",
    "10. __NOTE : run this cell__ Print Level Wise\n",
    "11. __NOTE : run this cell__ Create Tree Levelwise\n",
    "12. Contains X\n",
    "13. Count Leaf Nodes\n",
    "14. Node with Maximum Child Sum\n",
    "15. Next Larger\n",
    "16. Replace with Depth"
   ]
  },
  {
   "cell_type": "markdown",
   "metadata": {},
   "source": [
    "# Generic Tree Class"
   ]
  },
  {
   "cell_type": "code",
   "execution_count": null,
   "metadata": {},
   "outputs": [],
   "source": [
    "class GenericTree():\n",
    "    def __init__(self, data):\n",
    "        self.data = data\n",
    "        self.children = []"
   ]
  },
  {
   "cell_type": "code",
   "execution_count": null,
   "metadata": {},
   "outputs": [],
   "source": [
    "#creating some nodes\n",
    "\n",
    "n1 = GenericTree(1)\n",
    "n2 = GenericTree(2)\n",
    "n3 = GenericTree(3)\n",
    "n4 = GenericTree(4)\n",
    "n5 = GenericTree(5)\n",
    "n6 = GenericTree(6)\n",
    "n7 = GenericTree(7)\n",
    "\n",
    "n1.children.append(n2)\n",
    "n1.children.append(n3)\n",
    "n1.children.append(n4)\n",
    "\n",
    "n3.children.append(n5)\n",
    "n3.children.append(n6)\n",
    "\n",
    "n4.children.append(n7)"
   ]
  },
  {
   "cell_type": "markdown",
   "metadata": {},
   "source": [
    "# Print Tree Recursively"
   ]
  },
  {
   "cell_type": "code",
   "execution_count": null,
   "metadata": {},
   "outputs": [],
   "source": [
    "def printTree_rec(root):\n",
    "    if root is None:\n",
    "        return\n",
    "    print(root.data, end = \" \")\n",
    "    \n",
    "    for child in root.children:\n",
    "        printTree_rec(child)"
   ]
  },
  {
   "cell_type": "code",
   "execution_count": null,
   "metadata": {},
   "outputs": [],
   "source": [
    "printTree_rec(n1)"
   ]
  },
  {
   "cell_type": "markdown",
   "metadata": {},
   "source": [
    "# Printing Tree in a More Detailed Format"
   ]
  },
  {
   "cell_type": "code",
   "execution_count": 6,
   "metadata": {},
   "outputs": [],
   "source": [
    "def printTree_detailed(root):\n",
    "    \n",
    "    # An edge Case\n",
    "    if root is None:\n",
    "        return\n",
    "    \n",
    "    print(root.data,\":\",end=\"\")\n",
    "    \n",
    "    for child in root.children:\n",
    "        print(child.data,end=\",\")\n",
    "    print()\n",
    "    \n",
    "    for child in root.children:\n",
    "        printTree_detailed(child)"
   ]
  },
  {
   "cell_type": "code",
   "execution_count": null,
   "metadata": {},
   "outputs": [],
   "source": [
    "printTree_detailed(n1)"
   ]
  },
  {
   "cell_type": "markdown",
   "metadata": {},
   "source": [
    "# Taking Input Recursively"
   ]
  },
  {
   "cell_type": "code",
   "execution_count": 3,
   "metadata": {},
   "outputs": [],
   "source": [
    "def takeInput_rec():\n",
    "    print(\"Enter Root Data : \")\n",
    "    rootData = int(input())\n",
    "    \n",
    "    root = GenericTree(rootData)\n",
    "    \n",
    "    print(\"How many children of {a}\".format(a = rootData))\n",
    "    childCount = int(input())\n",
    "    \n",
    "    for _ in range(childCount):\n",
    "        child = takeInput_rec()\n",
    "        root.children.append(child)\n",
    "    \n",
    "    return root"
   ]
  },
  {
   "cell_type": "code",
   "execution_count": null,
   "metadata": {},
   "outputs": [],
   "source": [
    "root = takeInput_rec()\n",
    "printTree_detailed(root)"
   ]
  },
  {
   "cell_type": "markdown",
   "metadata": {},
   "source": [
    "# Number of Nodes in a Generic Tree"
   ]
  },
  {
   "cell_type": "code",
   "execution_count": null,
   "metadata": {},
   "outputs": [],
   "source": [
    "def num_nodes(root):\n",
    "    if root is None:\n",
    "        return 0\n",
    "    \n",
    "    count = 1\n",
    "    \n",
    "    for child in root.children:\n",
    "        count = count + num_nodes(child)\n",
    "    return count"
   ]
  },
  {
   "cell_type": "code",
   "execution_count": null,
   "metadata": {},
   "outputs": [],
   "source": [
    "print(num_nodes(root))"
   ]
  },
  {
   "cell_type": "markdown",
   "metadata": {},
   "source": [
    "# Sum of all Nodes"
   ]
  },
  {
   "cell_type": "raw",
   "metadata": {},
   "source": [
    "Given a generic tree, find and return the sum of all nodes present in the given tree.\n",
    "\n",
    "Input format :\n",
    "The first line of input contains data of the nodes of the tree in level order form. The order is: data for root node, number of children to root node, data of each of child nodes and so on and so forth for each node. The data of the nodes of the tree is separated by space.   \n",
    "\n",
    "Output Format :\n",
    "The first and only line of output prints the sum of all nodes of the given generic tree.\n",
    "\n",
    "Constraints:\n",
    "Time Limit: 1 sec\n",
    "\n",
    "Sample Input 1:\n",
    "10 3 20 30 40 2 40 50 0 0 0 0 \n",
    "Sample Output 1:\n",
    "190"
   ]
  },
  {
   "cell_type": "code",
   "execution_count": null,
   "metadata": {},
   "outputs": [],
   "source": [
    "def sum_nodes(root):\n",
    "    if root is None:\n",
    "        return 0\n",
    "    \n",
    "    ans = root.data\n",
    "    \n",
    "    for child in root.children:\n",
    "        ans = ans + sum_nodes(child)\n",
    "    return ans"
   ]
  },
  {
   "cell_type": "code",
   "execution_count": null,
   "metadata": {},
   "outputs": [],
   "source": [
    "print(sum_nodes(root))"
   ]
  },
  {
   "cell_type": "markdown",
   "metadata": {},
   "source": [
    "# Node with Largest Data"
   ]
  },
  {
   "cell_type": "raw",
   "metadata": {},
   "source": [
    "Given a generic tree, find and return the node with maximum data. You need to return the node which is having maximum data.\n",
    "Return null if tree is empty.\n",
    "\n",
    "Input format :\n",
    "The first line of input contains data of the nodes of the tree in level order form. The order is: data for root node, number of children to root node, data of each of child nodes and so on and so forth for each node. The data of the nodes of the tree is separated by space.\n",
    "\n",
    "Output Format :\n",
    "The first and only line of output contains the data of the node with largest data in the given tree.\n",
    "\n",
    "Constraints:\n",
    "Time Limit: 1 sec\n",
    "\n",
    "Sample Input 1:\n",
    "10 3 20 30 40 2 40 50 0 0 0 0 \n",
    "Sample Output 1:\n",
    "50"
   ]
  },
  {
   "cell_type": "code",
   "execution_count": null,
   "metadata": {},
   "outputs": [],
   "source": [
    "def largest_node(root):\n",
    "    if root is None:\n",
    "        return 0\n",
    "    \n",
    "    ans = root.data\n",
    "    \n",
    "    for child in root.children:\n",
    "        ans = max(ans, largest_node(child))\n",
    "    \n",
    "    return ans"
   ]
  },
  {
   "cell_type": "code",
   "execution_count": null,
   "metadata": {},
   "outputs": [],
   "source": [
    "print(largest_node(root))"
   ]
  },
  {
   "cell_type": "markdown",
   "metadata": {},
   "source": [
    "# Height of Tree"
   ]
  },
  {
   "cell_type": "raw",
   "metadata": {},
   "source": [
    "Given a generic tree, find and return the height of given tree.\n",
    "\n",
    "Input format:\n",
    "The first line of input contains data of the nodes of the tree in level order form. The order is: data for root node, number of children to root node, data of each of child nodes and so on and so forth for each node. The data of the nodes of the tree is separated by space.  \n",
    "\n",
    "Output Format :\n",
    "The first and only line of output prints the height of the given generic tree.\n",
    "\n",
    "Constraints:\n",
    "Time Limit: 1 sec\n",
    "\n",
    "Sample Input 1:\n",
    "10 3 20 30 40 2 40 50 0 0 0 0 \n",
    "Sample Output 1:\n",
    "3"
   ]
  },
  {
   "cell_type": "code",
   "execution_count": null,
   "metadata": {},
   "outputs": [],
   "source": [
    "def height(root):\n",
    "    if root is None:\n",
    "        return 0\n",
    "    ans = 1\n",
    "    for child in root.children:\n",
    "        ans = max(ans, height(child))\n",
    "    return ans + 1"
   ]
  },
  {
   "cell_type": "code",
   "execution_count": null,
   "metadata": {},
   "outputs": [],
   "source": [
    "print(height(root)-1)"
   ]
  },
  {
   "cell_type": "markdown",
   "metadata": {},
   "source": [
    "# Taking Input Level wise"
   ]
  },
  {
   "cell_type": "code",
   "execution_count": 4,
   "metadata": {},
   "outputs": [],
   "source": [
    "import queue\n",
    "\n",
    "def takeInput_LevelWise():\n",
    "    q = queue.Queue()\n",
    "    print(\"Enter Root data :\")\n",
    "    rootData = int(input())\n",
    "    if rootData is -1:\n",
    "        return None\n",
    "    \n",
    "    root = GenericTree(rootData)\n",
    "    q.put(root)\n",
    "    \n",
    "    while not q.empty():\n",
    "        currentNode = q.get()\n",
    "        print(\"Enter number of children of {a}\".format(a=currentNode.data))\n",
    "        numChildren = int(input())\n",
    "        \n",
    "        for i in range(numChildren):\n",
    "            print(\"Enter next child of {a}\".format(a=currentNode.data))\n",
    "            childData = int(input())\n",
    "            child = GenericTree(childData)\n",
    "            currentNode.children.append(child)\n",
    "            q.put(child)\n",
    "    return root"
   ]
  },
  {
   "cell_type": "code",
   "execution_count": 7,
   "metadata": {},
   "outputs": [
    {
     "name": "stdout",
     "output_type": "stream",
     "text": [
      "Enter Root data :\n",
      "1\n",
      "Enter number of children of 1\n",
      "3\n",
      "Enter next child of 1\n",
      "2\n",
      "Enter next child of 1\n",
      "3\n",
      "Enter next child of 1\n",
      "4\n",
      "Enter number of children of 2\n",
      "0\n",
      "Enter number of children of 3\n",
      "2\n",
      "Enter next child of 3\n",
      "5\n",
      "Enter next child of 3\n",
      "6\n",
      "Enter number of children of 4\n",
      "0\n",
      "Enter number of children of 5\n",
      "0\n",
      "Enter number of children of 6\n",
      "3\n",
      "Enter next child of 6\n",
      "7\n",
      "Enter next child of 6\n",
      "8\n",
      "Enter next child of 6\n",
      "9\n",
      "Enter number of children of 7\n",
      "0\n",
      "Enter number of children of 8\n",
      "0\n",
      "Enter number of children of 9\n",
      "0\n",
      "1 :2,3,4,\n",
      "2 :\n",
      "3 :5,6,\n",
      "5 :\n",
      "6 :7,8,9,\n",
      "7 :\n",
      "8 :\n",
      "9 :\n",
      "4 :\n"
     ]
    }
   ],
   "source": [
    "root = takeInput_LevelWise()\n",
    "printTree_detailed(root)"
   ]
  },
  {
   "cell_type": "markdown",
   "metadata": {},
   "source": [
    "# Print Level Wise"
   ]
  },
  {
   "cell_type": "raw",
   "metadata": {},
   "source": [
    "Given a generic tree, print the input tree in level wise order.\n",
    "\n",
    "For printing a node with data N, you need to follow the exact format -\n",
    "N:x1,x2,x3,...,xn\n",
    "where, N is data of any node present in the generic tree. x1, x2, x3, ...., xn are the children of node N. Note that there is no space in between.\n",
    "\n",
    "You need to print all nodes in the level order form in different lines.\n",
    "\n",
    "Input format :\n",
    "The first line of input contains data of the nodes of the tree in level order form. The order is: data for root node, number of children to root node, data of each of child nodes and so on and so forth for each node. The data of the nodes of the tree is separated by space.\n",
    "\n",
    "Output Format :\n",
    "The first and only line of output contains the elements of the tree in level wise order, as described in the task.\n",
    "\n",
    "Constraints:\n",
    "Time Limit: 1 sec\n",
    "\n",
    "Sample Input 1:\n",
    "10 3 20 30 40 2 40 50 0 0 0 0 \n",
    "\n",
    "Sample Output 1:\n",
    "10:20,30,40\n",
    "20:40,50\n",
    "30:\n",
    "40:\n",
    "40:\n",
    "50:"
   ]
  },
  {
   "cell_type": "code",
   "execution_count": 8,
   "metadata": {},
   "outputs": [],
   "source": [
    "import queue\n",
    "\n",
    "def printTree_LevelWise(root):\n",
    "    q = queue.Queue()\n",
    "    q.put(root)\n",
    "    \n",
    "    while not q.empty():\n",
    "        currentNode = q.get()\n",
    "        print(\"{a}:\".format(a=currentNode.data),end=\"\")\n",
    "        \n",
    "        if len(currentNode.children) is 0:\n",
    "            print()\n",
    "        else:\n",
    "            for i in range(len(currentNode.children)):\n",
    "                if i is len(currentNode.children)-1:\n",
    "                    print(\"{a}\".format(a=currentNode.children[i].data))\n",
    "                else:\n",
    "                    print(\"{a}\".format(a=currentNode.children[i].data),end=\",\")\n",
    "                q.put(currentNode.children[i])"
   ]
  },
  {
   "cell_type": "code",
   "execution_count": 9,
   "metadata": {},
   "outputs": [
    {
     "name": "stdout",
     "output_type": "stream",
     "text": [
      "1:2,3,4\n",
      "2:\n",
      "3:5,6\n",
      "4:\n",
      "5:\n",
      "6:7,8,9\n",
      "7:\n",
      "8:\n",
      "9:\n"
     ]
    }
   ],
   "source": [
    "printTree_LevelWise(root)"
   ]
  },
  {
   "cell_type": "markdown",
   "metadata": {},
   "source": [
    "# Create Tree LevelWise"
   ]
  },
  {
   "cell_type": "code",
   "execution_count": 22,
   "metadata": {},
   "outputs": [],
   "source": [
    "def createTree_LevelWise(arr):\n",
    "    root = GenericTree(int(arr[0]))\n",
    "    q = [root]\n",
    "    size = len(arr)\n",
    "    i = 1\n",
    "    while i<size:\n",
    "        parent = q.pop(0)\n",
    "        childCount = int(arr[i])\n",
    "        i += 1\n",
    "        for j in range(0,childCount):\n",
    "            temp = GenericTree(int(arr[i+j]))\n",
    "            parent.children.append(temp)\n",
    "            q.append(temp)\n",
    "        i += childCount\n",
    "    return root"
   ]
  },
  {
   "cell_type": "markdown",
   "metadata": {},
   "source": [
    "# Contains X"
   ]
  },
  {
   "cell_type": "raw",
   "metadata": {},
   "source": [
    "Given a generic tree and an integer x, check if x is present in the given tree or not. Return true if x is present, return false otherwise.\n",
    "\n",
    "Input format :\n",
    "The first line of input contains data of the nodes of the tree in level order form. The order is: data for root node, number of children to root node, data of each of child nodes and so on and so forth for each node. The data of the nodes of the tree is separated by space.  \n",
    "The following line contains an integer, that denotes the value of x.\n",
    "\n",
    "Output format :\n",
    "The first and only line of output contains true, if x is present and false, otherwise.\n",
    "\n",
    "Constraints:\n",
    "Time Limit: 1 sec\n",
    "\n",
    "Sample Input 1 :\n",
    "10 3 20 30 40 2 40 50 0 0 0 0\n",
    "40 \n",
    "Sample Output 1 :\n",
    "true\n",
    "\n",
    "Sample Input 2 :\n",
    "10 3 20 30 40 2 40 50 0 0 0 0\n",
    "4 \n",
    "Sample Output 2:\n",
    "false"
   ]
  },
  {
   "cell_type": "code",
   "execution_count": 11,
   "metadata": {},
   "outputs": [],
   "source": [
    "def containsX(root, x):\n",
    "    if root is None:\n",
    "        return False\n",
    "    \n",
    "    ans = False\n",
    "    \n",
    "    if root.data is x:\n",
    "        return True\n",
    "    \n",
    "    for child in root.children:\n",
    "        ans = ans or containsX(child, x)\n",
    "    return ans"
   ]
  },
  {
   "cell_type": "code",
   "execution_count": 12,
   "metadata": {},
   "outputs": [
    {
     "name": "stdout",
     "output_type": "stream",
     "text": [
      "9\n",
      "true\n"
     ]
    }
   ],
   "source": [
    "if containsX(root, int(input())):\n",
    "    print(\"true\")\n",
    "else: print(\"false\")"
   ]
  },
  {
   "cell_type": "markdown",
   "metadata": {},
   "source": [
    "# Count Leaf nodes"
   ]
  },
  {
   "cell_type": "raw",
   "metadata": {},
   "source": [
    "Given a generic tree, count and return the number of leaf nodes present in the given tree.\n",
    "\n",
    "Input format :\n",
    "The first line of input contains data of the nodes of the tree in level order form. The order is: data for root node, number of children to root node, data of each of child nodes and so on and so forth for each node. The data of the nodes of the tree is separated by space.  \n",
    "\n",
    "Output Format :\n",
    "The first and only line of output prints the count of leaf nodes present in the given tree.\n",
    "\n",
    "Constraints:\n",
    "Time Limit: 1 sec\n",
    "\n",
    "Sample Input 1 :\n",
    "10 3 20 30 40 2 40 50 0 0 0 0 \n",
    "Sample Output 1 :\n",
    "4"
   ]
  },
  {
   "cell_type": "code",
   "execution_count": 13,
   "metadata": {},
   "outputs": [],
   "source": [
    "def leafNodeCount(root):\n",
    "    if root is None:\n",
    "        return 0\n",
    "    \n",
    "    ans = 0\n",
    "    \n",
    "    if len(root.children) is 0:\n",
    "        return 1\n",
    "    \n",
    "    for child in root.children:\n",
    "        ans+=leafNodeCount(child)\n",
    "    return ans"
   ]
  },
  {
   "cell_type": "code",
   "execution_count": 14,
   "metadata": {},
   "outputs": [
    {
     "name": "stdout",
     "output_type": "stream",
     "text": [
      "6\n"
     ]
    }
   ],
   "source": [
    "print(leafNodeCount(root))"
   ]
  },
  {
   "cell_type": "markdown",
   "metadata": {},
   "source": [
    "# Node with Maximum Child Sum"
   ]
  },
  {
   "cell_type": "raw",
   "metadata": {},
   "source": [
    "Given a generic tree, find and return the node for which sum of its data and data of all its child nodes is maximum. In the sum, data of the node and data of its immediate child nodes has to be taken.\n",
    "\n",
    "Input format :\n",
    "The first line of input contains data of the nodes of the tree in level order form. The order is: data for root node, number of children to root node, data of each of child nodes and so on and so forth for each node. The data of the nodes of the tree is separated by space. \n",
    "\n",
    "Output format :\n",
    "The first and only line of output contains the data of the node with maximum sum, as described in the task.\n",
    "\n",
    "Constraints:\n",
    "Time Limit: 1 sec\n",
    "\n",
    "Sample Input 1 :\n",
    "5 3 1 2 3 1 15 2 4 5 1 6 0 0 0 0\n",
    "Sample Output 1 :\n",
    "1"
   ]
  },
  {
   "cell_type": "code",
   "execution_count": 24,
   "metadata": {},
   "outputs": [],
   "source": [
    "def maxSumNode_helper(root, resNode, maxSum):\n",
    "    if root is None:\n",
    "        return\n",
    "    \n",
    "    currSum = root.data\n",
    "    \n",
    "    for i in range(len(root.children)):\n",
    "        currSum += root.children[i].data\n",
    "        resNode, maxSum = maxSumNode_helper(root.children[i], resNode, maxSum)\n",
    "    \n",
    "    if currSum > maxSum :\n",
    "        resNode = root\n",
    "        maxSum = currSum\n",
    "    \n",
    "    return resNode, maxSum\n",
    "\n",
    "def maxSumNode(root):\n",
    "    resNode, maxSum = maxSumNode_helper(root, GenericTree(None), 0)\n",
    "    return resNode.data"
   ]
  },
  {
   "cell_type": "code",
   "execution_count": 25,
   "metadata": {},
   "outputs": [
    {
     "name": "stdout",
     "output_type": "stream",
     "text": [
      "5 3 1 2 3 1 15 2 4 5 1 6 0 0 0 0\n",
      "1\n"
     ]
    }
   ],
   "source": [
    "arr = list(int(x) for x in input().strip().split(' '))\n",
    "tree = createTree_LevelWise(arr)\n",
    "temp= maxSumNode(tree)\n",
    "print(temp)"
   ]
  },
  {
   "cell_type": "markdown",
   "metadata": {},
   "source": [
    "# next Larger"
   ]
  },
  {
   "cell_type": "raw",
   "metadata": {},
   "source": [
    "Given a generic tree and an integer n. Find and return the node with next larger element in the tree i.e. find a node with value just greater than n.\n",
    "\n",
    "Note: Return NULL if no node is present with the value greater than n.\n",
    "\n",
    "Input format :\n",
    "The first line of input contains data of the nodes of the tree in level order form. The order is: data for root node, number of children to root node, data of each of child nodes and so on and so forth for each node. The data of the nodes of the tree is separated by space.  \n",
    "The following line contains an integer, that denotes the value of n.\n",
    "\n",
    "Output format :\n",
    "The first and only line of output contains data of the node, whose data is just greater than n.\n",
    "\n",
    "Constraints:\n",
    "Time Limit: 1 sec\n",
    "\n",
    "Sample Input 1 :\n",
    "10 3 20 30 40 2 40 50 0 0 0 0 \n",
    "18\n",
    "Sample Output 1 :\n",
    "20\n",
    "\n",
    "Sample Input 2 :\n",
    "10 3 20 30 40 2 40 50 0 0 0 0 \n",
    "21\n",
    "Sample Output 2:\n",
    "30"
   ]
  },
  {
   "cell_type": "code",
   "execution_count": 26,
   "metadata": {},
   "outputs": [],
   "source": [
    "def nextLargest(root, n, ans):\n",
    "    if root is None:\n",
    "        return \n",
    "    \n",
    "    for child in root.children:\n",
    "        ans = nextLargest(child, n, ans)\n",
    "    \n",
    "    if root.data > n and root.data < ans.data:\n",
    "        ans = root\n",
    "    return ans"
   ]
  },
  {
   "cell_type": "code",
   "execution_count": 28,
   "metadata": {},
   "outputs": [
    {
     "name": "stdout",
     "output_type": "stream",
     "text": [
      "21\n",
      "10 3 20 30 40 2 40 50 0 0 0 0\n",
      "30\n"
     ]
    }
   ],
   "source": [
    "n = int(input())\n",
    "arr = list(int(x) for x in input().strip().split(' '))\n",
    "root = createTree_LevelWise(arr)\n",
    "print(nextLargest(root, n, GenericTree(10000)).data)"
   ]
  },
  {
   "cell_type": "markdown",
   "metadata": {},
   "source": [
    "# Replace with Depth"
   ]
  },
  {
   "cell_type": "raw",
   "metadata": {},
   "source": [
    "You are given a generic tree. You have to replace each node with its depth value. You just have to update the data of each node, there is no need to return or print anything.\n",
    "\n",
    "Input format :\n",
    "The first line of input contains data of the nodes of the tree in level order form. The order is: data for root node, number of children to root node, data of each of child nodes and so on and so forth for each node. The data of the nodes of the tree is separated by space.  \n",
    "\n",
    "Output format:\n",
    "The updated tree is printed level wise. Each level is printed in a new line. Please refer to sample output 1 for more details. \n",
    "\n",
    "Constraints:\n",
    "Time Limit: 1 sec\n",
    "\n",
    "Sample Input 1:\n",
    "10 3 20 30 40 2 40 50 0 0 0 0 \n",
    "Sample Output 1:\n",
    "0 \n",
    "1 1 1 \n",
    "2 2"
   ]
  },
  {
   "cell_type": "code",
   "execution_count": 29,
   "metadata": {},
   "outputs": [],
   "source": [
    "def replacewithDepth(root, level):\n",
    "    if root is None:\n",
    "        return \n",
    "    \n",
    "    for child in root.children:\n",
    "        replacewithDepth(child, level+1)\n",
    "    root.data = level"
   ]
  },
  {
   "cell_type": "code",
   "execution_count": 30,
   "metadata": {},
   "outputs": [
    {
     "name": "stdout",
     "output_type": "stream",
     "text": [
      "10 3 20 30 40 2 40 50 0 0 0 0 \n",
      "0:1,1,1\n",
      "1:2,2\n",
      "1:\n",
      "1:\n",
      "2:\n",
      "2:\n"
     ]
    }
   ],
   "source": [
    "arr = list(int(x) for x in input().strip().split(' '))\n",
    "tree = createTree_LevelWise(arr)\n",
    "replacewithDepth(tree, 0)\n",
    "printTree_LevelWise(tree)"
   ]
  }
 ],
 "metadata": {
  "kernelspec": {
   "display_name": "Python 3",
   "language": "python",
   "name": "python3"
  },
  "language_info": {
   "codemirror_mode": {
    "name": "ipython",
    "version": 3
   },
   "file_extension": ".py",
   "mimetype": "text/x-python",
   "name": "python",
   "nbconvert_exporter": "python",
   "pygments_lexer": "ipython3",
   "version": "3.7.2"
  }
 },
 "nbformat": 4,
 "nbformat_minor": 4
}
