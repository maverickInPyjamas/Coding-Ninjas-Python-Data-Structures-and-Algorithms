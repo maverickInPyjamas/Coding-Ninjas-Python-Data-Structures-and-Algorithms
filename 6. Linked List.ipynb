{
 "cells": [
  {
   "cell_type": "markdown",
   "metadata": {},
   "source": [
    "# This contains :-\n",
    "\n",
    "\n",
    "1. __NOTE : run this cell__ A linked list Node Class \n",
    "2. __NOTE : run this cell__ A Linked List Class  \n",
    "3. Length of LL\n",
    "4. Print ith Node\n",
    "5. Delete Node\n",
    "6. Length of LL (recursive)\n",
    "7. Find a Node in a LL\n",
    "8. Append Last N to First\n",
    "9. Eliminate duplicates from a LL\n",
    "10. Print reverse LL\n",
    "11. palindrome LL\n",
    "12. Reverse LL (recursive)\n",
    "13. reverse LL (iterative)\n",
    "14. midpoint of LL\n",
    "15. Merge two sorted LL\n",
    "16. Merge Sort\n",
    "17. Find a node in LL\n",
    "18. Even after odd LinkedList\n",
    "19. Delete every N nodes\n",
    "20. Swap two Nodes of LL\n",
    "21. kReverse\n",
    "22. bubble sort (iterative) LL"
   ]
  },
  {
   "cell_type": "markdown",
   "metadata": {},
   "source": [
    "### A Linked List Node class"
   ]
  },
  {
   "cell_type": "code",
   "execution_count": 1,
   "metadata": {},
   "outputs": [],
   "source": [
    "class LinkedListNode():\n",
    "    def __init__(self, data):\n",
    "        self.data = data\n",
    "        self.next = None"
   ]
  },
  {
   "cell_type": "markdown",
   "metadata": {},
   "source": [
    "### A Linked List class"
   ]
  },
  {
   "cell_type": "code",
   "execution_count": 9,
   "metadata": {},
   "outputs": [],
   "source": [
    "class LinkedList():\n",
    "    \n",
    "    def __init__(self):\n",
    "        pass\n",
    "        \n",
    "    def createLL(self):\n",
    "        \n",
    "        arr = [int(i) for i in input().strip().split()]\n",
    "        \n",
    "        head = None\n",
    "        tail = None\n",
    "        \n",
    "        for ele in arr:\n",
    "            if head is None and tail is None:\n",
    "                temp = LinkedListNode(ele)\n",
    "                head, tail = temp, temp\n",
    "            elif ele is not -1 :\n",
    "                temp = LinkedListNode(ele)\n",
    "                tail.next = temp\n",
    "                tail = temp\n",
    "            else :\n",
    "                tail.next = None\n",
    "        return head\n",
    "        \n",
    "    def printLL(self, head):\n",
    "        if head is None:\n",
    "            print(-1)\n",
    "        while head is not None:\n",
    "            print(head.data, end = \" \")\n",
    "            head = head.next"
   ]
  },
  {
   "cell_type": "code",
   "execution_count": 3,
   "metadata": {},
   "outputs": [
    {
     "name": "stdout",
     "output_type": "stream",
     "text": [
      "1 2 3 4 5 -1\n",
      "1 2 3 4 5 "
     ]
    }
   ],
   "source": [
    "ll = LinkedList()\n",
    "head = ll.createLL()\n",
    "ll.printLL(head)"
   ]
  },
  {
   "cell_type": "markdown",
   "metadata": {},
   "source": [
    "# Length of LL"
   ]
  },
  {
   "cell_type": "raw",
   "metadata": {},
   "source": [
    "For a given singly linked list of integers, find and return its length. Do it using an iterative method.\n",
    "\n",
    "Input format :\n",
    "The first line contains an Integer 't' which denotes the number of test cases or queries to be run. Then the test cases follow.\n",
    "First and the only line of each test case or query contains elements of the singly linked list separated by a single space. \n",
    "\n",
    "Remember/Consider :\n",
    "While specifying the list elements for input, -1 indicates the end of the singly linked list and hence, would never be a list element.\n",
    "\n",
    "Output format :\n",
    "For each test case, print the length of the linked list.\n",
    "Output for every test case will be printed in a separate line.\n",
    "\n",
    "Constraints :\n",
    "1 <= t <= 10^2\n",
    "0 <= N <= 10^5\n",
    "\n",
    "Time Limit: 1 sec\n",
    "\n",
    "Sample Input 1 :\n",
    "1\n",
    "3 4 5 2 6 1 9 -1\n",
    "Sample Output 1 :\n",
    "7\n",
    "\n",
    "Sample Input 2 :\n",
    "2\n",
    "10 76 39 -3 2 9 -23 9 -1\n",
    "-1\n",
    "Sample Output 2 :\n",
    "8\n",
    "0"
   ]
  },
  {
   "cell_type": "code",
   "execution_count": 4,
   "metadata": {},
   "outputs": [
    {
     "name": "stdout",
     "output_type": "stream",
     "text": [
      "1 2 3 4 5 6 -1\n",
      "6\n"
     ]
    }
   ],
   "source": [
    "def lengthLL(head):\n",
    "    ans = 0\n",
    "    while head is not None:\n",
    "        head = head.next\n",
    "        ans+=1\n",
    "    return ans\n",
    "\n",
    "head1 = ll.createLL()\n",
    "print(lengthLL(head1))"
   ]
  },
  {
   "cell_type": "markdown",
   "metadata": {},
   "source": [
    "# Print ith Node"
   ]
  },
  {
   "cell_type": "raw",
   "metadata": {},
   "source": [
    "For a given a singly linked list of integers and a position 'i', print the node data at the 'i-th' position.\n",
    "\n",
    "Note :\n",
    "Assume that the Indexing for the singly linked list always starts from 0.\n",
    "If the given position 'i',  is greater than the length of the given singly linked list, then don't print anything.\n",
    "\n",
    "Input format :\n",
    "The first line contains an Integer 't' which denotes the number of test cases or queries to be run. Then the test cases follow.\n",
    "The first line of each test case or query contains the elements of the singly linked list separated by a single space.\n",
    "The second line contains the value of 'i'. It denotes the position in the given singly linked list.\n",
    "\n",
    "Remember/Consider :\n",
    "While specifying the list elements for input, -1 indicates the end of the singly linked list and hence, would never be a list element.\n",
    "\n",
    "Output format :\n",
    "For each test case, print the node data at the 'i-th' position of the linked list(if exists).\n",
    "Output for every test case will be printed in a seperate line.\n",
    "\n",
    "Constraints :\n",
    "1 <= t <= 10^2\n",
    "0 <= N <= 10^5\n",
    "i  >= 0\n",
    "\n",
    "Time Limit: 1sec\n",
    "\n",
    "Sample Input 1 :\n",
    "1\n",
    "3 4 5 2 6 1 9 -1\n",
    "3\n",
    "Sample Output 1 :\n",
    "2\n",
    "\n",
    "Sample Input 2 :\n",
    "2\n",
    "3 4 5 2 6 1 9 -1\n",
    "0\n",
    "9 8 4 0 7 8 -1\n",
    "3\n",
    "Sample Output 2 :\n",
    "3\n",
    "0"
   ]
  },
  {
   "cell_type": "code",
   "execution_count": 33,
   "metadata": {},
   "outputs": [
    {
     "name": "stdout",
     "output_type": "stream",
     "text": [
      "2\n",
      "3 4 5 2 6 1 9 -1\n",
      "0\n",
      "3\n",
      "None\n",
      "9 8 4 0 7 8 -1\n",
      "3\n",
      "0\n",
      "None\n"
     ]
    }
   ],
   "source": [
    "def print_i_node(head, pos):\n",
    "    ind = 0\n",
    "    while ind < pos :\n",
    "        head = head.next\n",
    "        ind+=1\n",
    "    print(head.data)\n",
    "    \n",
    "t = int(input())\n",
    "\n",
    "for i in range(t):\n",
    "    head2 = ll.createLL()\n",
    "    pos = int(input())\n",
    "    print(print_i_node(head2, pos))"
   ]
  },
  {
   "cell_type": "markdown",
   "metadata": {},
   "source": [
    "# Delete Node"
   ]
  },
  {
   "cell_type": "raw",
   "metadata": {},
   "source": [
    "You have been given a linked list of integers. Your task is to write a function that deletes a node from a given position, 'pos'.\n",
    "\n",
    "Note :\n",
    "Assume that the Indexing for the linked list always starts from 0.\n",
    "If the position is greater than or equal to the length of the linked list, you should return the same linked list without any change.\n",
    "\n",
    "Input format :\n",
    "The first line contains an Integer 't' which denotes the number of test cases or queries to be run. Then the test cases follow.\n",
    "The first line of each test case or query contains the elements of the linked list separated by a single space. \n",
    "The second line of each test case contains the integer value of 'pos'. It denotes the position in the linked list from where the node has to be deleted.\n",
    "\n",
    "Remember/Consider :\n",
    "While specifying the list elements for input, -1 indicates the end of the singly linked list and hence, would never be a list element\n",
    "\n",
    "Output format :\n",
    "For each test case/query, print the resulting linked list of integers in a row, separated by a single space.\n",
    "Output for every test case will be printed in a separate line.\n",
    "You don't need to print explicitly, it has been taken care of.\n",
    "\n",
    "Constraints :\n",
    "1 <= t <= 10^2\n",
    "0 <= N <= 10^5\n",
    "pos >= 0\n",
    "\n",
    "Time Limit: 1sec\n",
    "\n",
    "Where 'N' is the size of the singly linked list.\n",
    "\n",
    "Sample Input 1 :\n",
    "1 \n",
    "3 4 5 2 6 1 9 -1\n",
    "3\n",
    "Sample Output 1 :\n",
    "3 4 5 6 1 9\n",
    "\n",
    "Sample Input 2 :\n",
    "2\n",
    "3 4 5 2 6 1 9 -1\n",
    "0\n",
    "10 20 30 40 50 60 -1\n",
    "7\n",
    "Sample Output 2 :\n",
    "4 5 2 6 1 9\n",
    "10 20 30 40 50 60"
   ]
  },
  {
   "cell_type": "code",
   "execution_count": 35,
   "metadata": {},
   "outputs": [
    {
     "name": "stdout",
     "output_type": "stream",
     "text": [
      "2\n",
      "3 4 5 2 6 1 9 -1\n",
      "0\n",
      "4 5 2 6 1 9 10 20 30 40 50 60 -1\n",
      "7\n",
      "10 20 30 40 50 60 "
     ]
    }
   ],
   "source": [
    "\n",
    "def delete_node(head, pos):\n",
    "    if head is None:\n",
    "        return\n",
    "    if pos is 0:\n",
    "        return head.next\n",
    "    \n",
    "    head.next = delete_node(head.next, pos-1)\n",
    "    return head\n",
    "\n",
    "\n",
    "t = int(input())\n",
    "\n",
    "for i in range(t):\n",
    "    head2 = ll.createLL()\n",
    "    pos = int(input())\n",
    "    head2 = delete_node(head2, pos)\n",
    "    ll.printLL(head2)"
   ]
  },
  {
   "cell_type": "markdown",
   "metadata": {},
   "source": [
    "# Length of a Linked List (recursive)"
   ]
  },
  {
   "cell_type": "raw",
   "metadata": {},
   "source": [
    "Given a linked list, find and return the length of the given linked list recursively.\n",
    "\n",
    "Input format :\n",
    "The first line contains an Integer 't' which denotes the number of test cases or queries to be run. Then the test cases follow.\n",
    "First and the only line of each test case or query contains elements of the singly linked list separated by a single space. \n",
    "\n",
    "Remember/Consider :\n",
    "While specifying the list elements for input, -1 indicates the end of the singly linked list and hence, would never be a list element.\n",
    "\n",
    "Output format :\n",
    "For each test case, print the length of the linked list.\n",
    "Output for every test case will be printed in a separate line.\n",
    " \n",
    "Constraints :\n",
    "1 <= t <= 20\n",
    "0 <= N <= 10^4\n",
    "\n",
    "Time Limit: 1 sec\n",
    "\n",
    "Sample Input 1:\n",
    "1 \n",
    "3 4 5 2 6 1 9 -1\n",
    "Sample Output 1:\n",
    "7"
   ]
  },
  {
   "cell_type": "code",
   "execution_count": 37,
   "metadata": {},
   "outputs": [
    {
     "name": "stdout",
     "output_type": "stream",
     "text": [
      "1\n",
      "3 4 5 2 6 1 9 -1\n",
      "7\n"
     ]
    }
   ],
   "source": [
    "def lengthLL_rec(head):\n",
    "    if head is None:\n",
    "        return 0\n",
    "    return 1 + lengthLL_rec(head.next)\n",
    "\n",
    "t = int(input())\n",
    "\n",
    "for i in range(t):\n",
    "    head2 = ll.createLL()\n",
    "    print(lengthLL_rec(head2))"
   ]
  },
  {
   "cell_type": "markdown",
   "metadata": {},
   "source": [
    "# Find a Node in a LL"
   ]
  },
  {
   "cell_type": "raw",
   "metadata": {},
   "source": [
    "You have been given a singly linked list of integers. Write a function that returns the index/position of an integer data denoted by 'N' (if it exists). Return -1 otherwise.\n",
    "\n",
    "Note :\n",
    "Assume that the Indexing for the singly linked list always starts from 0.\n",
    "\n",
    "Input format :\n",
    "The first line contains an Integer 't' which denotes the number of test cases or queries to be run. Then the test cases follow.\n",
    "The first line of each test case or query contains the elements of the singly linked list separated by a single space. \n",
    "The second line contains the integer value 'N'. It denotes the data to be searched in the given singly linked list.\n",
    "\n",
    "Remember/Consider :\n",
    "While specifying the list elements for input, -1 indicates the end of the singly linked list and hence, would never be a list element.\n",
    "\n",
    "Output format :\n",
    "For each test case/query, return the index/position of 'N' in the singly linked list. Return -1, otherwise.\n",
    "Output for every test case will be printed in a separate line.\n",
    "\n",
    "Constraints :\n",
    "1 <= t <= 10^2\n",
    "0 <= M <= 10^5\n",
    "Where 'M' is the size of the singly linked list.\n",
    "\n",
    "Time Limit: 1 sec\n",
    "\n",
    "Sample Input 1 :\n",
    "2\n",
    "3 4 5 2 6 1 9 -1\n",
    "5\n",
    "10 20 30 40 50 60 70 -1\n",
    "6\n",
    "Sample Output 1 :\n",
    "2\n",
    "-1\n",
    "\n",
    "Sample Input 2 :\n",
    "1\n",
    "3 4 5 2 6 1 9 -1\n",
    "6\n",
    "Sample Output 2 :\n",
    "4\n",
    "\n",
    "Explanation for Sample Input 2 :\n",
    "For the given singly linked list, considering the indices starting from 0, progressing in a left to right manner with a jump of 1, then the N = 6 appears at position 4."
   ]
  },
  {
   "cell_type": "code",
   "execution_count": 38,
   "metadata": {},
   "outputs": [
    {
     "name": "stdout",
     "output_type": "stream",
     "text": [
      "1\n",
      "3 4 5 2 6 1 9 -1\n",
      "6\n",
      "4\n"
     ]
    }
   ],
   "source": [
    "def find_node(head, data):\n",
    "    if head is None :\n",
    "        return -1\n",
    "    if head.data is data :\n",
    "        return 0\n",
    "    ans = find_node(head.next, data)\n",
    "    if ans is not -1:\n",
    "        return 1 + ans\n",
    "    else :\n",
    "        return ans\n",
    "    \n",
    "t = int(input())\n",
    "\n",
    "for i in range(t):\n",
    "    head2 = ll.createLL()\n",
    "    data = int(input())\n",
    "    print(find_node(head2, data))"
   ]
  },
  {
   "cell_type": "markdown",
   "metadata": {},
   "source": [
    "# Append Last N to first"
   ]
  },
  {
   "cell_type": "raw",
   "metadata": {},
   "source": [
    "You have been given a singly linked list of integers along with an integer 'N'. Write a function to append the last 'N' nodes towards the front of the singly linked list and returns the new head to the list.\n",
    "\n",
    "Input format :\n",
    "The first line contains an Integer 't' which denotes the number of test cases or queries to be run. Then the test cases follow.\n",
    "The first line of each test case or query contains the elements of the singly linked list separated by a single space. \n",
    "The second line contains the integer value 'N'. It denotes the number of nodes to be moved from last to the front of the singly linked list.\n",
    "\n",
    "Remember/Consider :\n",
    "While specifying the list elements for input, -1 indicates the end of the singly linked list and hence, would never be a list element.\n",
    "\n",
    "Output format :\n",
    "For each test case/query, print the resulting singly linked list of integers in a row, separated by a single space.\n",
    "Output for every test case will be printed in a seperate line.\n",
    "\n",
    "Constraints :\n",
    "1 <= t <= 10^2\n",
    "0 <= M <= 10^5\n",
    "0 <= N < M\n",
    "\n",
    "Time Limit: 1sec\n",
    "Where 'M' is the size of the singly linked list.\n",
    "\n",
    "Sample Input 1 :\n",
    "2\n",
    "1 2 3 4 5 -1\n",
    "3\n",
    "10 20 30 40 50 60 -1\n",
    "5\n",
    "Sample Output 1 :\n",
    "3 4 5 1 2\n",
    "20 30 40 50 60 10\n",
    "\n",
    "Sample Input 2 :\n",
    "1\n",
    "10 6 77 90 61 67 100  -1\n",
    "4\n",
    "Sample Output 2 :\n",
    "90 61 67 100 10 6 77 \n",
    "\n",
    "Explanation to Sample Input 2 :\n",
    "We have been required to move the last 4 nodes to the front of the list. Here, \"90->61->67->100\" is the list which represents the last 4 nodes. When we move this list to the front then the remaining part of the initial list which is, \"10->6->77\" is attached after 100. Hence, the new list formed with an updated head pointing to 90."
   ]
  },
  {
   "cell_type": "code",
   "execution_count": 8,
   "metadata": {},
   "outputs": [
    {
     "name": "stdout",
     "output_type": "stream",
     "text": [
      "1\n",
      "10 6 77 90 61 67 100  -1\n",
      "4\n",
      "90 61 67 100 10 6 77 "
     ]
    }
   ],
   "source": [
    "def appendLastNToFirst(head, n):\n",
    "    if head == None or n<0:\n",
    "        return None\n",
    "    curr = head\n",
    "    temp = head\n",
    "    i=0\n",
    "    while i!=lengthLL(head)-n:\n",
    "        prev = curr\n",
    "        curr = curr.next\n",
    "        i+=1\n",
    "    prev.next = None\n",
    "    head = curr\n",
    "    curr = head\n",
    "    while curr.next is not None:\n",
    "        curr = curr.next\n",
    "    curr.next = temp\n",
    "    return head\n",
    "\n",
    "t = int(input())\n",
    "\n",
    "for i in range(t):\n",
    "    head2 = ll.createLL()\n",
    "    n = int(input())\n",
    "    head2 = appendLastNToFirst(head2, n)\n",
    "    ll.printLL(head2)"
   ]
  },
  {
   "cell_type": "markdown",
   "metadata": {},
   "source": [
    "# Eliminate duplicates from LL"
   ]
  },
  {
   "cell_type": "raw",
   "metadata": {},
   "source": [
    "You have been given a singly linked list of integers where the elements are sorted in ascending order. Write a function that removes the consecutive duplicate values such that the given list only contains unique elements and returns the head to the updated list.\n",
    "\n",
    "Input format :\n",
    "The first line contains an Integer 't' which denotes the number of test cases or queries to be run. Then the test cases follow.\n",
    "The first and the only line of each test case or query contains the elements(in ascending order) of the singly linked list separated by a single space.\n",
    "\n",
    "Remember/Consider :\n",
    "While specifying the list elements for input, -1 indicates the end of the singly linked list and hence, would never be a list element.\n",
    "\n",
    "Output format :\n",
    "For each test case/query, print the resulting singly linked list of integers in a row, separated by a single space.\n",
    "Output for every test case will be printed in a seperate line.\n",
    "\n",
    "Constraints :\n",
    "1 <= t <= 10^2\n",
    "0 <= M <= 10^5\n",
    "\n",
    "Time Limit: 1sec\n",
    "Where 'M' is the size of the singly linked list.\n",
    "\n",
    "Sample Input 1 :\n",
    "1\n",
    "1 2 3 3 4 3 4 5 4 5 5 7 -1\n",
    "Sample Output 1 :\n",
    "1 2 3 4 3 4 5 4 5 7 \n",
    "\n",
    "Sample Input 2 :\n",
    "2\n",
    "10 20 30 40 50 -1\n",
    "10 10 10 10 -1\n",
    "Sample Output 2 :\n",
    "10 20 30 40 50\n",
    "10"
   ]
  },
  {
   "cell_type": "code",
   "execution_count": 10,
   "metadata": {},
   "outputs": [
    {
     "name": "stdout",
     "output_type": "stream",
     "text": [
      "1\n",
      "1 2 2 3 3 3 4 5 6 6 7 7 7 -1\n",
      "1 2 3 4 5 6 7 "
     ]
    }
   ],
   "source": [
    "\n",
    "def eliminate_duplicates(head):\n",
    "    if head is None or head.next is None:\n",
    "        return head\n",
    "    temp = head.next\n",
    "    \n",
    "    while temp is not None and temp.data is head.data :\n",
    "        temp = temp.next\n",
    "        \n",
    "    head.next = eliminate_duplicates(temp)\n",
    "    return head\n",
    "\n",
    "t = int(input())\n",
    "# 1 2 2 3 3 3 4 5 6 6 7 7 7 -1\n",
    "\n",
    "for i in range(t):\n",
    "    head2 = ll.createLL()\n",
    "    head2 = eliminate_duplicates(head2)\n",
    "    ll.printLL(head2)"
   ]
  },
  {
   "cell_type": "markdown",
   "metadata": {},
   "source": [
    "# Print Reverse LinkedList"
   ]
  },
  {
   "cell_type": "raw",
   "metadata": {},
   "source": [
    "You have been given a singly linked list of integers. Write a function to print the list in a reverse order.\n",
    "To explain it further, you need to start printing the data from the tail and move towards the head of the list, printing the head data at the end.\n",
    "\n",
    "Note :\n",
    "You can’t change any of the pointers in the linked list, just print it in the reverse order.\n",
    "\n",
    "Input format :\n",
    "The first line contains an Integer 't' which denotes the number of test cases or queries to be run. Then the test cases follow.\n",
    "The first and the only line of each test case or query contains the elements of the singly linked list separated by a single space.\n",
    "\n",
    "Remember/Constraints :\n",
    "While specifying the list elements for input, -1 indicates the end of the singly linked list and hence, would never be a list element.\n",
    "\n",
    "Output format :\n",
    "For each test case, print the singly linked list of integers in a reverse fashion, in a row, separated by a single space.\n",
    "Output for every test case will be printed in a seperate line.\n",
    "\n",
    "Constraints :\n",
    "1 <= t <= 10^2\n",
    "0 <= M <= 10^3\n",
    "\n",
    "Time Limit: 1sec\n",
    "Where 'M' is the size of the singly linked list.\n",
    "\n",
    "Sample Input 1 :\n",
    "1\n",
    "1 2 3 4 5 -1\n",
    "Sample Output 1 :\n",
    "5 4 3 2 1\n",
    "\n",
    "Sample Input 2 :\n",
    "2\n",
    "1 2 3 -1\n",
    "10 20 30 40 50 -1\n",
    "Sample Output 2 :\n",
    "3 2 1\n",
    "50 40 30 20 10"
   ]
  },
  {
   "cell_type": "code",
   "execution_count": 11,
   "metadata": {},
   "outputs": [
    {
     "name": "stdout",
     "output_type": "stream",
     "text": [
      "2\n",
      "1 2 3 -1\n",
      "3 2 1 10 20 30 40 50 -1\n",
      "50 40 30 20 10 "
     ]
    }
   ],
   "source": [
    "def printLL_reverse(head):\n",
    "    if head is None:\n",
    "        return \n",
    "    printLL_reverse(head.next)\n",
    "    print(head.data, end= \" \")\n",
    "    \n",
    "t = int(input())\n",
    "\n",
    "for i in range(t):\n",
    "    head2 = ll.createLL()\n",
    "    printLL_reverse(head2)"
   ]
  },
  {
   "cell_type": "markdown",
   "metadata": {},
   "source": [
    "# Palindrome Linked List"
   ]
  },
  {
   "cell_type": "code",
   "execution_count": 16,
   "metadata": {},
   "outputs": [
    {
     "name": "stdout",
     "output_type": "stream",
     "text": [
      "1\n",
      "0 2 3 2 5 -1\n",
      "0 2 3 2 5\n",
      "false\n"
     ]
    }
   ],
   "source": [
    "def check_palindrome_ll(head):\n",
    "    arr = []\n",
    "    while head is not None:\n",
    "        arr.append(head.data)\n",
    "        head = head.next\n",
    "    \n",
    "#     print(*arr)\n",
    "    si = 0\n",
    "    ei = len(arr)-1\n",
    "    \n",
    "    while ei > si:\n",
    "        if arr[si] is not arr[ei]:\n",
    "            return False\n",
    "        si+=1\n",
    "        ei-=1\n",
    "    return True\n",
    "\n",
    "\n",
    "t = int(input())\n",
    "\n",
    "for i in range(t):\n",
    "    head2 = ll.createLL()\n",
    "    if check_palindrome_ll(head2):\n",
    "        print(\"true\")\n",
    "    else:\n",
    "        print(\"false\")"
   ]
  },
  {
   "cell_type": "markdown",
   "metadata": {},
   "source": [
    "# Reverse LL"
   ]
  },
  {
   "cell_type": "raw",
   "metadata": {},
   "source": [
    "Given a singly linked list of integers, reverse it using recursion and return the head to the modified list.\n",
    "Note :\n",
    "No need to print the list, it has already been taken care. Only return the new head to the list.\n",
    "\n",
    "Input format :\n",
    "The first line contains an Integer 't' which denotes the number of test cases or queries to be run. Then the test cases follow.\n",
    "The first and the only line of each test case or query contains the elements of the singly linked list separated by a single space.\n",
    "\n",
    "Remember/Consider :\n",
    "While specifying the list elements for input, -1 indicates the end of the singly linked list and hence, would never be a list element\n",
    "\n",
    "Output format :\n",
    "For each test case/query, print the elements of the updated singly linked list.\n",
    "Output for every test case will be printed in a seperate line.\n",
    "\n",
    "Constraints :\n",
    "1 <= t <= 10^2\n",
    "0 <= M <= 10^4\n",
    "Where M is the size of the singly linked list.\n",
    "\n",
    "Time Limit: 1sec\n",
    "\n",
    "Sample Input 1 :\n",
    "1\n",
    "1 2 3 4 5 6 7 8 -1\n",
    "Sample Output 1 :\n",
    "8 7 6 5 4 3 2 1\n",
    "\n",
    "Sample Input 2 :\n",
    "2\n",
    "10 -1\n",
    "10 20 30 40 50 -1\n",
    "Sample Output 2 :\n",
    "10 \n",
    "50 40 30 20 10 "
   ]
  },
  {
   "cell_type": "code",
   "execution_count": 5,
   "metadata": {},
   "outputs": [
    {
     "name": "stdout",
     "output_type": "stream",
     "text": [
      "1 2 3 4 5 -1\n",
      "5 4 3 2 1 "
     ]
    }
   ],
   "source": [
    "def reverseLL_rec(head):\n",
    "    if head is None or head.next is None:\n",
    "        return head\n",
    "    \n",
    "    newHead = reverseLL_rec(head.next)\n",
    "    head.next.next = head\n",
    "    head.next = None\n",
    "    return newHead\n",
    "\n",
    "head = ll.createLL()\n",
    "newHead = reverseLL_rec(head)\n",
    "ll.printLL(newHead)"
   ]
  },
  {
   "cell_type": "markdown",
   "metadata": {},
   "source": [
    "# Reverse LL (iterative)"
   ]
  },
  {
   "cell_type": "raw",
   "metadata": {},
   "source": [
    "Given a singly linked list of integers, reverse it iteratively and return the head to the modified list.\n",
    "\n",
    "Note :\n",
    "No need to print the list, it has already been taken care. Only return the new head to the list.\n",
    "\n",
    "Input format :\n",
    "The first line contains an Integer 't' which denotes the number of test cases or queries to be run. Then the test cases follow.\n",
    "The first and the only line of each test case or query contains the elements of the singly linked list separated by a single space.\n",
    "\n",
    "Remember/Consider :\n",
    "While specifying the list elements for input, -1 indicates the end of the singly linked list and hence, would never be a list element\n",
    "\n",
    "Output format :\n",
    "For each test case/query, print the elements of the updated singly linked list.\n",
    "Output for every test case will be printed in a separate line.\n",
    "\n",
    "Constraints :\n",
    "1 <= t <= 10^2\n",
    "0 <= N <= 10^4\n",
    "Where N is the size of the singly linked list.\n",
    "\n",
    "Time Limit: 1 sec\n",
    "\n",
    "Sample Input 1 :\n",
    "1\n",
    "1 2 3 4 5 6 7 8 -1\n",
    "Sample Output 1 :\n",
    "8 7 6 5 4 3 2 1\n",
    "\n",
    "Sample Input 2 :\n",
    "2\n",
    "10 -1\n",
    "10 20 30 40 50 -1\n",
    "Sample Output 2 :\n",
    "10 \n",
    "50 40 30 20 10 "
   ]
  },
  {
   "cell_type": "code",
   "execution_count": 18,
   "metadata": {},
   "outputs": [
    {
     "name": "stdout",
     "output_type": "stream",
     "text": [
      "1 2 3 4 5 6 -1\n",
      "6 5 4 3 2 1 "
     ]
    }
   ],
   "source": [
    "def reverseIterative(head):\n",
    "    if head is None:\n",
    "        return head\n",
    "    curr = head\n",
    "    prev = None\n",
    "    while curr is not None:\n",
    "        temp = curr.next\n",
    "        curr.next = prev\n",
    "        prev = curr\n",
    "        curr = temp\n",
    "    return prev\n",
    "\n",
    "head = ll.createLL()\n",
    "newHead = reverseIterative(head)\n",
    "ll.printLL(newHead)"
   ]
  },
  {
   "cell_type": "markdown",
   "metadata": {},
   "source": [
    "# Midpoint of Linked List"
   ]
  },
  {
   "cell_type": "raw",
   "metadata": {},
   "source": [
    "For a given singly linked list of integers, find and return the node present at the middle of the list.\n",
    "\n",
    "Note :\n",
    "If the length of the singly linked list is even, then return the first middle node.\n",
    "Example: \n",
    "Consider, 10 -> 20 -> 30 -> 40 is the given list, then the nodes present at the middle with respective data values are, 20 and 30. We return the first node with data 20.\n",
    "\n",
    "Input format :\n",
    "The first line contains an Integer 't' which denotes the number of test cases or queries to be run. Then the test cases follow.\n",
    "The first and the only line of each test case or query contains the elements of the singly linked list separated by a single space. \n",
    "Remember/Consider :\n",
    "While specifying the list elements for input, -1 indicates the end of the singly linked list and hence, would never be a list element\n",
    " \n",
    "Output Format :\n",
    "For each test case/query, print the data value of the node at the middle of the given list.\n",
    "Output for every test case will be printed in a seperate line.\n",
    "\n",
    "Constraints :\n",
    "1 <= t <= 10^2\n",
    "0 <= M <= 10^5 \n",
    "Where M is the size of the singly linked list.\n",
    "\n",
    "Time Limit: 1sec\n",
    "\n",
    "Sample Input 1 :\n",
    "1\n",
    "1 2 3 4 5 -1\n",
    "Sample Output 1 :\n",
    "3\n",
    "\n",
    "Sample Input 2 :\n",
    "2 \n",
    "-1\n",
    "1 2 3 4 -1\n",
    "Sample Output 2 :\n",
    "2"
   ]
  },
  {
   "cell_type": "code",
   "execution_count": 5,
   "metadata": {},
   "outputs": [
    {
     "name": "stdout",
     "output_type": "stream",
     "text": [
      "1\n",
      "1 2 3 4 5 -1\n",
      "3\n"
     ]
    }
   ],
   "source": [
    "def midpointLL(head):\n",
    "    if head is None :\n",
    "        return head\n",
    "    \n",
    "    fast, slow = head, head\n",
    "    while fast.next is not None and fast.next.next is not None:\n",
    "        fast = fast.next.next\n",
    "        slow = slow.next\n",
    "    \n",
    "    return slow\n",
    "\n",
    "t = int(input())\n",
    "\n",
    "for _ in range(t):\n",
    "    head = ll.createLL()\n",
    "    mid = midpointLL(head)\n",
    "    print(mid.data)\n",
    "# print(temp.data)"
   ]
  },
  {
   "cell_type": "markdown",
   "metadata": {},
   "source": [
    "# Merge two sorted LL"
   ]
  },
  {
   "cell_type": "raw",
   "metadata": {},
   "source": [
    "You have been given two sorted(in ascending order) singly linked lists of integers.\n",
    "Write a function to merge them in such a way that the resulting singly linked list is also sorted(in ascending order) and return the new head to the list.\n",
    "\n",
    "Note :\n",
    "Try solving this in O(1) auxiliary space.\n",
    "No need to print the list, it has already been taken care.\n",
    "\n",
    "Input format :\n",
    "The first line contains an Integer 't' which denotes the number of test cases or queries to be run. Then the test cases follow.\n",
    "The first line of each test case or query contains the elements of the first sorted singly linked list separated by a single space. \n",
    "The second line of the input contains the elements of the second sorted singly linked list separated by a single space. \n",
    "Remember/Consider :\n",
    "While specifying the list elements for input, -1 indicates the end of the singly linked list and hence, would never be a list element\n",
    "\n",
    "Output :\n",
    "For each test case/query, print the resulting sorted singly linked list, separated by a single space.\n",
    "Output for every test case will be printed in a seperate line.\n",
    "\n",
    "Constraints :\n",
    "1 <= t = 10^2\n",
    "0 <= N <= 10 ^ 4\n",
    "0 <= M <= 10 ^ 4\n",
    "Where N and M denote the sizes of the singly linked lists. \n",
    "\n",
    "Time Limit: 1sec\n",
    "\n",
    "Sample Input 1 :\n",
    "1\n",
    "2 5 8 12 -1\n",
    "3 6 9 -1\n",
    "Sample Output 1 :\n",
    "2 3 5 6 8 9 12 \n",
    "\n",
    "Sample Input 2 :\n",
    "2\n",
    "2 5 8 12 -1\n",
    "3 6 9 -1\n",
    "10 40 60 60 80 -1\n",
    "10 20 30 40 50 60 90 100 -1\n",
    "Sample Output 2 :\n",
    "2 3 5 6 8 9 12 \n",
    "10 10 20 30 40 40 50 60 60 60 80 90 100"
   ]
  },
  {
   "cell_type": "code",
   "execution_count": 6,
   "metadata": {},
   "outputs": [
    {
     "name": "stdout",
     "output_type": "stream",
     "text": [
      "1\n",
      "2 5 8 12 -1\n",
      "3 6 9 -1\n",
      "2 3 5 6 8 9 12 "
     ]
    }
   ],
   "source": [
    "def merge(head1, head2):\n",
    "    if head1 == None:\n",
    "        return head2\n",
    "    if head2==None:\n",
    "        return head1\n",
    "    \n",
    "    if head1.data < head2.data:\n",
    "        head = head1\n",
    "        head1 = head1.next\n",
    "    else:\n",
    "        head = head2\n",
    "        head2 = head2.next\n",
    "    \n",
    "    curr = head\n",
    "    \n",
    "    while head1 and head2:\n",
    "        if head1.data <= head2.data:\n",
    "            curr.next = head1\n",
    "            head1 = head1.next\n",
    "        else:\n",
    "            curr.next = head2\n",
    "            head2 = head2.next\n",
    "        curr = curr.next\n",
    "    \n",
    "    if head1 == None :\n",
    "        curr.next = head2\n",
    "    else:\n",
    "        curr.next = head1\n",
    "    return head\n",
    "\n",
    "\n",
    "t = int(input())\n",
    "\n",
    "for _ in range(t):\n",
    "    head1 = ll.createLL()\n",
    "    head2 = ll.createLL()\n",
    "    newHead = merge(head1, head2)\n",
    "    ll.printLL(newHead)"
   ]
  },
  {
   "cell_type": "markdown",
   "metadata": {},
   "source": [
    "# Merge Sort"
   ]
  },
  {
   "cell_type": "raw",
   "metadata": {},
   "source": [
    "Given a singly linked list of integers, sort it using 'Merge Sort.'\n",
    "Note :\n",
    "No need to print the list, it has already been taken care. Only return the new head to the list.\n",
    "\n",
    "Input format :\n",
    "The first line contains an Integer 't' which denotes the number of test cases or queries to be run. Then the test cases follow.\n",
    "The first and the only line of each test case or query contains the elements of the singly linked list separated by a single space.\n",
    "\n",
    "Remember/Consider :\n",
    "While specifying the list elements for input, -1 indicates the end of the singly linked list and hence, would never be a list element\n",
    "\n",
    "Output format :\n",
    "For each test case/query, print the elements of the sorted singly linked list.\n",
    "Output for every test case will be printed in a seperate line.\n",
    "\n",
    "Constraints :\n",
    "1 <= t <= 10^2\n",
    "0 <= M <= 10^5\n",
    "Where M is the size of the singly linked list.\n",
    "\n",
    "Time Limit: 1sec\n",
    "\n",
    "Sample Input 1 :\n",
    "1\n",
    "10 9 8 7 6 5 4 3 -1\n",
    "Sample Output 1 :\n",
    "3 4 5 6 7 8 9 10 \n",
    "\n",
    "Sample Input 2 :\n",
    "2\n",
    "-1\n",
    "10 -5 9 90 5 67 1 89 -1\n",
    "Sample Output 2 :\n",
    "-5 1 5 9 10 67 89 90 "
   ]
  },
  {
   "cell_type": "code",
   "execution_count": 7,
   "metadata": {},
   "outputs": [
    {
     "name": "stdout",
     "output_type": "stream",
     "text": [
      "1\n",
      "10 9 8 7 6 5 4 3 -1\n",
      "3 4 5 6 7 8 9 10 "
     ]
    }
   ],
   "source": [
    "def merge_sort_LL(head):\n",
    "    if head is None or head.next is None :\n",
    "        return head\n",
    "    mid = midpointLL(head)\n",
    "    h1 = head\n",
    "    h2 = mid.next\n",
    "    mid.next = None\n",
    "    \n",
    "    half1 = merge_sort_LL(h1)\n",
    "    half2 = merge_sort_LL(h2)\n",
    "    \n",
    "    return merge(half1, half2)\n",
    "\n",
    "t = int(input())\n",
    "\n",
    "for _ in range(t):\n",
    "    head = ll.createLL()\n",
    "    head = merge_sort_LL(head)\n",
    "    ll.printLL(head)\n",
    "    "
   ]
  },
  {
   "cell_type": "markdown",
   "metadata": {},
   "source": [
    "# Find a Node in LL (recursive)"
   ]
  },
  {
   "cell_type": "raw",
   "metadata": {},
   "source": [
    "Given a singly linked list of integers and an integer n, find and return the index for the first occurrence of 'n' in the linked list. -1 otherwise.\n",
    "Follow a recursive approach to solve this.\n",
    "\n",
    "Note :\n",
    "Assume that the Indexing for the linked list always starts from 0.\n",
    "\n",
    "Input format :\n",
    "The first line contains an Integer 't' which denotes the number of test cases or queries to be run. Then the test cases follow.\n",
    "The first line of each test case or query contains the elements of the singly linked list separated by a single space.\n",
    "The second line of input contains a single integer depicting the value of 'n'.\n",
    "\n",
    "Remember/Consider :\n",
    "While specifying the list elements for input, -1 indicates the end of the singly linked list and hence, would never be a list element\n",
    "\n",
    "Output format :\n",
    "For each test case/query, print the elements of the updated singly linked list.\n",
    "Output for every test case will be printed in a seperate line.\n",
    "\n",
    "Constraints :\n",
    "1 <= t <= 10^2\n",
    "0 <= M <= 10^5\n",
    "Where M is the size of the singly linked list.\n",
    "\n",
    "Time Limit:  1sec\n",
    "\n",
    "Sample Input 1 :\n",
    "1\n",
    "3 4 5 2 6 1 9 -1\n",
    "100\n",
    "Sample Output 1 :\n",
    "-1\n",
    "\n",
    "Sample Input 2 :\n",
    "2\n",
    "10 20010 30 400 600 -1\n",
    "20010\n",
    "100 200 300 400 9000 -34 -1\n",
    "-34\n",
    "Sample Output 2 :\n",
    "1\n",
    "5"
   ]
  },
  {
   "cell_type": "code",
   "execution_count": 8,
   "metadata": {},
   "outputs": [
    {
     "name": "stdout",
     "output_type": "stream",
     "text": [
      "1\n",
      "3 4 5 2 6 1 9 -1\n",
      "100\n",
      "-1\n"
     ]
    }
   ],
   "source": [
    "def linearSearchRecursive(head, n):\n",
    "    if head is None:\n",
    "        return -1\n",
    "    if head.data == n:\n",
    "        return 0\n",
    "    ans = linearSearchRecursive(head.next, n)\n",
    "    if ans == -1:\n",
    "        return ans\n",
    "    else:\n",
    "        return 1+ans\n",
    "    \n",
    "t = int(input())\n",
    "\n",
    "for _ in range(t):\n",
    "    head = ll.createLL()\n",
    "    data = int(input())\n",
    "    ans = linearSearchRecursive(head, data)\n",
    "    print(ans)"
   ]
  },
  {
   "cell_type": "markdown",
   "metadata": {},
   "source": [
    "# Even after Odd LinkedList"
   ]
  },
  {
   "cell_type": "raw",
   "metadata": {},
   "source": [
    "For a given singly linked list of integers, arrange the elements such that all the even numbers are placed after the odd numbers. The relative order of the odd and even terms should remain unchanged.\n",
    "\n",
    "Note :\n",
    "No need to print the list, it has already been taken care. Only return the new head to the list.\n",
    "\n",
    "Input format:\n",
    "The first line contains an Integer 't' which denotes the number of test cases or queries to be run. Then the test cases follow.\n",
    "The first line of each test case or query contains the elements of the singly linked list separated by a single space. \n",
    " \n",
    "Remember/Consider :\n",
    "While specifying the list elements for input, -1 indicates the end of the singly linked list and hence, would never be a list element\n",
    "\n",
    "Output format:\n",
    "For each test case/query, print the elements of the updated singly linked list.\n",
    "Output for every test case will be printed in a seperate line.\n",
    "\n",
    "Constraints :\n",
    "1 <= t <= 10^2\n",
    "0 <= M <= 10^5\n",
    "Where M is the size of the singly linked list.\n",
    "\n",
    "Time Limit: 1sec\n",
    "\n",
    "Sample Input 1 :\n",
    "1\n",
    "1 4 5 2 -1\n",
    "Sample Output 1 :\n",
    "1 5 4 2 \n",
    "\n",
    "Sample Input 2 :\n",
    "2\n",
    "1 11 3 6 8 0 9 -1\n",
    "10 20 30 40 -1\n",
    "Sample Output 2 :\n",
    "1 11 3 9 6 8 0\n",
    "10 20 30 40"
   ]
  },
  {
   "cell_type": "code",
   "execution_count": 5,
   "metadata": {},
   "outputs": [
    {
     "name": "stdout",
     "output_type": "stream",
     "text": [
      "2\n",
      "1 11 3 6 8 0 9 -1\n",
      "1 11 3 9 6 8 0 10 20 30 40 -1\n",
      "10 20 30 40 "
     ]
    }
   ],
   "source": [
    "\n",
    "def even_after_odd(head):\n",
    "    if head is None:\n",
    "        return head\n",
    "    \n",
    "    odd_head = None\n",
    "    odd_tail = None\n",
    "    even_head = None\n",
    "    even_tail = None\n",
    "    \n",
    "    while head is not None :\n",
    "        currData = head.data\n",
    "        \n",
    "        if currData%2 is 0:\n",
    "            if even_head is None and even_tail is None :\n",
    "                even_head, even_tail = head, head\n",
    "            else:\n",
    "                even_tail.next = head\n",
    "                even_tail = head   \n",
    "        else:\n",
    "            if odd_head is None and odd_tail is None:\n",
    "                odd_head, odd_tail = head, head\n",
    "            else:\n",
    "                odd_tail.next = head\n",
    "                odd_tail = head\n",
    "        head = head.next\n",
    "                \n",
    "    \n",
    "    if odd_head is None:\n",
    "        return even_head\n",
    "    else :\n",
    "        odd_tail.next = even_head\n",
    "    \n",
    "    if even_head is None:\n",
    "        return odd_head\n",
    "    else:\n",
    "        even_tail.next = None\n",
    "        \n",
    "    return odd_head\n",
    "    \n",
    "\n",
    "t = int(input())\n",
    "\n",
    "for _ in range(t):\n",
    "    head = ll.createLL()\n",
    "    newHead = even_after_odd(head)\n",
    "    ll.printLL(newHead)"
   ]
  },
  {
   "cell_type": "markdown",
   "metadata": {},
   "source": [
    "# Delete Every N Nodes"
   ]
  },
  {
   "cell_type": "raw",
   "metadata": {},
   "source": [
    "You have been given a singly linked list of integers along with two integers, 'M,' and 'N.' Traverse the linked list such that you retain the 'M' nodes, then delete the next 'N' nodes. Continue the same until the end of the linked list.\n",
    "To put it in other words, in the given linked list, you need to delete N nodes after every M nodes.\n",
    "\n",
    "Note :\n",
    "No need to print the list, it has already been taken care. Only return the new head to the list.\n",
    "\n",
    "Input format :\n",
    "The first line contains an Integer 't' which denotes the number of test cases or queries to be run. Then the test cases follow.\n",
    "The first line of each test case or query contains the elements of the singly linked list separated by a single space.\n",
    "The second line of input contains two integer values 'M,' and 'N,' respectively. A single space will separate them.\n",
    "\n",
    "Remember/Consider :\n",
    "While specifying the list elements for input, -1 indicates the end of the singly linked list and hence, would never be a list element\n",
    "\n",
    "Output format :\n",
    "For each test case/query, print the elements of the updated singly linked list.\n",
    "Output for every test case will be printed in a seperate line.\n",
    "\n",
    "Constraints :\n",
    "1 <= t <= 10^2\n",
    "0 <= P <= 10^5\n",
    "Where P is the size of the singly linked list.\n",
    "0 <= M <= 10^5\n",
    "0 <= N <= 10^5 \n",
    "\n",
    "Time Limit: 1sec\n",
    "\n",
    "Sample Input 1 :\n",
    "1\n",
    "1 2 3 4 5 6 7 8 -1\n",
    "2 2\n",
    "Sample Output 1 :\n",
    "1 2 5 6\n",
    "\n",
    "Sample Input 2 :\n",
    "2\n",
    "10 20 30 40 50 60 -1\n",
    "0 1\n",
    "1 2 3 4 5 6 7 8 -1\n",
    "2 3\n",
    "Sample Output 2 :\n",
    "1 2 6 7\n",
    "\n",
    "Explanation of Sample Input 2 :\n",
    "For the first query, we delete one node after every zero elements hence removing all the items of the list. Therefore, nothing got printed.\n",
    "For the second query, we delete three nodes after every two nodes, resulting in the final list, 1 -> 2 -> 6 -> 7."
   ]
  },
  {
   "cell_type": "code",
   "execution_count": 10,
   "metadata": {},
   "outputs": [
    {
     "name": "stdout",
     "output_type": "stream",
     "text": [
      "2\n",
      "10 20 30 40 50 60 -1\n",
      "0 1\n",
      "1 2 3 4 5 6 7 8 -1\n",
      "2 3\n",
      "1 2 6 7 "
     ]
    }
   ],
   "source": [
    "def skip_m_delete_n(head, m, n):\n",
    "    if head is None:\n",
    "        return head\n",
    "    if m is 0:\n",
    "        return None\n",
    "    \n",
    "    curr, prev = head, None\n",
    "    \n",
    "    while curr is not None:\n",
    "        z = 0\n",
    "        while z < m:\n",
    "            if curr is None:\n",
    "                break\n",
    "            prev = curr\n",
    "            curr = curr.next\n",
    "            z+=1\n",
    "        \n",
    "        z = 0\n",
    "        while z < n:\n",
    "            if curr is None:\n",
    "                break\n",
    "            curr = curr.next\n",
    "            z+=1\n",
    "            \n",
    "        prev.next = curr\n",
    "    prev.next = None\n",
    "    return head\n",
    "\n",
    "t = int(input())\n",
    "\n",
    "for _ in range(t):\n",
    "    head = ll.createLL()\n",
    "    m, n = [int(i) for i in input().strip().split()]\n",
    "    newHead = skip_m_delete_n(head, m, n)\n",
    "    ll.printLL(newHead)"
   ]
  },
  {
   "cell_type": "markdown",
   "metadata": {},
   "source": [
    "# Swap two Nodes of LL"
   ]
  },
  {
   "cell_type": "raw",
   "metadata": {},
   "source": [
    "You have been given a singly linked list of integers along with two integers, 'i,' and 'j.' Swap the nodes that are present at the 'i-th' and 'j-th' positions.\n",
    "\n",
    "Note :\n",
    "Remember, the nodes themselves must be swapped and not the datas.\n",
    "No need to print the list, it has already been taken care. Only return the new head to the list.\n",
    "\n",
    "Input format :\n",
    "The first line contains an Integer 't' which denotes the number of test cases or queries to be run. Then the test cases follow.\n",
    "The first line of each test case or query contains the elements of the singly linked list separated by a single space.\n",
    "The second line of input contains two integer values 'i,' and 'j,' respectively. A single space will separate them.\n",
    " \n",
    "Remember/consider :\n",
    "While specifying the list elements for input, -1 indicates the end of the singly linked list and hence, would never be a list element\n",
    "\n",
    "Output format :\n",
    "For each test case/query, print the elements of the updated singly linked list.\n",
    "Output for every test case will be printed in a seperate line.\n",
    "\n",
    "Constraints :\n",
    "1 <= t <= 10^2\n",
    "0 <= M <= 10^5\n",
    "Where M is the size of the singly linked list.\n",
    "0 <= i < M\n",
    "0 <= j < M\n",
    "\n",
    "Time Limit: 1sec\n",
    "\n",
    "Sample Input 1 :\n",
    "1\n",
    "3 4 5 2 6 1 9 -1\n",
    "3 4\n",
    "Sample Output 1 :\n",
    "3 4 5 6 2 1 9 \n",
    "\n",
    "Sample Input 2 :\n",
    "2\n",
    "10 20 30 40 -1\n",
    "1 2\n",
    "70 80 90 25 65 85 90 -1\n",
    "0 6\n",
    " Sample Output 2 :\n",
    "10 30 20 40 \n",
    "90 80 90 25 65 85 70 "
   ]
  },
  {
   "cell_type": "code",
   "execution_count": 12,
   "metadata": {},
   "outputs": [
    {
     "name": "stdout",
     "output_type": "stream",
     "text": [
      "2\n",
      "10 20 30 40 -1\n",
      "1 2\n",
      "10 30 20 40 70 80 90 25 65 85 90 -1\n",
      "0 6\n",
      "90 80 90 25 65 85 70 "
     ]
    }
   ],
   "source": [
    "def swap_nodes(head, i, j):\n",
    "    if head is None:\n",
    "        return head\n",
    "    \n",
    "    prev1, prev2 = None, None\n",
    "    curr1, curr2 = head, head\n",
    "    \n",
    "    z = 0\n",
    "    while z<i:\n",
    "        prev1 = curr1\n",
    "        curr1 = curr1.next\n",
    "        z+=1\n",
    "    \n",
    "    z = 0\n",
    "    while z<j:\n",
    "        prev2 = curr2\n",
    "        curr2 = curr2.next\n",
    "        z+=1\n",
    "        \n",
    "    if prev1 is not None:\n",
    "        prev1.next = curr2\n",
    "    else :\n",
    "        head = curr2\n",
    "        \n",
    "    if prev2 is not None:\n",
    "        prev2.next = curr1\n",
    "    else :\n",
    "        head = curr1\n",
    "        \n",
    "    curr1.next, curr2.next = curr2.next, curr1.next\n",
    "    \n",
    "    return head\n",
    "\n",
    "t = int(input())\n",
    "\n",
    "for _ in range(t):\n",
    "    head = ll.createLL()\n",
    "    i, j = [int(i) for i in input().strip().split()]\n",
    "    newHead = swap_nodes(head, i, j)\n",
    "    ll.printLL(newHead)"
   ]
  },
  {
   "cell_type": "markdown",
   "metadata": {},
   "source": [
    "# kReverse"
   ]
  },
  {
   "cell_type": "raw",
   "metadata": {},
   "source": [
    "Given a singly linked list of integers, reverse the nodes of the linked list 'k' at a time and return its modified list.\n",
    "'k' is a positive integer and is less than or equal to the length of the linked list. If the number of nodes is not a multiple of 'k,' then left-out nodes, in the end, should be reversed as well.\n",
    "\n",
    "Example :\n",
    "Given this linked list: 1 -> 2 -> 3 -> 4 -> 5\n",
    "For k = 2, you should return: 2 -> 1 -> 4 -> 3 -> 5\n",
    "For k = 3, you should return: 3 -> 2 -> 1 -> 4 -> 5\n",
    " \n",
    "Note :\n",
    "No need to print the list, it has already been taken care. Only return the new head to the list.\n",
    "\n",
    "Input format :\n",
    "The first line contains an Integer 't' which denotes the number of test cases or queries to be run. Then the test cases follow.\n",
    "The first line of each test case or query contains the elements of the singly linked list separated by a single space.\n",
    "The second line of input contains a single integer depicting the value of 'k'.\n",
    "\n",
    "Remember/Consider :\n",
    "While specifying the list elements for input, -1 indicates the end of the singly linked list and hence, would never be a \n",
    "\n",
    "list element\n",
    "Output format :\n",
    "For each test case/query, print the elements of the updated singly linked list.\n",
    "Output for every test case will be printed in a seperate line.\n",
    "\n",
    "Constraints :\n",
    "1 <= t <= 10^2\n",
    "0 <= M <= 10^5\n",
    "Where M is the size of the singly linked list.\n",
    "0 <= k <= M\n",
    "\n",
    "Time Limit:  1sec\n",
    "\n",
    "Sample Input 1 :\n",
    "1\n",
    "1 2 3 4 5 6 7 8 9 10 -1\n",
    "4\n",
    "Sample Output 1 :\n",
    "4 3 2 1 8 7 6 5 10 9\n",
    "\n",
    "Sample Input 2 :\n",
    "2\n",
    "1 2 3 4 5 -1\n",
    "0\n",
    "10 20 30 40 -1\n",
    "4\n",
    "Sample Output 2 :\n",
    "1 2 3 4 5 \n",
    "40 30 20 10 "
   ]
  },
  {
   "cell_type": "code",
   "execution_count": null,
   "metadata": {},
   "outputs": [],
   "source": []
  },
  {
   "cell_type": "markdown",
   "metadata": {},
   "source": [
    "# Bubble Sort (iterative) Linked List"
   ]
  },
  {
   "cell_type": "raw",
   "metadata": {},
   "source": [
    "Given a singly linked list of integers, sort it using 'Bubble Sort.'\n",
    "Note :\n",
    "No need to print the list, it has already been taken care. Only return the new head to the list.\n",
    "\n",
    "Input format :\n",
    "The first line contains an Integer 't' which denotes the number of test cases or queries to be run. Then the test cases follow.\n",
    "The first and the only line of each test case or query contains the elements of the singly linked list separated by a single space.\n",
    "\n",
    "Remember/Consider :\n",
    "While specifying the list elements for input, -1 indicates the end of the singly linked list and hence, would never be a list element\n",
    "\n",
    "Output format :\n",
    "For each test case/query, print the elements of the sorted singly linked list.\n",
    "Output for every test case will be printed in a seperate line.\n",
    "\n",
    "Constraints :\n",
    "1 <= t <= 10^2\n",
    "0 <= M <= 10^5\n",
    "Where M is the size of the singly linked list.\n",
    "\n",
    "Time Limit: 1sec\n",
    "\n",
    "Sample Input 1 :\n",
    "1\n",
    "10 9 8 7 6 5 4 3 -1\n",
    "Sample Output 1 :\n",
    " 3 4 5 6 7 8 9 10 \n",
    "\n",
    "Sample Output 2 :\n",
    "2\n",
    "-1\n",
    "10 -5 9 90 5 67 1 89 -1\n",
    "Sample Output 2 :\n",
    "-5 1 5 9 10 67 89 90 "
   ]
  },
  {
   "cell_type": "code",
   "execution_count": null,
   "metadata": {},
   "outputs": [],
   "source": []
  }
 ],
 "metadata": {
  "kernelspec": {
   "display_name": "Python 3",
   "language": "python",
   "name": "python3"
  },
  "language_info": {
   "codemirror_mode": {
    "name": "ipython",
    "version": 3
   },
   "file_extension": ".py",
   "mimetype": "text/x-python",
   "name": "python",
   "nbconvert_exporter": "python",
   "pygments_lexer": "ipython3",
   "version": "3.7.2"
  }
 },
 "nbformat": 4,
 "nbformat_minor": 4
}
