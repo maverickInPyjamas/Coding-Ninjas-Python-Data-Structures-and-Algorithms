{
 "cells": [
  {
   "cell_type": "markdown",
   "metadata": {},
   "source": [
    "# This Contains :-\n",
    "\n",
    "1. Ways to make a Dictionary\n",
    "2. Accessing/Looping elements in a Dictionary\n",
    "3. Adding or removing Data in a Dictionary\n",
    "4. Print all words with frequency K\n",
    "5. Maximum Frequency\n",
    "6. Pair sum to 0\n",
    "7. Extract unique Characters\n",
    "8. Longest Consecutive Sequence\n",
    "9. Pairs with difference K\n",
    "10. Longest Subset Zero Sum\n",
    "11. Making our Own HashMap\n",
    "\n",
    "Theory of a hashmaps can be found at this [link](https://drive.google.com/file/d/1umroxP9vuwk-3y4y-BY5N2t-rJr31-RY/view?usp=sharing)"
   ]
  },
  {
   "cell_type": "markdown",
   "metadata": {},
   "source": [
    "## Ways to make a Dictionary"
   ]
  },
  {
   "cell_type": "code",
   "execution_count": 2,
   "metadata": {},
   "outputs": [
    {
     "name": "stdout",
     "output_type": "stream",
     "text": [
      "{'first': 1, 'second': 2, 'third': 3}\n"
     ]
    }
   ],
   "source": [
    "a = {\"first\":1, \"second\":2, \"third\":3}\n",
    "print(a)"
   ]
  },
  {
   "cell_type": "code",
   "execution_count": 3,
   "metadata": {},
   "outputs": [
    {
     "name": "stdout",
     "output_type": "stream",
     "text": [
      "3\n"
     ]
    }
   ],
   "source": [
    "print(len(a))"
   ]
  },
  {
   "cell_type": "code",
   "execution_count": 4,
   "metadata": {},
   "outputs": [
    {
     "name": "stdout",
     "output_type": "stream",
     "text": [
      "{'first': 1, 'second': 2, 'third': 3}\n"
     ]
    }
   ],
   "source": [
    "b = a.copy()\n",
    "print(b)"
   ]
  },
  {
   "cell_type": "code",
   "execution_count": 5,
   "metadata": {},
   "outputs": [
    {
     "name": "stdout",
     "output_type": "stream",
     "text": [
      "{'fourth': 4, 'fifth': 5, 'sixth': 6}\n"
     ]
    }
   ],
   "source": [
    "c = dict([(\"fourth\",4),(\"fifth\",5),(\"sixth\",6)])\n",
    "print(c)"
   ]
  },
  {
   "cell_type": "code",
   "execution_count": 6,
   "metadata": {},
   "outputs": [
    {
     "name": "stdout",
     "output_type": "stream",
     "text": [
      "{'seventh': None, 'eight': None, '9th': None}\n"
     ]
    }
   ],
   "source": [
    "d = dict.fromkeys([\"seventh\",\"eight\",\"9th\"],None)\n",
    "print(d)"
   ]
  },
  {
   "cell_type": "code",
   "execution_count": 7,
   "metadata": {},
   "outputs": [
    {
     "name": "stdout",
     "output_type": "stream",
     "text": [
      "{'first': 1, 'second': 2, 'third': 3}\n",
      "{'first': 1, 'second': 2, 'third': 3}\n",
      "{'fourth': 4, 'fifth': 5, 'sixth': 6}\n",
      "{'seventh': None, 'eight': None, '9th': None}\n"
     ]
    }
   ],
   "source": [
    "print(a)\n",
    "print(b)\n",
    "print(c)\n",
    "print(d)"
   ]
  },
  {
   "cell_type": "markdown",
   "metadata": {},
   "source": [
    "## Accessing/Looping elements in a Dictionary"
   ]
  },
  {
   "cell_type": "code",
   "execution_count": 10,
   "metadata": {},
   "outputs": [
    {
     "name": "stdout",
     "output_type": "stream",
     "text": [
      "1\n",
      "the Key wasn't present in the Dictionary\n",
      "dict_keys(['first', 'second', 'third'])\n",
      "dict_values([1, 2, 3])\n",
      "dict_items([('first', 1), ('second', 2), ('third', 3)])\n"
     ]
    }
   ],
   "source": [
    "print(a.get(\"first\",\"the Key wasn't present in the Dictionary\"))\n",
    "print(a.get(\"a\",\"the Key wasn't present in the Dictionary\"))\n",
    "print(a.keys())\n",
    "print(a.values())\n",
    "print(a.items())"
   ]
  },
  {
   "cell_type": "code",
   "execution_count": 11,
   "metadata": {},
   "outputs": [
    {
     "name": "stdout",
     "output_type": "stream",
     "text": [
      "True\n",
      "False\n",
      "False\n"
     ]
    }
   ],
   "source": [
    "print(\"first\" in a)\n",
    "print(\"fourth\" in a)\n",
    "print(1 in d)"
   ]
  },
  {
   "cell_type": "markdown",
   "metadata": {},
   "source": [
    "## Adding or removing data in a dictionary"
   ]
  },
  {
   "cell_type": "code",
   "execution_count": 13,
   "metadata": {},
   "outputs": [
    {
     "name": "stdout",
     "output_type": "stream",
     "text": [
      "{'first': 1, 'second': 2, 'third': 3}\n",
      "{'fourth': 4, 'fifth': 5, 'sixth': 6}\n",
      "{'fourth': 100, 'fifth': 5, 'sixth': 6, 'first': 1, 'second': 2, 'third': 3}\n"
     ]
    }
   ],
   "source": [
    "print(a)\n",
    "print(c)\n",
    "a[\"fourth\"] = 100\n",
    "c.update(a)\n",
    "print(c)"
   ]
  },
  {
   "cell_type": "code",
   "execution_count": 14,
   "metadata": {},
   "outputs": [
    {
     "name": "stdout",
     "output_type": "stream",
     "text": [
      "3\n"
     ]
    }
   ],
   "source": [
    "deleted_item = a.pop(\"third\")\n",
    "print(deleted_item)"
   ]
  },
  {
   "cell_type": "code",
   "execution_count": 15,
   "metadata": {},
   "outputs": [
    {
     "name": "stdout",
     "output_type": "stream",
     "text": [
      "{'fifth': 5, 'sixth': 6, 'first': 1, 'second': 2, 'third': 3}\n"
     ]
    }
   ],
   "source": [
    "del c[\"fourth\"]\n",
    "print(c)"
   ]
  },
  {
   "cell_type": "code",
   "execution_count": 16,
   "metadata": {},
   "outputs": [
    {
     "name": "stdout",
     "output_type": "stream",
     "text": [
      "{}\n"
     ]
    }
   ],
   "source": [
    "# deleting everything from a dictionary\n",
    "a.clear()\n",
    "print(a)"
   ]
  },
  {
   "cell_type": "markdown",
   "metadata": {},
   "source": [
    "# Print all words with frequency K"
   ]
  },
  {
   "cell_type": "code",
   "execution_count": 18,
   "metadata": {},
   "outputs": [
    {
     "name": "stdout",
     "output_type": "stream",
     "text": [
      "{'this': 1, 'is': 1, 'a': 1, 'word': 1, 'string': 1, 'having': 1, 'many': 2, 'words': 1}\n",
      "many\n"
     ]
    }
   ],
   "source": [
    "def printKFreqWords(s, k):\n",
    "    words = s.split()\n",
    "    d={}\n",
    "    for w in words:\n",
    "        d[w] = d.get(w,0)+1\n",
    "    print(d)\n",
    "    for w in d:\n",
    "        if d[w] is k:\n",
    "            print(w)\n",
    "\n",
    "printKFreqWords(\"this is a word string having many many words\",2)"
   ]
  },
  {
   "cell_type": "markdown",
   "metadata": {},
   "source": [
    "# Maximum Frequency"
   ]
  },
  {
   "cell_type": "raw",
   "metadata": {},
   "source": [
    "You are given an array of integers that contain numbers in random order. Write a program to find and return the number which occurs the maximum times in the given input.\n",
    "If two or more elements contend for the maximum frequency, return the element which occurs in the array first.\n",
    "\n",
    "Input Format:\n",
    "The first line of input contains an integer, that denotes the value of the size of the array. Let us denote it with the symbol N.\n",
    "The following line contains N space separated integers, that denote the value of the elements of the array.\n",
    "\n",
    "Output Format :\n",
    "The first and only line of output contains most frequent element in the given array.\n",
    "\n",
    "Constraints:\n",
    "0 <= N <= 10^8\n",
    "Time Limit: 1 sec\n",
    "\n",
    "Sample Input 1 :\n",
    "13\n",
    "2 12 2 11 12 2 1 2 2 11 12 2 6 \n",
    "Sample Output 1 :\n",
    "2\n",
    "\n",
    "Sample Input 2 :\n",
    "3\n",
    "1 4 5\n",
    "Sample Output 2 :\n",
    "1"
   ]
  },
  {
   "cell_type": "code",
   "execution_count": 21,
   "metadata": {},
   "outputs": [],
   "source": [
    "def maxFreq(arr):\n",
    "    d = {}\n",
    "    for ele in arr:\n",
    "        d[ele] = d.get(ele,0) + 1\n",
    "    \n",
    "    ans_ele = -1\n",
    "    ans_freq = 0;\n",
    "    for k, v in d.items():\n",
    "        if v > ans_freq:\n",
    "            ans_ele = k\n",
    "            ans_freq = v\n",
    "    \n",
    "    print(ans_ele)"
   ]
  },
  {
   "cell_type": "code",
   "execution_count": 27,
   "metadata": {},
   "outputs": [
    {
     "name": "stdout",
     "output_type": "stream",
     "text": [
      "2 12 2 11 12 2 1 2 2 11 12 2 6 \n",
      "2\n"
     ]
    }
   ],
   "source": [
    "arr = [int(i) for i in input().strip().split()]\n",
    "maxFreq(arr)"
   ]
  },
  {
   "cell_type": "markdown",
   "metadata": {},
   "source": [
    "# Pair sum to 0"
   ]
  },
  {
   "cell_type": "raw",
   "metadata": {},
   "source": [
    "Given a random integer array A of size N. Find and print the count of pair of elements in the array which sum up to 0.\n",
    "Note: Array A can contain duplicate elements as well.\n",
    "\n",
    "Input format:\n",
    "The first line of input contains an integer, that denotes the value of the size of the array. Let us denote it with the symbol N.\n",
    "The following line contains N space separated integers, that denote the value of the elements of the array.\n",
    "\n",
    "Output format :\n",
    "The first and only line of output contains the count of pair of elements in the array which sum up to 0. \n",
    "\n",
    "Constraints :\n",
    "0 <= N <= 10^4\n",
    "Time Limit: 1 sec\n",
    "\n",
    "Sample Input 1:\n",
    "5\n",
    "2 1 -2 2 3\n",
    "Sample Output 1:\n",
    "2"
   ]
  },
  {
   "cell_type": "code",
   "execution_count": 35,
   "metadata": {},
   "outputs": [],
   "source": [
    "def pairSum0(arr, n):\n",
    "    arr.sort()\n",
    "    d = {}\n",
    "    spope = -1\n",
    "    noz = 0\n",
    "    for ele in arr :\n",
    "        if ele < 0:\n",
    "            d[ele] = d.get(ele, 0) + 1\n",
    "        if ele > 0:\n",
    "            spope = arr.index(ele)\n",
    "            break\n",
    "        if ele == 0:\n",
    "            noz+=1\n",
    "    \n",
    "    ans2 = (noz*(noz-1))//2\n",
    "    ans = ans2\n",
    "    for i in range(spope, n):\n",
    "        if -arr[i] in d:\n",
    "            ans += d[-arr[i]]\n",
    "    \n",
    "    return ans"
   ]
  },
  {
   "cell_type": "code",
   "execution_count": 34,
   "metadata": {},
   "outputs": [
    {
     "name": "stdout",
     "output_type": "stream",
     "text": [
      "7\n",
      "-2 2 6 -2 2 -6 3\n",
      "5\n"
     ]
    }
   ],
   "source": [
    "n = int(input())\n",
    "arr = [int(i) for i in input().strip().split()]\n",
    "print(pairSum0(arr, n))"
   ]
  },
  {
   "cell_type": "markdown",
   "metadata": {},
   "source": [
    "# Extract unique characters"
   ]
  },
  {
   "cell_type": "raw",
   "metadata": {},
   "source": [
    "Given a string S, you need to remove all the duplicates. That means, the output string should contain each character only once. The respective order of characters should remain same, as in the input string.\n",
    "\n",
    "Input format:\n",
    "The first and only line of input contains a string, that denotes the value of S.\n",
    "\n",
    "Output format :\n",
    "The first and only line of output contains the updated string, as described in the task.\n",
    "\n",
    "Constraints :\n",
    "0 <= Length of S <= 10^8\n",
    "Time Limit: 1 sec\n",
    "\n",
    "Sample Input 1 :\n",
    "ababacd\n",
    "Sample Output 1 :\n",
    "abcd\n",
    "\n",
    "Sample Input 2 :\n",
    "abcde\n",
    "Sample Output 2 :\n",
    "abcde"
   ]
  },
  {
   "cell_type": "code",
   "execution_count": 36,
   "metadata": {},
   "outputs": [],
   "source": [
    "def uniqueChars(string):\n",
    "    d = {}\n",
    "    for i in string:\n",
    "        d[i] = d.get(i,0)+1\n",
    "    ans = \"\"\n",
    "    print(d)\n",
    "    for i in string:\n",
    "        if d[i]>0:\n",
    "            ans = ans+i\n",
    "            d[i]=0\n",
    "    return ans"
   ]
  },
  {
   "cell_type": "code",
   "execution_count": 37,
   "metadata": {},
   "outputs": [
    {
     "name": "stdout",
     "output_type": "stream",
     "text": [
      "ababacd\n",
      "{'a': 3, 'b': 2, 'c': 1, 'd': 1}\n",
      "abcd\n"
     ]
    }
   ],
   "source": [
    "string = input()\n",
    "print(uniqueChars(string))"
   ]
  },
  {
   "cell_type": "markdown",
   "metadata": {},
   "source": [
    "# Longest Consecutive Sequence"
   ]
  },
  {
   "cell_type": "raw",
   "metadata": {},
   "source": [
    "You are given an array of unique integers that contain numbers in random order. You have to find the longest possible sequence of consecutive numbers using the numbers from given array.\n",
    "You need to return the output array which contains starting and ending element. If the length of the longest possible sequence is one, then the output array must contain only single element.\n",
    "\n",
    "Note:\n",
    "1. Best solution takes O(n) time.\n",
    "2. If two sequences are of equal length, then return the sequence starting with the number whose occurrence is earlier in the array.\n",
    "\n",
    "Input format:\n",
    "The first line of input contains an integer, that denotes the value of the size of the array. Let us denote it with the symbol n.\n",
    "The following line contains n space separated integers, that denote the value of the elements of the array.\n",
    "\n",
    "Output format:\n",
    "The first and only line of output contains starting and ending element of the longest consecutive sequence. If the length of longest consecutive sequence, then just print the starting element.\n",
    "\n",
    "Constraints :\n",
    "0 <= n <= 10^6\n",
    "Time Limit: 1 sec\n",
    "\n",
    "Sample Input 1 :\n",
    "13\n",
    "2 12 9 16 10 5 3 20 25 11 1 8 6 \n",
    "Sample Output 1 :\n",
    "8 12 \n",
    "\n",
    "Sample Input 2 :\n",
    "7\n",
    "3 7 2 1 9 8 41\n",
    "Sample Output 2 :\n",
    "7 9\n",
    "\n",
    "Sample Input 3 :\n",
    "7\n",
    "15 24 23 12 19 11 16\n",
    "Sample Output 3 :\n",
    "15 16"
   ]
  },
  {
   "cell_type": "code",
   "execution_count": 38,
   "metadata": {},
   "outputs": [],
   "source": [
    "def longestConsecutiveSubsequence(l):\n",
    "    m = {l[i]:i for i in range(len(l)-1,-1,-1)}\n",
    "    print(m)\n",
    "    visited = {}\n",
    "    start,end = l[0],l[0]\n",
    "    startM, endM = start, end\n",
    "    for num in l:\n",
    "        if num not in visited:\n",
    "            visited[num]=True\n",
    "            start, end = num, num\n",
    "            \n",
    "            while start-1 in m:\n",
    "                start-=1\n",
    "                visited[start] = True\n",
    "            while end+1 in m:\n",
    "                end+=1\n",
    "                visited[end] = True\n",
    "            \n",
    "            if (endM-startM+1<end-start+1) or ((endM-startM+1 == end-start+1) and (m[start]<m[startM])):\n",
    "                startM, endM = start, end\n",
    "        \n",
    "    return startM, endM"
   ]
  },
  {
   "cell_type": "code",
   "execution_count": 39,
   "metadata": {},
   "outputs": [
    {
     "name": "stdout",
     "output_type": "stream",
     "text": [
      "13\n",
      "2 12 9 16 10 5 3 20 25 11 1 8 6 \n",
      "{6: 12, 8: 11, 1: 10, 11: 9, 25: 8, 20: 7, 3: 6, 5: 5, 10: 4, 16: 3, 9: 2, 12: 1, 2: 0}\n",
      "8\n",
      "9\n",
      "10\n",
      "11\n",
      "12\n"
     ]
    }
   ],
   "source": [
    "n=int(input())\n",
    "l=list(int(i) for i in input().strip().split(' '))\n",
    "start, end = longestConsecutiveSubsequence(l)\n",
    "for num in range(start, end+1):\n",
    "    print(num)"
   ]
  },
  {
   "cell_type": "markdown",
   "metadata": {},
   "source": [
    "# Pairs with Difference K"
   ]
  },
  {
   "cell_type": "raw",
   "metadata": {},
   "source": [
    "You are given with an array of integers and an integer K. You have to find and print the count of all such pairs which have difference K.\n",
    "\n",
    "Note: Take absolute difference between the elements of the array.\n",
    "\n",
    "Input Format:\n",
    "The first line of input contains an integer, that denotes the value of the size of the array. Let us denote it with the symbol n.\n",
    "The following line contains n space separated integers, that denote the value of the elements of the array.\n",
    "The following line contains an integer, that denotes the value of K.\n",
    "\n",
    "Output format :\n",
    "The first and only line of output contains count of all such pairs which have an absolute difference of K. \n",
    "\n",
    "Constraints :\n",
    "0 <= n <= 10^4\n",
    "Time Limit: 1 sec\n",
    "\n",
    "Sample Input 1 :\n",
    "4 \n",
    "5 1 2 4\n",
    "3\n",
    "Sample Output 1 :\n",
    "2\n",
    "\n",
    "Sample Input 2 :\n",
    "4\n",
    "4 4 4 4 \n",
    "0\n",
    "Sample Output 2 :\n",
    "6"
   ]
  },
  {
   "cell_type": "code",
   "execution_count": 40,
   "metadata": {},
   "outputs": [],
   "source": [
    "def printPairDiffK(l,k):\n",
    "    if k<0:\n",
    "        k=k*-1\n",
    "    \n",
    "    m = {}\n",
    "    for i in l:\n",
    "        if i+k in m:\n",
    "            for _ in range(0,m[i+k]):\n",
    "                print(i,i+k)\n",
    "        if k!=0 and i-k in m:\n",
    "            for _ in range(0,m[i-k]):\n",
    "                print(i-k,i)\n",
    "        \n",
    "        if i in m:\n",
    "            m[i]+=1\n",
    "        else:\n",
    "            m[i]=1"
   ]
  },
  {
   "cell_type": "code",
   "execution_count": 41,
   "metadata": {},
   "outputs": [
    {
     "name": "stdout",
     "output_type": "stream",
     "text": [
      "4\n",
      "5 1 2 4\n",
      "3\n",
      "2 5\n",
      "1 4\n"
     ]
    }
   ],
   "source": [
    "n=int(input())\n",
    "l=list(int(i) for i in input().strip().split(' '))\n",
    "k=int(input())\n",
    "printPairDiffK(l, k)"
   ]
  },
  {
   "cell_type": "markdown",
   "metadata": {},
   "source": [
    "# Longest subset Zero Sum"
   ]
  },
  {
   "cell_type": "raw",
   "metadata": {},
   "source": [
    "Given an array consisting of positive and negative integers, find the length of the longest subarray whose sum is zero.\n",
    "\n",
    "Input Format:\n",
    "The first line of input contains an integer, that denotes the value of the size of the array. Let us denote it with the symbol N.\n",
    "The following line contains N space separated integers, that denote the value of the elements of the array.\n",
    "\n",
    "Output Format\n",
    "The first and only line of output contains length of the longest subarray whose sum is zero.\n",
    "\n",
    "Constraints:\n",
    "0 <= N <= 10^8\n",
    "Time Limit: 1 sec\n",
    "\n",
    "Sample Input 1:\n",
    "10 \n",
    " 95 -97 -387 -435 -5 -70 897 127 23 284\n",
    "Sample Output 1:\n",
    "5"
   ]
  },
  {
   "cell_type": "code",
   "execution_count": 42,
   "metadata": {},
   "outputs": [],
   "source": [
    "def subsetSum(l):\n",
    "    d = {}\n",
    "    max_len, curr_Sum = 0,0\n",
    "    \n",
    "    for i in range(len(l)):\n",
    "        curr_Sum +=l[i]\n",
    "        \n",
    "        if l[i] is 0 and max_len is 0:\n",
    "            max_len = 1\n",
    "        \n",
    "        if curr_Sum is 0:\n",
    "            max_len = i+1\n",
    "            \n",
    "        if curr_Sum in d:\n",
    "            max_len = max(max_len, i-d[curr_Sum])\n",
    "        else:\n",
    "            d[curr_Sum] = i\n",
    "        \n",
    "    return max_len"
   ]
  },
  {
   "cell_type": "code",
   "execution_count": 43,
   "metadata": {},
   "outputs": [
    {
     "name": "stdout",
     "output_type": "stream",
     "text": [
      "10\n",
      " 95 -97 -387 -435 -5 -70 897 127 23 284\n",
      "5\n"
     ]
    }
   ],
   "source": [
    "n=int(input())\n",
    "l=list(int(i) for i in input().strip().split(' '))\n",
    "finalLen= subsetSum(l)\n",
    "print(finalLen)"
   ]
  },
  {
   "cell_type": "markdown",
   "metadata": {},
   "source": [
    "# Making our own hashmap"
   ]
  },
  {
   "cell_type": "markdown",
   "metadata": {},
   "source": [
    "### Code"
   ]
  },
  {
   "cell_type": "code",
   "execution_count": 46,
   "metadata": {},
   "outputs": [],
   "source": [
    "class MapNode:\n",
    "    def __init__(self, key, value):\n",
    "        self.key = key\n",
    "        self.value = value\n",
    "        self.next = None\n",
    "\n",
    "class Map:   #class Map : size, getBucketIndex, insert, rehash, loadFactor, getValue, remove\n",
    "    def __init__(self):\n",
    "        self.bucketSize = 5\n",
    "        self.buckets = [None]*(self.bucketSize)\n",
    "        self.count = 0\n",
    "    \n",
    "    def size(self):\n",
    "        return self.count\n",
    "    \n",
    "    def getBucketIndex(self, hc):\n",
    "        return (abs(hc)%(self.bucketSize))\n",
    "    \n",
    "    def insert(self, key, value):\n",
    "        hc = hash(key)\n",
    "        index = self.getBucketIndex(hc)\n",
    "        head = self.buckets[index]\n",
    "        \n",
    "        # This will iterate through the LL present at that index and \n",
    "        # IF :the key is already present then it will just update the value of that key to the new value \n",
    "        # ELSE : a newNode will be created and inserted at the begining \n",
    "        while head is not None:\n",
    "            if head.key is key:\n",
    "                head.value = value\n",
    "                return\n",
    "            head = head.next\n",
    "        head = self.buckets[index]\n",
    "        newNode = MapNode(key, value)\n",
    "        newNode.next = head\n",
    "        self.buckets[index] = newNode\n",
    "        self.count+=1\n",
    "        \n",
    "        loadFactor = self.count/self.bucketSize\n",
    "        if loadFactor >= 0.7:\n",
    "            self.rehash()\n",
    "        \n",
    "    def rehash(self):\n",
    "        temp = self.buckets\n",
    "        self.buckets = [None]*2*self.bucketSize\n",
    "        self.bucketSize = 2*self.bucketSize\n",
    "        self.count = 0\n",
    "        for head in temp:\n",
    "            while head is not None:\n",
    "                self.insert(head.key, head.value)\n",
    "                head = head.next\n",
    "    \n",
    "    def loadFactor(self):\n",
    "        return self.count/self.bucketSize\n",
    "        \n",
    "    def getValue(self, key):\n",
    "        hc = hash(key)\n",
    "        index = self.getBucketIndex(hc)\n",
    "        head = self.buckets[index]\n",
    "        \n",
    "        while head is not None:\n",
    "            if head.key is key:\n",
    "                return head.value\n",
    "            head = head.next\n",
    "        return None\n",
    "    \n",
    "    def remove(self, key):\n",
    "        hc = hash(key)\n",
    "        index = self.getBucketIndex(hc)\n",
    "        head = self.buckets[index]\n",
    "        prev = None\n",
    "        while head is not None:\n",
    "            if head.key is key:\n",
    "                if prev is None:\n",
    "                    self.buckets[index] = head.next\n",
    "                else:\n",
    "                    prev.next = head.next\n",
    "                self.count-=1\n",
    "                return head.value\n",
    "            prev = head\n",
    "            head = head.next\n",
    "        return None"
   ]
  },
  {
   "cell_type": "code",
   "execution_count": 53,
   "metadata": {},
   "outputs": [
    {
     "name": "stdout",
     "output_type": "stream",
     "text": [
      "1 0.2\n",
      "2 0.4\n",
      "3 0.6\n",
      "22\n",
      "20\n"
     ]
    }
   ],
   "source": [
    "m = Map()\n",
    "m.insert(\"Ankur\", 22)\n",
    "print(m.size(), m.loadFactor())\n",
    "m.insert(\"kapil\", 21)\n",
    "print(m.size(), m.loadFactor())\n",
    "m.insert(\"parth\", 20)\n",
    "print(m.size(), m.loadFactor())\n",
    "\n",
    "print(m.getValue(\"Ankur\"))\n",
    "print(m.getValue(\"parth\"))\n"
   ]
  }
 ],
 "metadata": {
  "kernelspec": {
   "display_name": "Python 3",
   "language": "python",
   "name": "python3"
  },
  "language_info": {
   "codemirror_mode": {
    "name": "ipython",
    "version": 3
   },
   "file_extension": ".py",
   "mimetype": "text/x-python",
   "name": "python",
   "nbconvert_exporter": "python",
   "pygments_lexer": "ipython3",
   "version": "3.7.2"
  }
 },
 "nbformat": 4,
 "nbformat_minor": 4
}
