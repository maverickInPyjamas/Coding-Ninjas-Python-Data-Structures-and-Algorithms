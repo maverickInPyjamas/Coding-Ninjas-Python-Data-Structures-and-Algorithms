{
 "cells": [
  {
   "cell_type": "markdown",
   "metadata": {},
   "source": [
    "# This contains :-\n",
    "\n",
    "1. Last index of Number Question\n",
    "2. Power of a Number\n",
    "3. Sum of array\n",
    "4. Check Number in array\n",
    "5. First Index of Number"
   ]
  },
  {
   "cell_type": "markdown",
   "metadata": {},
   "source": [
    "## Last Index of Number Question"
   ]
  },
  {
   "cell_type": "markdown",
   "metadata": {},
   "source": [
    "Given an array of length N and an integer x, you need to find and return the last index of integer x present in the array. \n",
    "\n",
    "Return -1 if it is not present in the array.\n",
    "\n",
    "Last index means - if x is present multiple times in the array, return the index at which x comes last in the array.\n",
    "\n",
    "You should start traversing your array from 0, not from (N - 1).\n",
    "\n",
    "Do this recursively. Indexing in the array starts from 0.\n",
    "\n",
    "Input Format :\n",
    "\n",
    "Line 1 : An Integer N i.e. size of array\n",
    "\n",
    "Line 2 : N integers which are elements of the array, separated by spaces\n",
    "\n",
    "Line 3 : Integer x\n",
    "\n",
    "Output Format :\n",
    "\n",
    "last index or -1\n",
    "\n",
    "Constraints :\n",
    "\n",
    "1 <= N <= 10^3\n",
    "\n",
    "Sample Input :\n",
    "\n",
    "4\n",
    "\n",
    "9 8 10 8\n",
    "\n",
    "8\n",
    "\n",
    "Sample Output :\n",
    "\n",
    "3"
   ]
  },
  {
   "cell_type": "code",
   "execution_count": 1,
   "metadata": {},
   "outputs": [
    {
     "name": "stdout",
     "output_type": "stream",
     "text": [
      "4\n",
      "9 8 10 8\n",
      "8\n",
      "3\n"
     ]
    }
   ],
   "source": [
    "def lastIndex(arr, x):\n",
    "    if len(arr) is 0:\n",
    "        return -1\n",
    "    ans = lastIndex(arr[1:], x)\n",
    "    if arr[0] is x and ans is -1:\n",
    "        return 0\n",
    "    if ans is not -1:\n",
    "        return ans + 1\n",
    "    else :\n",
    "        return ans\n",
    "\n",
    "\n",
    "\n",
    "n = int(input())\n",
    "arr = [int(i) for i in input().strip().split()]\n",
    "x = int(input())\n",
    "\n",
    "ans = lastIndex(arr, x)\n",
    "print(ans)"
   ]
  },
  {
   "cell_type": "markdown",
   "metadata": {},
   "source": [
    "## Power of a Number"
   ]
  },
  {
   "cell_type": "markdown",
   "metadata": {},
   "source": [
    "Write a program to find x to the power n (i.e. x^n). Take x and n from the user. You need to print the answer.\n",
    "\n",
    "Note : For this question, you can assume that 0 raised to the power of 0 is 1\n",
    "\n",
    "Input format :\n",
    "\n",
    "Two integers x and n (separated by space)\n",
    "\n",
    "Output Format :\n",
    "\n",
    "x^n (i.e. x raise to the power n)\n",
    "\n",
    "Constraints:\n",
    "\n",
    "0 <= x <= 8 \n",
    "\n",
    "0 <= n <= 9\n",
    "\n",
    "Sample Input 1 :\n",
    "\n",
    "3 4\n",
    "\n",
    "Sample Output 1 :\n",
    "\n",
    "81\n",
    "\n",
    "Sample Input 2 :\n",
    "\n",
    "2 5\n",
    "\n",
    "Sample Output 2 :\n",
    "\n",
    "32"
   ]
  },
  {
   "cell_type": "code",
   "execution_count": 2,
   "metadata": {},
   "outputs": [
    {
     "name": "stdout",
     "output_type": "stream",
     "text": [
      "3 4\n",
      "81\n"
     ]
    }
   ],
   "source": [
    "def power(x, n):\n",
    "    if n == 0:\n",
    "        return 1\n",
    "    return x*power(x, n-1)\n",
    "\n",
    "\n",
    "x, n = [int(i) for i in input().strip().split()]\n",
    "ans = power(x, n)\n",
    "print(ans)"
   ]
  },
  {
   "cell_type": "markdown",
   "metadata": {},
   "source": [
    "## Sum of Array"
   ]
  },
  {
   "cell_type": "markdown",
   "metadata": {},
   "source": [
    "Given an array of length N, you need to find and return the sum of all elements of the array.\n",
    "\n",
    "Do this recursively.\n",
    "\n",
    "Input Format :\n",
    "\n",
    "Line 1 : An Integer N i.e. size of array\n",
    "\n",
    "Line 2 : N integers which are elements of the array, separated by spaces\n",
    "\n",
    "Output Format :\n",
    "\n",
    "Sum\n",
    "\n",
    "Constraints :\n",
    "\n",
    "1 <= N <= 10^3\n",
    "\n",
    "Sample Input 1 :\n",
    "\n",
    "3\n",
    "\n",
    "9 8 9\n",
    "\n",
    "Sample Output 1 :\n",
    "\n",
    "26\n",
    "\n",
    "Sample Input 2 :\n",
    "\n",
    "3\n",
    "\n",
    "4 2 1\n",
    "\n",
    "Sample Output 2 :\n",
    "\n",
    "7    "
   ]
  },
  {
   "cell_type": "code",
   "execution_count": 4,
   "metadata": {},
   "outputs": [
    {
     "name": "stdout",
     "output_type": "stream",
     "text": [
      "3\n",
      "3 9 8 9\n",
      "29\n"
     ]
    }
   ],
   "source": [
    "def sumArray(arr):\n",
    "    if len(arr) is 0:\n",
    "        return 0\n",
    "    return arr[0] + sumArray(arr[1:])\n",
    "\n",
    "from sys import setrecursionlimit\n",
    "setrecursionlimit(11000)\n",
    "n=int(input())\n",
    "arr=list(int(i) for i in input().strip().split(' '))\n",
    "print(sumArray(arr))"
   ]
  },
  {
   "cell_type": "markdown",
   "metadata": {},
   "source": [
    "## Check Number in Array"
   ]
  },
  {
   "cell_type": "markdown",
   "metadata": {},
   "source": [
    "Given an array of length N and an integer x, you need to find if x is present in the array or not. Return true or false.\n",
    "\n",
    "Do this recursively.\n",
    "\n",
    "Input Format :\n",
    "\n",
    "Line 1 : An Integer N i.e. size of array\n",
    "\n",
    "Line 2 : N integers which are elements of the array, separated by spaces\n",
    "\n",
    "Line 3 : Integer x\n",
    "\n",
    "Output Format :\n",
    "\n",
    "'true' or 'false'\n",
    "\n",
    "Constraints :\n",
    "\n",
    "1 <= N <= 10^3\n",
    "\n",
    "Sample Input 1 :\n",
    "\n",
    "3\n",
    "\n",
    "9 8 10\n",
    "\n",
    "8\n",
    "\n",
    "Sample Output 1 :\n",
    "\n",
    "true\n",
    "\n",
    "Sample Input 2 :\n",
    "\n",
    "3\n",
    "\n",
    "9 8 10\n",
    "\n",
    "2\n",
    "\n",
    "Sample Output 2 :\n",
    "\n",
    "false"
   ]
  },
  {
   "cell_type": "code",
   "execution_count": 5,
   "metadata": {},
   "outputs": [
    {
     "name": "stdout",
     "output_type": "stream",
     "text": [
      "3\n",
      "9 8 10\n",
      "2\n",
      "false\n"
     ]
    }
   ],
   "source": [
    "def checkNumber(arr, x):\n",
    "    if len(arr) is 0:\n",
    "        return False\n",
    "    \n",
    "    if arr[0] is x:\n",
    "        return True\n",
    "    \n",
    "    return checkNumber(arr[1:], x)\n",
    "    \n",
    "\n",
    "from sys import setrecursionlimit\n",
    "setrecursionlimit(11000)\n",
    "n=int(input())\n",
    "arr=list(int(i) for i in input().strip().split(' '))\n",
    "x=int(input())\n",
    "if checkNumber(arr, x):\n",
    "    print('true')\n",
    "else:\n",
    "    print('false')"
   ]
  },
  {
   "cell_type": "markdown",
   "metadata": {},
   "source": [
    "## First Index of Number"
   ]
  },
  {
   "cell_type": "markdown",
   "metadata": {},
   "source": [
    "Given an array of length N and an integer x, you need to find and return the first index of integer x present in the array. \n",
    "\n",
    "Return -1 if it is not present in the array.\n",
    "\n",
    "First index means, the index of first occurrence of x in the input array.\n",
    "\n",
    "Do this recursively. Indexing in the array starts from 0.\n",
    "\n",
    "Input Format :\n",
    "\n",
    "Line 1 : An Integer N i.e. size of array\n",
    "\n",
    "Line 2 : N integers which are elements of the array, separated by spaces\n",
    "\n",
    "Line 3 : Integer x\n",
    "\n",
    "Output Format :\n",
    "\n",
    "first index or -1\n",
    "\n",
    "Constraints :\n",
    "\n",
    "1 <= N <= 10^3\n",
    "\n",
    "Sample Input :\n",
    "\n",
    "4\n",
    "\n",
    "9 8 10 8\n",
    "\n",
    "8\n",
    "\n",
    "Sample Output :\n",
    "\n",
    "1"
   ]
  },
  {
   "cell_type": "code",
   "execution_count": 6,
   "metadata": {},
   "outputs": [
    {
     "name": "stdout",
     "output_type": "stream",
     "text": [
      "4\n",
      "9 8 10 8\n",
      "8\n",
      "1\n"
     ]
    }
   ],
   "source": [
    "def firstIndex(arr, x):\n",
    "    if len(arr) is 0:\n",
    "        return -1\n",
    "    \n",
    "    if arr[0] is x:\n",
    "        return 0\n",
    "    \n",
    "    ans = firstIndex(arr[1:], x)\n",
    "    if ans is -1:\n",
    "        return ans\n",
    "    else :\n",
    "        return ans + 1\n",
    "    \n",
    "\n",
    "\n",
    "from sys import setrecursionlimit\n",
    "setrecursionlimit(11000)\n",
    "n=int(input())\n",
    "arr=list(int(i) for i in input().strip().split(' '))\n",
    "x=int(input())\n",
    "print(firstIndex(arr, x))"
   ]
  },
  {
   "cell_type": "code",
   "execution_count": null,
   "metadata": {},
   "outputs": [],
   "source": []
  }
 ],
 "metadata": {
  "kernelspec": {
   "display_name": "Python 3",
   "language": "python",
   "name": "python3"
  },
  "language_info": {
   "codemirror_mode": {
    "name": "ipython",
    "version": 3
   },
   "file_extension": ".py",
   "mimetype": "text/x-python",
   "name": "python",
   "nbconvert_exporter": "python",
   "pygments_lexer": "ipython3",
   "version": "3.7.2"
  }
 },
 "nbformat": 4,
 "nbformat_minor": 4
}
