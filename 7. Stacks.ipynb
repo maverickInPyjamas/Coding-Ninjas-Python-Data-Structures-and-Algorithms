{
 "cells": [
  {
   "cell_type": "markdown",
   "metadata": {},
   "source": [
    "# This contains :-\n",
    "\n",
    "1. Using inbuilt Stack\n",
    "2. Stack using arrays\n",
    "3. Stack Using Linked List\n",
    "4. Balanced Parenthesis\n",
    "5. Reverse Stack\n",
    "6. Check redundant Brackets\n",
    "7. Stock Span\n",
    "8. Minimum bracket Reversal"
   ]
  },
  {
   "cell_type": "markdown",
   "metadata": {},
   "source": [
    "# using inbuilt Stack "
   ]
  },
  {
   "cell_type": "code",
   "execution_count": 17,
   "metadata": {},
   "outputs": [
    {
     "name": "stdout",
     "output_type": "stream",
     "text": [
      "e\n",
      "d\n",
      "c\n",
      "b\n",
      "a\n"
     ]
    }
   ],
   "source": [
    "import queue\n",
    "\n",
    "s = queue.LifoQueue()\n",
    "\n",
    "s.put(\"a\")\n",
    "s.put(\"b\")\n",
    "s.put(\"c\")\n",
    "s.put(\"d\")\n",
    "s.put(\"e\")\n",
    "\n",
    "while not s.empty():\n",
    "    print(s.get())"
   ]
  },
  {
   "cell_type": "markdown",
   "metadata": {},
   "source": [
    "# Stack Using Arrays "
   ]
  },
  {
   "cell_type": "code",
   "execution_count": 5,
   "metadata": {},
   "outputs": [],
   "source": [
    "class Stack():\n",
    "    def __init__(self):\n",
    "        self.__data = []\n",
    "        \n",
    "    def push(self, item):\n",
    "        self.__data.append(item)\n",
    "    \n",
    "    def pop(self):\n",
    "        if self.isEmpty():\n",
    "            print(\"hey! Stack is Empty\")\n",
    "            return\n",
    "        return self.__data.pop()\n",
    "        \n",
    "    def top(self):\n",
    "        if self.isEmpty():\n",
    "            print(\"hey! Stack is Empty\")\n",
    "            return\n",
    "        return self.__data[-1]\n",
    "    \n",
    "    def size(self):\n",
    "        return len(self.__data)\n",
    "    \n",
    "    def isEmpty(self):\n",
    "        return self.size() == 0"
   ]
  },
  {
   "cell_type": "code",
   "execution_count": 7,
   "metadata": {},
   "outputs": [
    {
     "name": "stdout",
     "output_type": "stream",
     "text": [
      "4\n",
      "4\n",
      "3\n",
      "False\n"
     ]
    }
   ],
   "source": [
    "# creating an object of Stack class\n",
    "s = Stack()\n",
    "\n",
    "# using push method of Stack class\n",
    "s.push(1)\n",
    "s.push(2)\n",
    "s.push(3)\n",
    "s.push(4)\n",
    "\n",
    "# using top method of Stack class\n",
    "print(s.top())\n",
    "\n",
    "# using pop method of Stack class\n",
    "print(s.pop())\n",
    "\n",
    "# using size method of Stack class\n",
    "print(s.size())\n",
    "\n",
    "# using isEmpty method of Stack class\n",
    "print(s.isEmpty())"
   ]
  },
  {
   "cell_type": "markdown",
   "metadata": {},
   "source": [
    "# Stack using Linked List"
   ]
  },
  {
   "cell_type": "raw",
   "metadata": {},
   "source": [
    "Implement a Stack Data Structure specifically to store integer data using a Singly Linked List.\n",
    "The data members should be private.\n",
    "\n",
    "You need to implement the following public functions :\n",
    "\n",
    "1. Constructor:\n",
    "It initialises the data members as required.\n",
    "\n",
    "2. push(data) :\n",
    "This function should take one argument of type integer. It pushes the element into the stack and returns nothing.\n",
    "\n",
    "3. pop() :\n",
    "It pops the element from the top of the stack and in turn, returns the element being popped or deleted. In case the stack is empty, it returns -1.\n",
    "\n",
    "4. top :\n",
    "It returns the element being kept at the top of the stack. In case the stack is empty, it returns -1.\n",
    "\n",
    "5. size() :\n",
    "It returns the size of the stack at any given instance of time.\n",
    "\n",
    "6. isEmpty() :\n",
    "It returns a boolean value indicating whether the stack is empty or not.\n",
    "\n",
    "Operations Performed on the Stack:\n",
    "\n",
    "Query-1(Denoted by an integer 1): Pushes an integer data to the stack.\n",
    "\n",
    "Query-2(Denoted by an integer 2): Pops the data kept at the top of the stack and returns it to the caller.\n",
    "\n",
    "Query-3(Denoted by an integer 3): Fetches and returns the data being kept at the top of the stack but doesn't remove it, unlike the pop function.\n",
    "\n",
    "Query-4(Denoted by an integer 4): Returns the current size of the stack.\n",
    "\n",
    "Query-5(Denoted by an integer 5): Returns a boolean value denoting whether the stack is empty or not.\n",
    "\n",
    "Input Format:\n",
    "The first line contains an integer 'q' which denotes the number of queries to be run against each operation in the stack. \n",
    "Then the test cases follow.\n",
    "Every 'q' lines represent an operation that needs to be performed.\n",
    "For the push operation, the input line will contain two integers separated by a single space, representing the type of the operation in integer and the integer data being pushed into the stack.\n",
    "For the rest of the operations on the stack, the input line will contain only one integer value, representing the query being performed on the stack.\n",
    "\n",
    "Output Format:\n",
    "For Query-1, you do not need to return anything.\n",
    "For Query-2, prints the data being popped from the stack.\n",
    "For Query-3, prints the data kept on the top of the stack.\n",
    "For Query-4, prints the current size of the stack.\n",
    "For Query-5, prints 'true' or 'false'(without quotes).\n",
    "\n",
    "Output for every query will be printed in a separate line.\n",
    "\n",
    "Note:\n",
    "You are not required to print anything explicitly. It has already been taken care of. Just implement the function.\n",
    "\n",
    "Constraints:\n",
    "1 <= q <= 10^5\n",
    "1 <= x <= 5\n",
    "-2^31 <= data <= 2^31 - 1 and data != -1\n",
    "Where 'q' is the total number of queries being performed on the stack, 'x' is the range for every query and data represents the integer pushed into the stack. \n",
    "\n",
    "Time Limit: 1 second\n",
    "\n",
    "Sample Input 1:\n",
    "6\n",
    "1 13\n",
    "1 47\n",
    "4\n",
    "5\n",
    "2\n",
    "3\n",
    "Sample Output 1:\n",
    "2\n",
    "false\n",
    "47\n",
    "13\n",
    "\n",
    "Sample Input 2:\n",
    "4\n",
    "5\n",
    "2\n",
    "1 10\n",
    "5\n",
    "Sample Output 2:\n",
    "true\n",
    "-1\n",
    "false\n",
    "\n",
    "Explanation of Sample Input 2:\n",
    "There are 4 queries in total.\n",
    "The first one is Query-5: It tells whether the stack is empty or not. Since the stack is empty at this point, the output is  'true'.\n",
    "The second one is Query-2: It pops the data from the stack. Since at this point in time, no data exist in the stack hence, it prints -1.\n",
    "The third one is Query-1: It pushes the specified data 10 into the stack and since the function doesn't return anything, nothing is printed.\n",
    "The fourth one is Query-5: It tells whether the stack is empty at this point or not. Since the stack has one element and hence it is not empty, false is printed."
   ]
  },
  {
   "cell_type": "code",
   "execution_count": 8,
   "metadata": {},
   "outputs": [],
   "source": [
    "class LinkedListNode():\n",
    "    def __init__(self, data):\n",
    "        self.data = data\n",
    "        self.next = None"
   ]
  },
  {
   "cell_type": "code",
   "execution_count": 14,
   "metadata": {},
   "outputs": [],
   "source": [
    "class StackUsingLL():\n",
    "    \n",
    "    def __init__(self):\n",
    "        self.__head = None\n",
    "        self.__count = 0\n",
    "        \n",
    "    def push(self, data):\n",
    "        newNode = LinkedListNode(data)\n",
    "        newNode.next = self.__head\n",
    "        self.__head = newNode\n",
    "        self.__count+=1\n",
    "        \n",
    "    def pop(self):\n",
    "        if self.isEmpty():\n",
    "            return -1\n",
    "        \n",
    "        data = self.__head.data\n",
    "        self.__head = self.__head.next\n",
    "        self.__count-=1\n",
    "        return data\n",
    "    \n",
    "    def top(self):\n",
    "        if self.isEmpty():\n",
    "            return -1\n",
    "        return self.__head.data\n",
    "    \n",
    "    def isEmpty(self):\n",
    "        return self.__count == 0\n",
    "    \n",
    "    def size(self):\n",
    "        return self.__count"
   ]
  },
  {
   "cell_type": "code",
   "execution_count": 16,
   "metadata": {},
   "outputs": [
    {
     "name": "stdout",
     "output_type": "stream",
     "text": [
      "6\n",
      "1 13\n",
      "1 47\n",
      "4\n",
      "2\n",
      "5\n",
      "false\n",
      "2\n",
      "47\n",
      "3\n",
      "13\n"
     ]
    }
   ],
   "source": [
    "s1 = StackUsingLL()\n",
    "\n",
    "queries = int(input())\n",
    "\n",
    "for _ in range(queries):\n",
    "    query = [int(i) for i in input().strip().split()]\n",
    "    \n",
    "    if query[0] is 1 :\n",
    "        s1.push(query[1])\n",
    "        \n",
    "    elif query[0] is 2:\n",
    "        ele = s1.pop()\n",
    "        print(ele)\n",
    "        \n",
    "    elif query[0] is 3:\n",
    "        ele = s1.top()\n",
    "        print(ele)\n",
    "        \n",
    "    elif query[0] is 4:\n",
    "        print(s1.size())\n",
    "\n",
    "    elif query[0] is 5:\n",
    "        if s1.isEmpty():\n",
    "            print(\"true\")\n",
    "        else :\n",
    "            print(\"false\")"
   ]
  },
  {
   "cell_type": "markdown",
   "metadata": {},
   "source": [
    "# Balanced Parenthesis"
   ]
  },
  {
   "cell_type": "raw",
   "metadata": {},
   "source": [
    "For a given a string expression containing only round brackets or parentheses, check if they are balanced or not. Brackets are said to be balanced if the bracket which opens last, closes first.\n",
    "\n",
    "Example:\n",
    "Expression: (()())\n",
    "Since all the opening brackets have their corresponding closing brackets, we say it is balanced and hence the output will be, 'true'.\n",
    "You need to return a boolean value indicating whether the expression is balanced or not.\n",
    "\n",
    "Note:\n",
    "The input expression will not contain spaces in between.\n",
    "\n",
    "Input Format:\n",
    "The first and the only line of input contains a string expression without any spaces in between.\n",
    "\n",
    "Output Format:\n",
    "The only line of output prints 'true' or 'false'.\n",
    "\n",
    "Note:\n",
    "You don't have to print anything explicitly. It has been taken care of. Just implement the function. \n",
    "\n",
    "Constraints:\n",
    "1 <= N <= 10^7\n",
    "Where N is the length of the expression.\n",
    "\n",
    "Time Limit: 1sec\n",
    "\n",
    "Sample Input 1 :\n",
    "(()()())\n",
    "Sample Output 1 :\n",
    "true\n",
    "\n",
    "Sample Input 2 :\n",
    "()()(()\n",
    "Sample Output 2 :\n",
    "false\n",
    "\n",
    "Explanation to Sample Input 2:\n",
    "The initial two pairs of brackets are balanced. But when you see, the opening bracket at the fourth index doesn't have its corresponding closing bracket which makes it imbalanced and in turn, making the whole expression imbalanced. Hence the output prints 'false'."
   ]
  },
  {
   "cell_type": "code",
   "execution_count": 18,
   "metadata": {},
   "outputs": [
    {
     "name": "stdout",
     "output_type": "stream",
     "text": [
      "(()()())\n",
      "true\n"
     ]
    }
   ],
   "source": [
    "def isBalanced(string):\n",
    "    s = []\n",
    "    for char in string:\n",
    "        if char in \"({[\":\n",
    "            s.append(char)\n",
    "        elif char == \")\":\n",
    "            if not s or s[-1]!=\"(\":\n",
    "                return False\n",
    "            s.pop()\n",
    "        elif char == \"}\":\n",
    "            if not s or s[-1]!=\"{\":\n",
    "                return False\n",
    "            s.pop()\n",
    "        elif char == \"]\":\n",
    "            if not s or s[-1]!=\"[\":\n",
    "                return False\n",
    "            s.pop()\n",
    "    if not s:\n",
    "        return True\n",
    "    return False\n",
    "\n",
    "string = input()\n",
    "if isBalanced(string) :\n",
    "    print(\"true\")\n",
    "else :\n",
    "    print(\"false\")"
   ]
  },
  {
   "cell_type": "markdown",
   "metadata": {},
   "source": [
    "# Reverse Stack"
   ]
  },
  {
   "cell_type": "raw",
   "metadata": {},
   "source": [
    "You have been given two stacks that can store integers as the data. Out of the two given stacks, one is populated and the other one is empty. You are required to write a function that reverses the populated stack using the one which is empty.\n",
    "\n",
    "Input Format :\n",
    "The first line of input contains an integer N, denoting the total number of elements in the stack.\n",
    "The second line of input contains N integers separated by a single space, representing the order in which the elements are pushed into the stack.\n",
    "\n",
    "Output Format:\n",
    "The only line of output prints the order in which the stack elements are popped, all of them separated by a single space. \n",
    "\n",
    "Note:\n",
    "You are not required to print the expected output explicitly, it has already been taken care of. Just make the changes in the input stack itself.\n",
    "\n",
    "Constraints:\n",
    "1 <= N <= 10^3\n",
    "-2^31 <= data <= 2^31 - 1\n",
    "\n",
    "Time Limit: 1sec \n",
    "\n",
    "Sample Input 1:\n",
    "6\n",
    "1 2 3 4 5 10\n",
    "Note:\n",
    "Here, 10 is at the top of the stack.\n",
    "Sample Output 1:\n",
    "1 2 3 4 5 10\n",
    "Note:\n",
    "Here, 1 is at the top of the stack.\n",
    "\n",
    "Sample Input 2:\n",
    "5\n",
    "2 8 15 1 10\n",
    "Sample Output 2:\n",
    "2 8 15 1 10"
   ]
  },
  {
   "cell_type": "code",
   "execution_count": 19,
   "metadata": {},
   "outputs": [
    {
     "name": "stdout",
     "output_type": "stream",
     "text": [
      "5\n",
      "2 8 15 1 10\n",
      "2 8 15 1 10 "
     ]
    }
   ],
   "source": [
    "def reverseStack(s1, s2):\n",
    "    if len(s1) <=0:\n",
    "        return\n",
    "    \n",
    "    while len(s1)!=1:\n",
    "        s2.append(s1.pop())\n",
    "        \n",
    "    le = s1.pop()\n",
    "    \n",
    "    while len(s2)!=0:\n",
    "        s1.append(s2.pop())\n",
    "    \n",
    "    reverseStack(s1,s2)\n",
    "    s1.append(le)\n",
    "\n",
    "\n",
    "from sys import setrecursionlimit\n",
    "setrecursionlimit(11000)\n",
    "n = int(input())\n",
    "s1 = [int(ele) for ele in input().split()]\n",
    "s2 = []\n",
    "reverseStack(s1,s2)\n",
    "while(len(s1) !=0):\n",
    "    print(s1.pop(),end= ' ') "
   ]
  },
  {
   "cell_type": "markdown",
   "metadata": {},
   "source": [
    "# Check redundant brackets"
   ]
  },
  {
   "cell_type": "raw",
   "metadata": {},
   "source": [
    "For a given expression in the form of a string, find if there exist any redundant brackets or not. It is given that the expression contains only rounded brackets or parenthesis and the input expression will always be balanced.\n",
    "A pair of the bracket is said to be redundant when a sub-expression is surrounded by unnecessary or needless brackets.\n",
    "\n",
    "Example:\n",
    "Expression: (a+b)+c\n",
    "Since there are no needless brackets, hence, the output must be 'false'.\n",
    "\n",
    "Expression: ((a+b))\n",
    "The expression can be reduced to (a+b). Hence the expression has redundant brackets and the output will be 'true'.\n",
    "\n",
    "Note:\n",
    "You will not get a partial score for this problem. You will get marks only if all the test cases are passed.\n",
    "\n",
    "Input Format :\n",
    "The first and the only line of input contains a string expression, without any spaces in between.\n",
    "\n",
    "Output Format :\n",
    "The first and the only line of output will print either 'true' or 'false'(without the quotes) denoting whether the input expression contains redundant brackets or not.\n",
    "\n",
    "Note:\n",
    "You are not required to print the expected result. It has already been taken care of.\n",
    "\n",
    "Constraints:\n",
    "0 <= N <= 10^6\n",
    "Where N is the length of the expression.\n",
    "\n",
    "Time Limit: 1 second\n",
    "\n",
    "Sample Input 1:\n",
    "a+(b)+c \n",
    "Sample Output 1:\n",
    "true\n",
    "Explanation:\n",
    "The expression can be reduced to a+b+c. Hence, the brackets are redundant.\n",
    "\n",
    "Sample Input 2:\n",
    "(a+b)\n",
    "Sample Output 2:\n",
    "false"
   ]
  },
  {
   "cell_type": "code",
   "execution_count": null,
   "metadata": {},
   "outputs": [],
   "source": [
    "# code"
   ]
  },
  {
   "cell_type": "markdown",
   "metadata": {},
   "source": [
    "# Stock Span"
   ]
  },
  {
   "cell_type": "raw",
   "metadata": {},
   "source": [
    "Afzal has been working with an organization called 'Money Traders' for the past few years. The organization is into the money trading business. His manager assigned him a task. For a given array/list of stock's prices for N days, find the stock's span for each day.\n",
    "The span of the stock's price today is defined as the maximum number of consecutive days(starting from today and going backwards) for which the price of the stock was less than today's price.\n",
    "For example, if the price of a stock over a period of 7 days are [100, 80, 60, 70, 60, 75, 85], then the stock spans will be [1, 1, 1, 2, 1, 4, 6].\n",
    "\n",
    "Explanation:\n",
    "On the sixth day when the price of the stock was 75, the span came out to be 4, because the last 4 prices(including the current price of 75) were less than the current or the sixth day's price.\n",
    "\n",
    "Similarly, we can deduce the remaining results.\n",
    "Afzal has to return an array/list of spans corresponding to each day's stock's price. Help him to achieve the task.\n",
    "\n",
    "Input Format:\n",
    "The first line of input contains an integer N, denoting the total number of days.\n",
    "\n",
    "The second line of input contains the stock prices of each day. A single space will separate them.\n",
    "\n",
    "Output Format:\n",
    "The only line of output will print the span for each day's stock price. A single space will separate them.\n",
    "Note:\n",
    "You are not required to print the expected output explicitly. It has already been taken care of. \n",
    "\n",
    "Constraints:\n",
    "0 <= N <= 10^7\n",
    "1 <= X <= 10^9\n",
    "Where X denotes the stock's price for a day.\n",
    "\n",
    "Time Limit: 1 second\n",
    "\n",
    "Sample Input 1:\n",
    "4\n",
    "10 10 10 10\n",
    "Sample Output 1:\n",
    "1 1 1 1 \n",
    "\n",
    "Sample Input 2:\n",
    "8\n",
    "60 70 80 100 90 75 80 120\n",
    "Sample Output 2:\n",
    "1 2 3 4 1 1 2 8 "
   ]
  },
  {
   "cell_type": "code",
   "execution_count": null,
   "metadata": {},
   "outputs": [],
   "source": [
    "# code"
   ]
  },
  {
   "cell_type": "markdown",
   "metadata": {},
   "source": [
    "# Minimum Bracket Reversal"
   ]
  },
  {
   "cell_type": "raw",
   "metadata": {},
   "source": [
    "For a given expression in the form of a string, find the minimum number of brackets that can be reversed in order to make the expression balanced. The expression will only contain curly brackets.\n",
    "If the expression can't be balanced, return -1.\n",
    "\n",
    "Example:\n",
    "Expression: {{{{\n",
    "If we reverse the second and the fourth opening brackets, the whole expression will get balanced. Since we have to reverse two brackets to make the expression balanced, the expected output will be 2.\n",
    "\n",
    "Expression: {{{\n",
    "In this example, even if we reverse the last opening bracket, we would be left with the first opening bracket and hence will not be able to make the expression balanced and the output will be -1.\n",
    "\n",
    "Input Format :\n",
    "The first and the only line of input contains a string expression, without any spaces in between.\n",
    "\n",
    "Output Format :\n",
    "The only line of output will print the number of reversals required to balance the whole expression. Prints -1, otherwise.\n",
    "Note:\n",
    "You don't have to print anything. It has already been taken care of.\n",
    "\n",
    "Constraints:\n",
    "0 <= N <= 10^6\n",
    "Where N is the length of the expression.\n",
    "\n",
    "Time Limit: 1sec\n",
    "\n",
    "Sample Input 1:\n",
    "{{{\n",
    "Sample Output 1:\n",
    "-1\n",
    "\n",
    "Sample Input 2:\n",
    "{{{{}}\n",
    "Sample Output 2:\n",
    "1"
   ]
  },
  {
   "cell_type": "code",
   "execution_count": 22,
   "metadata": {},
   "outputs": [],
   "source": [
    "# code"
   ]
  },
  {
   "cell_type": "code",
   "execution_count": null,
   "metadata": {},
   "outputs": [],
   "source": []
  }
 ],
 "metadata": {
  "kernelspec": {
   "display_name": "Python 3",
   "language": "python",
   "name": "python3"
  },
  "language_info": {
   "codemirror_mode": {
    "name": "ipython",
    "version": 3
   },
   "file_extension": ".py",
   "mimetype": "text/x-python",
   "name": "python",
   "nbconvert_exporter": "python",
   "pygments_lexer": "ipython3",
   "version": "3.7.2"
  }
 },
 "nbformat": 4,
 "nbformat_minor": 4
}
