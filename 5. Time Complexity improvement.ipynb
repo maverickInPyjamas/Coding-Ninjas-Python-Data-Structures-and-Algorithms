{
 "cells": [
  {
   "cell_type": "markdown",
   "metadata": {},
   "source": [
    "# This contains :-\n",
    "\n",
    "1. Power of a Number\n",
    "2. Array Intersection\n",
    "3. Array Equilibrium Index\n",
    "4. Find the Unique element\n",
    "5. Duplicate in array\n",
    "6. pair sum in array\n",
    "7. Rotate array"
   ]
  },
  {
   "cell_type": "markdown",
   "metadata": {},
   "source": [
    "## Power of a Number"
   ]
  },
  {
   "cell_type": "raw",
   "metadata": {},
   "source": [
    "Write a program to find x to the power n (i.e. x^n). Take x and n from the user. You need to return the answer.\n",
    "Do this recursively.\n",
    "\n",
    "Input format :\n",
    "Two integers x and n (separated by space)\n",
    "\n",
    "Output Format :\n",
    "x^n (i.e. x raise to the power n)\n",
    "\n",
    "Constraints :\n",
    "1 <= x <= 30\n",
    "0 <= n <= 30\n",
    "\n",
    "Sample Input 1 :\n",
    "3 4\n",
    "\n",
    "Sample Output 1 :\n",
    "81\n",
    "\n",
    "Sample Input 2 :\n",
    "2 5\n",
    "\n",
    "Sample Output 2 :\n",
    "32"
   ]
  },
  {
   "cell_type": "code",
   "execution_count": 2,
   "metadata": {},
   "outputs": [
    {
     "name": "stdout",
     "output_type": "stream",
     "text": [
      "5 5\n",
      "3125\n"
     ]
    }
   ],
   "source": [
    "def power(x, n):\n",
    "    \n",
    "    if n is 0:\n",
    "        return 1\n",
    "    \n",
    "    ans = power(x, n//2)\n",
    "    \n",
    "    if n%2 is 0:\n",
    "        return ans*ans\n",
    "    else :\n",
    "        return x*ans*ans\n",
    "\n",
    "x, n = [int(i) for i in input().strip().split()]\n",
    "print(power(x, n))"
   ]
  },
  {
   "cell_type": "markdown",
   "metadata": {},
   "source": [
    "## Array intersection"
   ]
  },
  {
   "cell_type": "raw",
   "metadata": {},
   "source": [
    "You have been given two integer arrays/list(ARR1 and ARR2) of size N and M, respectively. You need to print their intersection; An intersection for this problem can be defined when both the arrays/lists contain a particular value or to put it in other words, when there is a common value that exists in both the arrays/lists.\n",
    "\n",
    "Note :\n",
    "Input arrays/lists can contain duplicate elements.\n",
    "\n",
    "The intersection elements printed would be in the order they appear in the first sorted array/list(ARR1).\n",
    "\n",
    "Input format :\n",
    "The first line contains an Integer 't' which denotes the number of test cases or queries to be run. Then the test cases follow.\n",
    "The first line of each test case or query contains an integer 'N' representing the size of the first array/list.\n",
    "The second line contains 'N' single space separated integers representing the elements of the first the array/list.\n",
    "The third line contains an integer 'M' representing the size of the second array/list.\n",
    "The fourth line contains 'M' single space separated integers representing the elements of the second array/list.\n",
    "\n",
    "Output format :\n",
    "For each test case, print the intersection elements in a row, separated by a single space.\n",
    "Output for every test case will be printed in a separate line.\n",
    "\n",
    "Constraints :\n",
    "1 <= t <= 10^2\n",
    "0 <= N <= 10^6\n",
    "0 <= M <= 10^6\n",
    "\n",
    "Time Limit: 1 sec \n",
    "\n",
    "Sample Input 1 :\n",
    "2\n",
    "6\n",
    "2 6 8 5 4 3\n",
    "4\n",
    "2 3 4 7 \n",
    "2\n",
    "10 10\n",
    "1\n",
    "10\n",
    "\n",
    "Sample Output 1 :\n",
    "2 3 4\n",
    "10\n",
    "\n",
    "Sample Input 2 :\n",
    "1\n",
    "4\n",
    "2 6 1 2\n",
    "5\n",
    "1 2 3 4 2\n",
    "\n",
    "Sample Output 2 :\n",
    "1 2 2\n",
    "\n",
    "Explanation for Sample Output 2 :\n",
    "Since, both input arrays have two '2's, the intersection of the arrays also have two '2's. The first '2' of first array matches with the first '2' of the second array. Similarly, the second '2' of the first array matches with the second '2' if the second array."
   ]
  },
  {
   "cell_type": "code",
   "execution_count": 6,
   "metadata": {},
   "outputs": [
    {
     "name": "stdout",
     "output_type": "stream",
     "text": [
      "2\n",
      "6\n",
      "2 6 8 5 4 3\n",
      "4\n",
      "2 3 4 7\n",
      "2 3 4 2\n",
      "10 10\n",
      "1\n",
      "10\n",
      "10 "
     ]
    }
   ],
   "source": [
    "\n",
    "def print_intersection(arr1, size1, arr2, size2):\n",
    "    arr1.sort()\n",
    "    arr2.sort()\n",
    "    \n",
    "    i = 0\n",
    "    j = 0\n",
    "    \n",
    "    ans = []\n",
    "    \n",
    "    while i < size1 and j < size2:\n",
    "        if arr1[i] < arr2[j]:\n",
    "            i+=1\n",
    "        elif arr1[i] > arr2[j]:\n",
    "            j+=1\n",
    "        else :\n",
    "            ans.append(arr1[i])\n",
    "            i+=1\n",
    "            j+=1\n",
    "    \n",
    "    return ans\n",
    "\n",
    "\n",
    "t = int(input())\n",
    "for i in range(t):\n",
    "    size1 = int(input())\n",
    "    arr1 = [int(i) for i in input().strip().split()]\n",
    "    size2 = int(input())\n",
    "    arr2 = [int(i) for i in input().strip().split()]\n",
    "    \n",
    "    ans = print_intersection(arr1, size1, arr2, size2)\n",
    "    \n",
    "    for ele in ans :\n",
    "        print(ele, end = \" \")"
   ]
  },
  {
   "cell_type": "markdown",
   "metadata": {},
   "source": [
    "## Array Equilibrium index"
   ]
  },
  {
   "cell_type": "raw",
   "metadata": {},
   "source": [
    "For a given array/list(ARR) of size 'N,' find and return the 'Equilibrium Index' of the array/list.\n",
    "Equilibrium Index of an array/list is an index 'i' such that the sum of elements at indices [0 to (i - 1)] is equal to the sum of elements at indices [(i + 1) to (N-1)]. One thing to note here is, the item at the index 'i' is not included in either part.\n",
    "If more than one equilibrium indices are present, then the index appearing first in left to right fashion should be returned. Negative one(-1) if no such index is present.\n",
    "\n",
    "Example:\n",
    "Let's consider an array/list Arr = [2, 3, 10, -10, 4, 2, 9]  of size, N = 7.\n",
    "There exist two equilibrium indices, one at 2 and another at 3.\n",
    "At index 2, the sum of all the elements to the left, [2 + 3] is 5, and the elements to its right, [-10 + 4 + 2 + 9] is also 5. Hence index 2 is an equilibrium index according to the condition we want to achieve. Mind it that we haven't included the item at index 2, which is 10, to either of the parts.\n",
    "Similarly, we can see at index 3, the elements to its left sum up to 15 and to the right, sum up to 15 either. \n",
    "Since index 2 comes early in the order, left to right, the answer would be 2.\n",
    "\n",
    "Input Format :\n",
    "The first line contains an Integer 't' which denotes the number of test cases or queries to be run. Then the test cases follow.\n",
    "The first line of each test case or query contains an integer 'N' representing the size of the first array/list.\n",
    "The second line contains 'N' single space separated integers representing the elements of the array/list\n",
    "\n",
    "Output Format :\n",
    "For each test case, print the 'Equilibrium Index'.\n",
    "Output for every test case will be printed in a separate line.\n",
    "\n",
    "Constraints :\n",
    "1 <= t <= 10^2\n",
    "0 <= N <= 10^6\n",
    "\n",
    "Time Limit: 1 sec \n",
    "\n",
    "Sample Input 1 :\n",
    "1\n",
    "5\n",
    "1 4 9 3 2\n",
    "\n",
    "Sample Output 1 :\n",
    "2\n",
    "\n",
    "Sample Input 2 :\n",
    "2\n",
    "3\n",
    "1 4 6\n",
    "3\n",
    "1 -1 4\n",
    "\n",
    "Sample Output 2 :\n",
    "-1\n",
    "2"
   ]
  },
  {
   "cell_type": "code",
   "execution_count": 8,
   "metadata": {},
   "outputs": [
    {
     "name": "stdout",
     "output_type": "stream",
     "text": [
      "1\n",
      "5\n",
      "1 4 9 3 2\n",
      "2\n"
     ]
    }
   ],
   "source": [
    "\n",
    "def equilibrium_index(arr, n):\n",
    "    arr_sum = sum(arr)\n",
    "    ls = 0\n",
    "    i = 0\n",
    "    \n",
    "    while i < n:\n",
    "        rs = arr_sum - ls - arr[i]\n",
    "        if rs is ls :\n",
    "            return i\n",
    "        ls = ls + arr[i]\n",
    "        i+=1\n",
    "    return -1\n",
    "\n",
    "\n",
    "t = int(input())\n",
    "\n",
    "for i in range(t):\n",
    "    n = int(input())\n",
    "    arr = [int(i) for i in input().strip().split()]\n",
    "    ind = equilibrium_index(arr, n)\n",
    "    print(ind)"
   ]
  },
  {
   "cell_type": "markdown",
   "metadata": {},
   "source": [
    "## Find the unique Element"
   ]
  },
  {
   "cell_type": "raw",
   "metadata": {},
   "source": [
    "You have been given an integer array/list(ARR) of size N. Where N is equal to [2M + 1].\n",
    "Now, in the given array/list, 'M' numbers are present twice and one number is present only once.\n",
    "You need to find and return that number which is unique in the array/list.\n",
    "\n",
    "Note:\n",
    "Unique element is always present in the array/list according to the given condition.\n",
    "\n",
    "Input format :\n",
    "The first line contains an Integer 't' which denotes the number of test cases or queries to be run. Then the test cases follow.\n",
    "First line of each test case or query contains an integer 'N' representing the size of the array/list.\n",
    "Second line contains 'N' single space separated integers representing the elements in the array/list.\n",
    "\n",
    "Output Format :\n",
    "For each test case, print the unique element present in the array.\n",
    "Output for every test case will be printed in a separate line.\n",
    "\n",
    "Constraints :\n",
    "1 <= t <= 10^2\n",
    "0 <= N <= 10^6\n",
    "\n",
    "Time Limit: 1 sec\n",
    "\n",
    "Sample Input 1:\n",
    "1\n",
    "7\n",
    "2 3 1 6 3 6 2\n",
    "\n",
    "Sample Output 1:\n",
    "1\n",
    "\n",
    "Sample Input 2:\n",
    "2\n",
    "5\n",
    "2 4 7 2 7\n",
    "9\n",
    "1 3 1 3 6 6 7 10 7\n",
    "\n",
    "Sample Output 2:\n",
    "4\n",
    "10"
   ]
  },
  {
   "cell_type": "code",
   "execution_count": 9,
   "metadata": {},
   "outputs": [
    {
     "name": "stdout",
     "output_type": "stream",
     "text": [
      "2\n",
      "5\n",
      "2 4 7 2 7\n",
      "4\n",
      "9\n",
      "1 3 1 3 6 6 7 10 7\n",
      "10\n"
     ]
    }
   ],
   "source": [
    "\n",
    "def unique_element(arr, n):\n",
    "    ans = 0\n",
    "    for ele in arr:\n",
    "        ans = ans^ele\n",
    "    return ans\n",
    "\n",
    "\n",
    "t = int(input())\n",
    "\n",
    "for i in range(t):\n",
    "    n = int(input())\n",
    "    arr = [int(i) for i in input().strip().split()]\n",
    "    print(unique_element(arr, n))"
   ]
  },
  {
   "cell_type": "markdown",
   "metadata": {},
   "source": [
    "## Duplicate in array"
   ]
  },
  {
   "cell_type": "raw",
   "metadata": {},
   "source": [
    "You have been given an integer array/list(ARR) of size N which contains numbers from 0 to (N - 2). Each number is present at least once. That is, if N = 5, the array/list constitutes values ranging from 0 to 3, and among these, there is a single integer value that is present twice. You need to find and return that duplicate number present in the array.\n",
    "\n",
    "Note :\n",
    "Duplicate number is always present in the given array/list.\n",
    "\n",
    "Input format :\n",
    "The first line contains an Integer 't' which denotes the number of test cases or queries to be run. Then the test cases follow.\n",
    "First line of each test case or query contains an integer 'N' representing the size of the array/list.\n",
    "Second line contains 'N' single space separated integers representing the elements in the array/list.\n",
    "\n",
    "Output Format :\n",
    "For each test case, print the duplicate element in the array/list.\n",
    "Output for every test case will be printed in a separate line.\n",
    "\n",
    "Constraints :\n",
    "1 <= t <= 10^2\n",
    "0 <= N <= 10^6\n",
    "\n",
    "Time Limit: 1 sec\n",
    "\n",
    "Sample Input 1:\n",
    "1\n",
    "9\n",
    "0 7 2 5 4 7 1 3 6\n",
    "\n",
    "Sample Output 1:\n",
    "7\n",
    "\n",
    "Sample Input 2:\n",
    "2\n",
    "5\n",
    "0 2 1 3 1\n",
    "7\n",
    "0 3 1 5 4 3 2\n",
    "\n",
    "Sample Output 2:\n",
    "1\n",
    "3"
   ]
  },
  {
   "cell_type": "code",
   "execution_count": 11,
   "metadata": {},
   "outputs": [
    {
     "name": "stdout",
     "output_type": "stream",
     "text": [
      "2\n",
      "5\n",
      "0 2 1 3 1\n",
      "1\n",
      "7\n",
      "0 3 1 5 4 3 2\n",
      "3\n"
     ]
    }
   ],
   "source": [
    "\n",
    "def duplicate_element(arr, n):\n",
    "    x = sum(arr)\n",
    "    y = ((n-1)*(n-2))//2\n",
    "    return x - y\n",
    "\n",
    "\n",
    "t = int(input())\n",
    "\n",
    "for i in range(t):\n",
    "    n = int(input())\n",
    "    arr = [int(i) for i in input().strip().split()]\n",
    "    print(duplicate_element(arr, n))\n"
   ]
  },
  {
   "cell_type": "markdown",
   "metadata": {},
   "source": [
    "## Pair sum in array"
   ]
  },
  {
   "cell_type": "raw",
   "metadata": {},
   "source": [
    "You have been given an integer array/list(ARR) and a number 'num'. Find and return the total number of pairs in the array/list which sum to 'num'.\n",
    "\n",
    "Note:\n",
    "Given array/list can contain duplicate elements. \n",
    "\n",
    "Input format :\n",
    "The first line contains an Integer 't' which denotes the number of test cases or queries to be run. Then the test cases follow.\n",
    "First line of each test case or query contains an integer 'N' representing the size of the first array/list.\n",
    "Second line contains 'N' single space separated integers representing the elements in the array/list.\n",
    "Third line contains an integer 'num'.\n",
    "\n",
    "Output format :\n",
    "For each test case, print the total number of pairs present in the array/list.\n",
    "Output for every test case will be printed in a separate line.\n",
    "\n",
    "Constraints :\n",
    "1 <= t <= 10^2\n",
    "0 <= N <= 10^4\n",
    "0 <= num <= 10^9\n",
    "\n",
    "Time Limit: 1 sec\n",
    "\n",
    "Sample Input 1:\n",
    "1\n",
    "9\n",
    "1 3 6 2 5 4 3 2 4\n",
    "7\n",
    "\n",
    "Sample Output 1:\n",
    "7\n",
    "\n",
    "Sample Input 2:\n",
    "2\n",
    "9\n",
    "1 3 6 2 5 4 3 2 4\n",
    "12\n",
    "6\n",
    "2 8 10 5 -2 5\n",
    "10\n",
    "\n",
    "Sample Output 2:\n",
    "0\n",
    "2\n",
    "\n",
    "Explanation for Input 2:\n",
    "Since there doesn't exist any pair with sum equal to 12 for the first query, we print 0.\n",
    "For the second query, we have 2 pairs in total that sum up to 10. They are, (2, 8) and (5, 5)."
   ]
  },
  {
   "cell_type": "code",
   "execution_count": 14,
   "metadata": {},
   "outputs": [
    {
     "name": "stdout",
     "output_type": "stream",
     "text": [
      "1\n",
      "9\n",
      "1 3 6 2 5 4 3 2 4\n",
      "7\n",
      "7\n",
      "[1, 6]\n",
      "[2, 5]\n",
      "[2, 5]\n",
      "[3, 4]\n",
      "[3, 4]\n",
      "[3, 4]\n",
      "[3, 4]\n"
     ]
    }
   ],
   "source": [
    "def pair_sum(arr, d):\n",
    "    arr.sort()\n",
    "    i = 0\n",
    "    j=len(arr)-1\n",
    "    ans = 0\n",
    "    ans_arr = []\n",
    "    \n",
    "    while i<j:\n",
    "        if arr[i] + arr[j] == d:\n",
    "            m = arr.count(arr[i])\n",
    "            n = arr.count(arr[j])\n",
    "            \n",
    "            if m==n and (j-i)+1==m:\n",
    "                for k in range(0,(n*(n-1)//2)):\n",
    "                    ans_arr.append([arr[i], arr[j]])\n",
    "                    ans+=1\n",
    "                break\n",
    "            else:    \n",
    "                for k in range(0,m*n):\n",
    "                    ans_arr.append([arr[i], arr[j]])\n",
    "                    ans+=1\n",
    "                i=i+m\n",
    "                j=j-n\n",
    "        elif arr[i] + arr[j] < d:\n",
    "            i+=1\n",
    "        else:\n",
    "            j-=1\n",
    "    return ans_arr, ans\n",
    "            \n",
    "t = int(input())\n",
    "\n",
    "for i in range(t):\n",
    "    n = int(input())\n",
    "    arr = [int(i) for i in input().strip().split()]\n",
    "    d = int(input())\n",
    "    ans_arr, ans = pair_sum(arr, d)\n",
    "    print(ans)\n",
    "    for ele in ans_arr:\n",
    "        print(ele)"
   ]
  },
  {
   "cell_type": "markdown",
   "metadata": {},
   "source": [
    "## Rotate Array"
   ]
  },
  {
   "cell_type": "raw",
   "metadata": {},
   "source": [
    "You have been given a random integer array/list(ARR) of size N. Write a function that rotates the given array/list by D elements(towards the left).\n",
    "\n",
    "Note: Change in the input array/list itself. You don't need to return or print the elements.\n",
    "\n",
    "Input format :\n",
    "The first line contains an Integer 't' which denotes the number of test cases or queries to be run. Then the test cases follow.\n",
    "First line of each test case or query contains an integer 'N' representing the size of the array/list.\n",
    "Second line contains 'N' single space separated integers representing the elements in the array/list.\n",
    "Third line contains the value of 'D' by which the array/list needs to be rotated.\n",
    "\n",
    "Output Format :\n",
    "For each test case, print the rotated array/list in a row separated by a single space.\n",
    "Output for every test case will be printed in a separate line.\n",
    "\n",
    "Constraints :\n",
    "1 <= t <= 10^4\n",
    "0 <= N <= 10^6\n",
    "0 <= D <= N\n",
    "\n",
    "Time Limit: 1 sec\n",
    "\n",
    "Sample Input 1:\n",
    "1\n",
    "7\n",
    "1 2 3 4 5 6 7\n",
    "2\n",
    "\n",
    "Sample Output 1:\n",
    "3 4 5 6 7 1 2\n",
    "\n",
    "Sample Input 2:\n",
    "2\n",
    "7\n",
    "1 2 3 4 5 6 7\n",
    "0\n",
    "4\n",
    "1 2 3 4\n",
    "2\n",
    "\n",
    "Sample Output 2:\n",
    "1 2 3 4 5 6 7\n",
    "3 4 1 2"
   ]
  },
  {
   "cell_type": "code",
   "execution_count": 15,
   "metadata": {},
   "outputs": [
    {
     "name": "stdout",
     "output_type": "stream",
     "text": [
      "1\n",
      "4\n",
      "1 2 3 4\n",
      "2\n",
      "3 4 1 2\n"
     ]
    }
   ],
   "source": [
    "\n",
    "def rotate_array(arr, d):\n",
    "    return arr[d:] + arr[:d]\n",
    "\n",
    "\n",
    "t = int(input())\n",
    "\n",
    "for i in range(t):\n",
    "    n = int(input())\n",
    "    arr = [int(i) for i in input().strip().split()]\n",
    "    d = int(input())\n",
    "    print(*rotate_array(arr, d))"
   ]
  }
 ],
 "metadata": {
  "kernelspec": {
   "display_name": "Python 3",
   "language": "python",
   "name": "python3"
  },
  "language_info": {
   "codemirror_mode": {
    "name": "ipython",
    "version": 3
   },
   "file_extension": ".py",
   "mimetype": "text/x-python",
   "name": "python",
   "nbconvert_exporter": "python",
   "pygments_lexer": "ipython3",
   "version": "3.7.2"
  }
 },
 "nbformat": 4,
 "nbformat_minor": 4
}
