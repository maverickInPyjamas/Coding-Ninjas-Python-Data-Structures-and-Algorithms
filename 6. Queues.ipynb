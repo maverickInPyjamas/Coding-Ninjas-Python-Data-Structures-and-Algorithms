{
 "cells": [
  {
   "cell_type": "markdown",
   "metadata": {},
   "source": [
    "# This Contains :-\n",
    "\n",
    "1. Queue using arrays\n",
    "2. Queue using Linked List\n",
    "3. Queue using 2 Stacks\n",
    "4. Stack Using 2 Queues\n",
    "5. Reverse Queue\n",
    "6. Reverse first K elements"
   ]
  },
  {
   "cell_type": "markdown",
   "metadata": {},
   "source": [
    "# Queue using arrays"
   ]
  },
  {
   "cell_type": "code",
   "execution_count": 5,
   "metadata": {},
   "outputs": [],
   "source": [
    "class Queue():\n",
    "    def __init__(self):\n",
    "        self.__a = []\n",
    "        self.__count = 0\n",
    "        self.__front = 0\n",
    "    \n",
    "    def enqueue(self, data):\n",
    "        self.__a.append(data)\n",
    "        self.__count+=1\n",
    "    \n",
    "    def dequeue(self):\n",
    "        if self.__count == 0:\n",
    "            return -1\n",
    "        \n",
    "        element = self.__a[self.__front]\n",
    "        self.__front+=1\n",
    "        self.__count -=1\n",
    "        return element\n",
    "    \n",
    "    def front(self):\n",
    "        if self.__count == 0:\n",
    "            return -1\n",
    "        return self.__a[self.__front]\n",
    "    \n",
    "    def size(self):\n",
    "        return self.__count\n",
    "\n",
    "    def isEmpty(self):\n",
    "        return self.__count == 0"
   ]
  },
  {
   "cell_type": "code",
   "execution_count": 6,
   "metadata": {},
   "outputs": [
    {
     "name": "stdout",
     "output_type": "stream",
     "text": [
      "1\n",
      "2\n",
      "3\n",
      "4\n"
     ]
    }
   ],
   "source": [
    "q = Queue()\n",
    "q.enqueue(1)\n",
    "q.enqueue(2)\n",
    "q.enqueue(3)\n",
    "q.enqueue(4)\n",
    "\n",
    "while not q.isEmpty():\n",
    "    print(q.dequeue())\n",
    "    "
   ]
  },
  {
   "cell_type": "markdown",
   "metadata": {},
   "source": [
    "# Queue using LL"
   ]
  },
  {
   "cell_type": "code",
   "execution_count": 11,
   "metadata": {},
   "outputs": [],
   "source": [
    "class Node():\n",
    "    def __init__(self, data):\n",
    "        self.data = data\n",
    "        self.next = None\n",
    "\n",
    "\n",
    "class queueLL():\n",
    "    def __init__(self):\n",
    "        self.__head = None\n",
    "        self.__tail = None\n",
    "        self.__count = 0\n",
    "    \n",
    "    def enqueue(self, data):\n",
    "        newNode = Node(data)\n",
    "        \n",
    "        if self.__head is None:\n",
    "            self.__head = newNode\n",
    "        else:\n",
    "            self.__tail.next = newNode\n",
    "        self.__tail = newNode\n",
    "        self.__count +=1\n",
    "        \n",
    "    def dequeue(self):\n",
    "        if self.__head is None:\n",
    "            return -1\n",
    "        element = self.__head.data\n",
    "        self.__head = self.__head.next\n",
    "        self.__count -=1\n",
    "        return element\n",
    "    \n",
    "    def front(self):\n",
    "        if self.__head is None:\n",
    "            return -1\n",
    "        return self.__head.data\n",
    "    \n",
    "    def size(self):\n",
    "        return self.__count\n",
    "    \n",
    "    def isEmpty(self):\n",
    "        return self.__count == 0\n",
    "            \n",
    "        "
   ]
  },
  {
   "cell_type": "code",
   "execution_count": 12,
   "metadata": {},
   "outputs": [
    {
     "name": "stdout",
     "output_type": "stream",
     "text": [
      "1\n",
      "2\n",
      "3\n",
      "4\n",
      "-1\n"
     ]
    }
   ],
   "source": [
    "q = queueLL()\n",
    "\n",
    "q.enqueue(1)\n",
    "q.enqueue(2)\n",
    "q.enqueue(3)\n",
    "q.enqueue(4)\n",
    "\n",
    "\n",
    "while not q.isEmpty():\n",
    "    print(q.dequeue())\n",
    "    \n",
    "print(q.front())\n"
   ]
  },
  {
   "cell_type": "markdown",
   "metadata": {},
   "source": [
    "# Queue Using 2 Stacks"
   ]
  },
  {
   "cell_type": "code",
   "execution_count": 16,
   "metadata": {},
   "outputs": [],
   "source": [
    "class queueUsing2Stacks():\n",
    "    def __init__(self):\n",
    "        self.__s1 = []\n",
    "        self.__s2 = []\n",
    "        \n",
    "    def enqueue(self, data):\n",
    "        while len(self.__s1)!=0:\n",
    "            self.__s2.append(self.__s1.pop())\n",
    "        self.__s1.append(data)\n",
    "        while len(self.__s2)!=0:\n",
    "            self.__s1.append(self.__s2.pop())\n",
    "        return\n",
    "        \n",
    "    \n",
    "    def dequeue(self):\n",
    "        if len(self.__s1) ==0:\n",
    "            return -1\n",
    "        return self.__s1.pop()\n",
    "        \n",
    "    def front(self):\n",
    "        if len(self.__s1) == 0:\n",
    "            return -1\n",
    "        return self.__s1[-1]\n",
    "        \n",
    "    def size(self):\n",
    "        return len(self.__s1)\n",
    "        \n",
    "    def isEmpty(self):\n",
    "        return self.size() == 0\n",
    "        "
   ]
  },
  {
   "cell_type": "code",
   "execution_count": 17,
   "metadata": {},
   "outputs": [
    {
     "name": "stdout",
     "output_type": "stream",
     "text": [
      "1\n",
      "2\n",
      "3\n",
      "4\n"
     ]
    }
   ],
   "source": [
    "a = queueUsing2Stacks()\n",
    "a.enqueue(1)\n",
    "a.enqueue(2)\n",
    "a.enqueue(3)\n",
    "a.enqueue(4)\n",
    "\n",
    "while not a.isEmpty():\n",
    "    print(a.dequeue())\n"
   ]
  },
  {
   "cell_type": "markdown",
   "metadata": {},
   "source": [
    "# Stack Using 2 Queues"
   ]
  },
  {
   "cell_type": "code",
   "execution_count": 1,
   "metadata": {},
   "outputs": [],
   "source": [
    "import queue\n",
    "class StackUsingQueues:\n",
    "    \n",
    "    def __init__(self):\n",
    "        self.q1 = queue.Queue()\n",
    "        self.q2 = queue.Queue()\n",
    "        \n",
    "        \n",
    "    def push(self,data):\n",
    "        self.q1.put(data)\n",
    "       \n",
    "\n",
    "    def pop(self):\n",
    "        while self.q1.qsize() is not 1:\n",
    "            self.q2.put(self.q1.get())\n",
    "        ans = self.q1.get()\n",
    "        self.q1, self.q2 = self.q2, self.q1\n",
    "        return ans\n",
    "    \n",
    "    \n",
    "    def top(self):\n",
    "        while self.q1.qsize() is not 1:\n",
    "            self.q2.put(self.q1.get())\n",
    "        ans = self.q1.get()\n",
    "        self.q2.put(ans)\n",
    "        self.q1, self.q2 = self.q2, self.q1\n",
    "        return ans\n",
    "       \n",
    "       \n",
    "    def getSize(self):\n",
    "        return self.q1.qsize()"
   ]
  },
  {
   "cell_type": "code",
   "execution_count": 3,
   "metadata": {},
   "outputs": [
    {
     "name": "stdout",
     "output_type": "stream",
     "text": [
      "4\n",
      "3\n"
     ]
    }
   ],
   "source": [
    "s = StackUsingQueues()\n",
    "s.push(1)\n",
    "s.push(2)\n",
    "s.push(3)\n",
    "s.push(4)\n",
    "print(s.getSize())\n",
    "s.pop()\n",
    "print(s.top())"
   ]
  },
  {
   "cell_type": "markdown",
   "metadata": {},
   "source": [
    "# Reverse queue"
   ]
  },
  {
   "cell_type": "code",
   "execution_count": 4,
   "metadata": {},
   "outputs": [
    {
     "name": "stdout",
     "output_type": "stream",
     "text": [
      "4 1 2 3 4 \n",
      "4 3 2 1 "
     ]
    }
   ],
   "source": [
    "import queue\n",
    "def reverseQueue(q1):\n",
    "    if q1.qsize() is 0:\n",
    "        return\n",
    "    ele = q1.get()\n",
    "    reverseQueue(q1)\n",
    "    q1.put(ele)\n",
    "\n",
    "from sys import setrecursionlimit\n",
    "setrecursionlimit(11000)\n",
    "li = [int(ele) for ele in (input().split()[1:])]\n",
    "q1 = queue.Queue()\n",
    "for ele in li:\n",
    "    q1.put(ele)\n",
    "reverseQueue(q1)\n",
    "while(q1.empty() is False):\n",
    "    print(q1.get(),end= ' ')"
   ]
  },
  {
   "cell_type": "markdown",
   "metadata": {},
   "source": [
    "# Reverse first K elements\n"
   ]
  },
  {
   "cell_type": "code",
   "execution_count": 23,
   "metadata": {},
   "outputs": [
    {
     "name": "stdout",
     "output_type": "stream",
     "text": [
      "5\n",
      "1 2 3 4 5\n",
      "3\n",
      "3\n",
      "2\n",
      "1\n",
      "4\n",
      "5\n"
     ]
    }
   ],
   "source": [
    "\n",
    "import queue\n",
    "\n",
    "def reverseQueue(q, k):\n",
    "    if k<=0 or q.qsize()<=1:\n",
    "        return \n",
    "    ele = q.get()\n",
    "    reverseQueue(q,k-1)\n",
    "    q.put(ele)\n",
    "    \n",
    "def reverseFirstK(q,k):\n",
    "    reverseQueue(q,k)\n",
    "    \n",
    "    for i in range(n-k):\n",
    "        q.put(q.get())\n",
    "        \n",
    "from sys import setrecursionlimit\n",
    "setrecursionlimit(11000)\n",
    "n = int(input())\n",
    "li = [int(ele) for ele in input().split()]\n",
    "q = queue.Queue()\n",
    "for ele in li:\n",
    "\tq.put(ele)\n",
    "k = int(input())\n",
    "reverseFirstK(q,k) \n",
    "while(q.qsize()>0):\n",
    "\tprint(q.get())\n",
    "\tn-=1"
   ]
  },
  {
   "cell_type": "code",
   "execution_count": null,
   "metadata": {},
   "outputs": [],
   "source": []
  }
 ],
 "metadata": {
  "kernelspec": {
   "display_name": "Python 3",
   "language": "python",
   "name": "python3"
  },
  "language_info": {
   "codemirror_mode": {
    "name": "ipython",
    "version": 3
   },
   "file_extension": ".py",
   "mimetype": "text/x-python",
   "name": "python",
   "nbconvert_exporter": "python",
   "pygments_lexer": "ipython3",
   "version": "3.7.2"
  }
 },
 "nbformat": 4,
 "nbformat_minor": 2
}
